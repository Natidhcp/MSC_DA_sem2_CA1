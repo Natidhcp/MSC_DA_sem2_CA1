{
 "cells": [
  {
   "cell_type": "markdown",
   "id": "ba62ecfe",
   "metadata": {},
   "source": [
    "# <center> Enhancing DDoS Attack Detection using Big Data"
   ]
  },
  {
   "cell_type": "markdown",
   "id": "403b49d1",
   "metadata": {},
   "source": [
    "<a class=\"anchor\" id=\"0.1\"></a>\n",
    "# Table of Contents\n",
    "\n",
    "### [0. Introduction](#0)\n",
    "* [**0.1 Notebook Settings/Requirements**](#0.0.1)\n",
    "\n",
    "### [1. Data Collection and Preprocessing](#1)\n",
    "* [**1.1 Data Load and DataFrame Creation**](#1.1)\n",
    "### [2. Exploratory data analysis (EDA)](#2)\n",
    "* [**2.1 Summary information about the DataFrame**](#2.1)\n",
    "* [**2.2 Features inspection**](#2.2)\n",
    "### [3. Machine Learning Model training](#3)\n",
    "* [**3.1 Transform the labels**](#3.1)\n",
    "* [**3.2 Split data**](#3.2)\n",
    "* [**3.3 Feature transformation**](#3.3)\n",
    "* [**3.4 Train model**](#3.4)\n",
    "### [4. Feature importance analysis](#4.)\n",
    "* [**4.1 Feature transformation**](#4.1)\n",
    "* [**4.2 Create a fitted pipeline model**](#4.2)\n",
    "* [**4.3 Visualise the result**](#4.5)\n",
    "### [5. Neural network implementation](#5)\n",
    "* [**5.1 Filtering features**](#5.1)\n",
    "* [**5.2 Feature transformation**](#5.2)\n",
    "* [**5.3 Train the model**](#5.4)\n",
    "* [**5.4 Assess the result**](#5.5)"
   ]
  },
  {
   "cell_type": "markdown",
   "id": "c800ee35",
   "metadata": {},
   "source": [
    "<a class=\"anchor\" id=\"0\"></a>\n",
    "## 0. Introduction\n",
    "[Back to Table of Contents](#0.1)"
   ]
  },
  {
   "cell_type": "markdown",
   "id": "3b200115",
   "metadata": {},
   "source": [
    "The project consists of 2 parts:\n",
    "1. DDoS attack detection using artificial intelegence \n",
    "\n",
    "You can find the code here\n",
    "\n",
    "https://github.com/Natidhcp/MSC_DA_sem2_CA1/blob/main/MSc_DA_CA1(No_BigData).ipynb\n",
    "\n",
    "2. Enhancing DDoS Attack Detection using Big Data (current Jupyter Notebook)"
   ]
  },
  {
   "cell_type": "markdown",
   "id": "64794d72",
   "metadata": {},
   "source": [
    "### IMPORTANT!\n",
    "\n",
    "The notebook follows the same rules and instructions as outlined in the main part, ensuring that it mirrors the essential code needed to accomplish the project goals."
   ]
  },
  {
   "cell_type": "markdown",
   "id": "f06fc284",
   "metadata": {},
   "source": [
    "<a class=\"anchor\" id=\"0.0.1\"></a>\n",
    "## 0.1. Notebook Settings/Requirements\n",
    "[Back to Table of Contents](#0.1)"
   ]
  },
  {
   "cell_type": "code",
   "execution_count": 1,
   "id": "41cb409e",
   "metadata": {
    "scrolled": true
   },
   "outputs": [
    {
     "data": {
      "text/html": [
       "\n",
       "        <div>\n",
       "            <p><b>SparkContext</b></p>\n",
       "\n",
       "            <p><a href=\"http://natalia-VirtualBox.station:4040\">Spark UI</a></p>\n",
       "\n",
       "            <dl>\n",
       "              <dt>Version</dt>\n",
       "                <dd><code>v3.4.2</code></dd>\n",
       "              <dt>Master</dt>\n",
       "                <dd><code>local[*]</code></dd>\n",
       "              <dt>AppName</dt>\n",
       "                <dd><code>PySparkShell</code></dd>\n",
       "            </dl>\n",
       "        </div>\n",
       "        "
      ],
      "text/plain": [
       "<SparkContext master=local[*] appName=PySparkShell>"
      ]
     },
     "execution_count": 1,
     "metadata": {},
     "output_type": "execute_result"
    }
   ],
   "source": [
    "sc"
   ]
  },
  {
   "cell_type": "markdown",
   "id": "da16da81",
   "metadata": {},
   "source": [
    "The SparkContext serves as the entry point for Apache Spark, facilitating interaction with distributed datasets. The Spark UI is a web-based tool for monitoring Spark application performance. The provided version (v3.4.2) denotes the Spark version, while Master (local[*]) indicates execution mode (local with all cores). AppName (PySparkShell) names the Spark application, here used interactively via the PySpark shell."
   ]
  },
  {
   "cell_type": "code",
   "execution_count": 2,
   "id": "6220d926",
   "metadata": {},
   "outputs": [
    {
     "data": {
      "text/plain": [
       "'local[*]'"
      ]
     },
     "execution_count": 2,
     "metadata": {},
     "output_type": "execute_result"
    }
   ],
   "source": [
    "sc.master"
   ]
  },
  {
   "cell_type": "markdown",
   "id": "7ff07cb5",
   "metadata": {},
   "source": [
    "sc.master specifies the execution mode for Apache Spark, such as local[*] for local mode with all available cores."
   ]
  },
  {
   "cell_type": "code",
   "execution_count": 3,
   "id": "d46ba3cf",
   "metadata": {},
   "outputs": [],
   "source": [
    "from pyspark.sql.types import *\n",
    "import matplotlib.pyplot as plt\n",
    "from pyspark.ml.classification import LogisticRegression\n",
    "from pyspark.ml.evaluation import BinaryClassificationEvaluator\n",
    "from pyspark.sql.types import StructType, StructField, StringType, IntegerType\n",
    "from pyspark.sql.functions import sum as spark_sum\n",
    "from pyspark.ml.feature import VectorAssembler\n",
    "from pyspark.sql.functions import col\n",
    "from pyspark.sql.functions import when\n",
    "from pyspark.ml.classification import RandomForestClassifier\n",
    "from pyspark.sql.types import StructType, StructField, StringType, FloatType\n",
    "from pyspark.sql.functions import col, format_number\n",
    "from pyspark.ml.feature import VectorAssembler\n",
    "from pyspark.ml.classification import MultilayerPerceptronClassifier\n",
    "from pyspark.ml.evaluation import MulticlassClassificationEvaluator\n",
    "from pyspark.ml import Pipeline\n",
    "import pyspark\n",
    "import time\n",
    "import warnings\n",
    "# Suppress warnings\n",
    "warnings.filterwarnings(\"ignore\")\n",
    "import logging\n",
    "# Suppress WARN messages\n",
    "log = logging.getLogger('py4j')\n",
    "log.setLevel(logging.ERROR)"
   ]
  },
  {
   "cell_type": "markdown",
   "id": "ae187d63",
   "metadata": {},
   "source": [
    "Necessary libraries imported for working with Apache Spark and machine learning tasks. It includes modules for defining data types, visualization, classification algorithms (Logistic Regression, Random Forest, Multilayer Perceptron), evaluation metrics, feature engineering, and pipelines. Additionally, it sets up configurations to suppress warnings and logs for a cleaner output during execution."
   ]
  },
  {
   "cell_type": "markdown",
   "id": "bc95edc3",
   "metadata": {},
   "source": [
    "The main libraries imported in the provided code are:\n",
    "\n",
    "* pyspark.sql.types: For defining data types.\n",
    "* matplotlib.pyplot: For visualization.\n",
    "* pyspark.ml.classification: For implementing classification algorithms like Logistic Regression, Random Forest, and Multilayer Perceptron.\n",
    "* pyspark.ml.evaluation: For evaluating model performance using metrics such as Binary Classification Evaluator and Multiclass Classification Evaluator.\n",
    "* pyspark.ml.feature: For feature engineering tasks like vector assembly.\n",
    "* pyspark.sql.functions: For performing operations on Spark DataFrames.\n",
    "* pyspark.ml: For building machine learning pipelines.\n",
    "* pyspark: The main Spark Python library."
   ]
  },
  {
   "cell_type": "markdown",
   "id": "f6c90872",
   "metadata": {},
   "source": [
    "<a class=\"anchor\" id=\"1\"></a>\n",
    "## 1. Data Collection and Preprocessing\n",
    "[Back to Table of Contents](#0.1)"
   ]
  },
  {
   "cell_type": "markdown",
   "id": "4b253215",
   "metadata": {},
   "source": [
    "Same data sample is used\n",
    "\n",
    "*see notebook provided above"
   ]
  },
  {
   "cell_type": "code",
   "execution_count": 4,
   "id": "c76c3927",
   "metadata": {},
   "outputs": [],
   "source": [
    "# Define schema\n",
    "schema = StructType([\n",
    "    StructField(\"Instruction\", StringType(), True),\n",
    "    StructField(\"Count\", IntegerType(), True),\n",
    "    StructField(\"AverageTime\", DoubleType(), True)\n",
    "])\n",
    "\n",
    "# Create an empty DataFrame with the defined schema\n",
    "instruction_execution_df = spark.createDataFrame([], schema)\n",
    "\n",
    "# Function to calculate and print execution time\n",
    "def print_execution_time(start_time, instruction):\n",
    "    global instruction_execution_df\n",
    "    global total_average_sum\n",
    "    \n",
    "    end_time = time.time()\n",
    "    execution_time = end_time - start_time\n",
    "    \n",
    "    instruction_row = spark.createDataFrame([(instruction, 1, execution_time)], ['Instruction', 'Count', 'AverageTime'])\n",
    "    \n",
    "    if instruction in [row[0] for row in instruction_execution_df.select(\"Instruction\").collect()]:\n",
    "        # If instruction is repeated, update the DataFrame values\n",
    "        instruction_execution_df = instruction_execution_df.withColumn(\"Count\", \n",
    "            when(col(\"Instruction\") == instruction, col(\"Count\") + 1).otherwise(col(\"Count\")))\n",
    "        instruction_execution_df = instruction_execution_df.withColumn(\"AverageTime\",\n",
    "            format_number(((col(\"AverageTime\") * col(\"Count\")) + execution_time) / (col(\"Count\") + 1), 2))\n",
    "        instruction_execution_df.show()\n",
    "        \n",
    "    else:\n",
    "        # If instruction is encountered for the first time, add it to the DataFrame\n",
    "        instruction_execution_df = instruction_execution_df.union(instruction_row)\n",
    "        instruction_execution_df.show()\n",
    "    \n",
    "    # Calculate total_average_sum after the conditional block\n",
    "    total_average_sum = instruction_execution_df.selectExpr(\"sum(AverageTime)\").collect()[0][0]"
   ]
  },
  {
   "cell_type": "markdown",
   "id": "02a54dbe",
   "metadata": {},
   "source": [
    "<a class=\"anchor\" id=\"1.1\"></a>\n",
    "## 1.1 Data Load and DataFrame Creation\n",
    "[Back to Table of Contents](#0.1)"
   ]
  },
  {
   "cell_type": "code",
   "execution_count": 5,
   "id": "f946af13",
   "metadata": {
    "scrolled": true
   },
   "outputs": [
    {
     "name": "stderr",
     "output_type": "stream",
     "text": [
      "                                                                                \r"
     ]
    },
    {
     "name": "stdout",
     "output_type": "stream",
     "text": [
      "+-----------+-----+-----------------+\n",
      "|Instruction|Count|      AverageTime|\n",
      "+-----------+-----+-----------------+\n",
      "|  Data Load|    1|41.91358709335327|\n",
      "+-----------+-----+-----------------+\n",
      "\n"
     ]
    },
    {
     "name": "stderr",
     "output_type": "stream",
     "text": [
      "                                                                                \r"
     ]
    }
   ],
   "source": [
    "# Initialize total_average_sum\n",
    "total_average_sum = 0.0\n",
    "\n",
    "# Start time\n",
    "start_time = time.time()\n",
    "\n",
    "# Read CSV files from HDFS\n",
    "df = spark.read.csv(\"hdfs://localhost:9000/user1/*.csv\", header=True, inferSchema=True)\n",
    "\n",
    "print_execution_time(start_time, 'Data Load')\n"
   ]
  },
  {
   "cell_type": "code",
   "execution_count": 6,
   "id": "0cedac23",
   "metadata": {
    "scrolled": false
   },
   "outputs": [
    {
     "name": "stdout",
     "output_type": "stream",
     "text": [
      "Sorted list of imported CSV files:\n",
      "hdfs://localhost:9000/user1/part-00000-363d1ba3-8ab5-4f96-bc25-4d5862db7cb9-c000.csv\n",
      "hdfs://localhost:9000/user1/part-00001-363d1ba3-8ab5-4f96-bc25-4d5862db7cb9-c000.csv\n",
      "hdfs://localhost:9000/user1/part-00002-363d1ba3-8ab5-4f96-bc25-4d5862db7cb9-c000.csv\n",
      "hdfs://localhost:9000/user1/part-00003-363d1ba3-8ab5-4f96-bc25-4d5862db7cb9-c000.csv\n",
      "hdfs://localhost:9000/user1/part-00004-363d1ba3-8ab5-4f96-bc25-4d5862db7cb9-c000.csv\n",
      "hdfs://localhost:9000/user1/part-00005-363d1ba3-8ab5-4f96-bc25-4d5862db7cb9-c000.csv\n",
      "hdfs://localhost:9000/user1/part-00006-363d1ba3-8ab5-4f96-bc25-4d5862db7cb9-c000.csv\n",
      "hdfs://localhost:9000/user1/part-00007-363d1ba3-8ab5-4f96-bc25-4d5862db7cb9-c000.csv\n",
      "hdfs://localhost:9000/user1/part-00008-363d1ba3-8ab5-4f96-bc25-4d5862db7cb9-c000.csv\n",
      "hdfs://localhost:9000/user1/part-00009-363d1ba3-8ab5-4f96-bc25-4d5862db7cb9-c000.csv\n",
      "hdfs://localhost:9000/user1/part-00010-363d1ba3-8ab5-4f96-bc25-4d5862db7cb9-c000.csv\n",
      "hdfs://localhost:9000/user1/part-00011-363d1ba3-8ab5-4f96-bc25-4d5862db7cb9-c000.csv\n",
      "hdfs://localhost:9000/user1/part-00012-363d1ba3-8ab5-4f96-bc25-4d5862db7cb9-c000.csv\n",
      "hdfs://localhost:9000/user1/part-00013-363d1ba3-8ab5-4f96-bc25-4d5862db7cb9-c000.csv\n",
      "hdfs://localhost:9000/user1/part-00014-363d1ba3-8ab5-4f96-bc25-4d5862db7cb9-c000.csv\n",
      "hdfs://localhost:9000/user1/part-00015-363d1ba3-8ab5-4f96-bc25-4d5862db7cb9-c000.csv\n"
     ]
    },
    {
     "name": "stderr",
     "output_type": "stream",
     "text": [
      "\r",
      "[Stage 9:====================================>                      (5 + 3) / 8]\r",
      "\r",
      "                                                                                \r"
     ]
    },
    {
     "name": "stdout",
     "output_type": "stream",
     "text": [
      "+-----------------+-----+------------------+\n",
      "|      Instruction|Count|       AverageTime|\n",
      "+-----------------+-----+------------------+\n",
      "|        Data Load|    1| 41.91358709335327|\n",
      "|Files Enumeration|    1|0.1537766456604004|\n",
      "+-----------------+-----+------------------+\n",
      "\n"
     ]
    },
    {
     "name": "stderr",
     "output_type": "stream",
     "text": [
      "                                                                                \r"
     ]
    }
   ],
   "source": [
    "# Start time\n",
    "start_time = time.time()\n",
    "\n",
    "# Extract the list of imported CSV files\n",
    "imported_files = df.inputFiles()\n",
    "\n",
    "# Sort the list of imported CSV files\n",
    "sorted_files = sorted(imported_files)\n",
    "\n",
    "# Print the sorted list of imported CSV files\n",
    "print(\"Sorted list of imported CSV files:\")\n",
    "for file_path in sorted_files:\n",
    "    print(file_path)\n",
    "\n",
    "print_execution_time(start_time, 'Files Enumeration')"
   ]
  },
  {
   "cell_type": "markdown",
   "id": "1cc53de7",
   "metadata": {},
   "source": [
    "<a class=\"anchor\" id=\"1.5\"></a>\n",
    "### * Data Collection and Preprocessing part *total execution time*\n",
    "[Back to Table of Contents](#0.1)"
   ]
  },
  {
   "cell_type": "code",
   "execution_count": 8,
   "id": "cd728701",
   "metadata": {
    "scrolled": false
   },
   "outputs": [
    {
     "name": "stdout",
     "output_type": "stream",
     "text": [
      "+------------------+--------------------+\n",
      "|        stage name|total execution time|\n",
      "+------------------+--------------------+\n",
      "|Data Preprocessing|           42.067364|\n",
      "+------------------+--------------------+\n",
      "\n"
     ]
    }
   ],
   "source": [
    "# Define schema for the DataFrame\n",
    "schema0 = StructType([\n",
    "    StructField(\"stage name\", StringType(), True),\n",
    "    StructField(\"total execution time\", FloatType(), True)\n",
    "])\n",
    "\n",
    "# Create an empty DataFrame with the defined schema\n",
    "df_exec = spark.createDataFrame([], schema0)\n",
    "\n",
    "# Add data to the DataFrame\n",
    "data = [(\"Data Preprocessing\", total_average_sum)]\n",
    "df_exec = df_exec.union(spark.createDataFrame(data, schema0))\n",
    "\n",
    "# Show the DataFrame\n",
    "df_exec.show()"
   ]
  },
  {
   "cell_type": "markdown",
   "id": "3d7a063b",
   "metadata": {},
   "source": [
    "<a class=\"anchor\" id=\"2\"></a>\n",
    "## 2. Exploratory data analysis (EDA)\n",
    "[Back to Table of Contents](#0.1)"
   ]
  },
  {
   "cell_type": "markdown",
   "id": "9e27c7c4",
   "metadata": {},
   "source": [
    "<a class=\"anchor\" id=\"2.1\"></a>\n",
    "## 2.1 Summary information about the DataFrame\n",
    "[Back to Table of Contents](#0.1)"
   ]
  },
  {
   "cell_type": "code",
   "execution_count": 9,
   "id": "b7482639",
   "metadata": {
    "scrolled": false
   },
   "outputs": [
    {
     "name": "stdout",
     "output_type": "stream",
     "text": [
      "Data Summary:\n",
      "root\n",
      " |-- flow_duration: double (nullable = true)\n",
      " |-- Header_Length: double (nullable = true)\n",
      " |-- Protocol Type: double (nullable = true)\n",
      " |-- Duration: double (nullable = true)\n",
      " |-- Rate: double (nullable = true)\n",
      " |-- Srate: double (nullable = true)\n",
      " |-- Drate: double (nullable = true)\n",
      " |-- fin_flag_number: double (nullable = true)\n",
      " |-- syn_flag_number: double (nullable = true)\n",
      " |-- rst_flag_number: double (nullable = true)\n",
      " |-- psh_flag_number: double (nullable = true)\n",
      " |-- ack_flag_number: double (nullable = true)\n",
      " |-- ece_flag_number: double (nullable = true)\n",
      " |-- cwr_flag_number: double (nullable = true)\n",
      " |-- ack_count: double (nullable = true)\n",
      " |-- syn_count: double (nullable = true)\n",
      " |-- fin_count: double (nullable = true)\n",
      " |-- urg_count: double (nullable = true)\n",
      " |-- rst_count: double (nullable = true)\n",
      " |-- HTTP: double (nullable = true)\n",
      " |-- HTTPS: double (nullable = true)\n",
      " |-- DNS: double (nullable = true)\n",
      " |-- Telnet: double (nullable = true)\n",
      " |-- SMTP: double (nullable = true)\n",
      " |-- SSH: double (nullable = true)\n",
      " |-- IRC: double (nullable = true)\n",
      " |-- TCP: double (nullable = true)\n",
      " |-- UDP: double (nullable = true)\n",
      " |-- DHCP: double (nullable = true)\n",
      " |-- ARP: double (nullable = true)\n",
      " |-- ICMP: double (nullable = true)\n",
      " |-- IPv: double (nullable = true)\n",
      " |-- LLC: double (nullable = true)\n",
      " |-- Tot sum: double (nullable = true)\n",
      " |-- Min: double (nullable = true)\n",
      " |-- Max: double (nullable = true)\n",
      " |-- AVG: double (nullable = true)\n",
      " |-- Std: double (nullable = true)\n",
      " |-- Tot size: double (nullable = true)\n",
      " |-- IAT: double (nullable = true)\n",
      " |-- Number: double (nullable = true)\n",
      " |-- Magnitue: double (nullable = true)\n",
      " |-- Radius: double (nullable = true)\n",
      " |-- Covariance: double (nullable = true)\n",
      " |-- Variance: double (nullable = true)\n",
      " |-- Weight: double (nullable = true)\n",
      " |-- label: string (nullable = true)\n",
      "\n"
     ]
    },
    {
     "name": "stderr",
     "output_type": "stream",
     "text": [
      "                                                                                \r"
     ]
    },
    {
     "name": "stdout",
     "output_type": "stream",
     "text": [
      "+-----------------+-----+--------------------+\n",
      "|      Instruction|Count|         AverageTime|\n",
      "+-----------------+-----+--------------------+\n",
      "|        Data Load|    1|   41.91358709335327|\n",
      "|Files Enumeration|    1|  0.1537766456604004|\n",
      "|     Data Summary|    1|0.014063119888305664|\n",
      "+-----------------+-----+--------------------+\n",
      "\n"
     ]
    },
    {
     "name": "stderr",
     "output_type": "stream",
     "text": [
      "                                                                                \r"
     ]
    }
   ],
   "source": [
    "total_average_sum = 0.0\n",
    "# Start time\n",
    "start_time = time.time()\n",
    "\n",
    "# Data Summary\n",
    "print(\"Data Summary:\")\n",
    "df.printSchema()\n",
    "\n",
    "print_execution_time(start_time, 'Data Summary')"
   ]
  },
  {
   "cell_type": "code",
   "execution_count": 10,
   "id": "8a8d0298",
   "metadata": {
    "scrolled": false
   },
   "outputs": [
    {
     "name": "stdout",
     "output_type": "stream",
     "text": [
      "Data Distribution:\n"
     ]
    },
    {
     "name": "stderr",
     "output_type": "stream",
     "text": [
      "24/04/07 09:44:51 WARN package: Truncated the string representation of a plan since it was too large. This behavior can be adjusted by setting 'spark.sql.debug.maxToStringFields'.\n",
      "                                                                                \r"
     ]
    },
    {
     "name": "stdout",
     "output_type": "stream",
     "text": [
      "+-------+------------------+-----------------+-----------------+------------------+------------------+\n",
      "|summary|     flow_duration|    Header_Length|    Protocol Type|          Duration|              Rate|\n",
      "+-------+------------------+-----------------+-----------------+------------------+------------------+\n",
      "|  count|           3802000|          3802000|          3802000|           3802000|           3802000|\n",
      "|   mean|  5.68731011482405| 77212.4416434508|9.061357030063604| 66.36322665403715| 9037.742662148668|\n",
      "| stddev|  271.329859890405|463178.7585458275|8.936870396605629|14.078998566276729| 99802.00897849097|\n",
      "|    min|               0.0|              0.0|              0.0|               0.0|               0.0|\n",
      "|    25%|               0.0|             54.0|              6.0|              64.0| 2.093256101519056|\n",
      "|    50%|               0.0|             54.0|              6.0|              64.0|15.766304181066191|\n",
      "|    75%|0.1046640419960022|           293.34|             14.3|              64.0|117.17160317072324|\n",
      "|    max| 99435.76178212166|9889368.333333334|             47.0|             255.0|         8388608.0|\n",
      "+-------+------------------+-----------------+-----------------+------------------+------------------+\n",
      "\n"
     ]
    },
    {
     "name": "stderr",
     "output_type": "stream",
     "text": [
      "                                                                                \r"
     ]
    },
    {
     "name": "stdout",
     "output_type": "stream",
     "text": [
      "+-------+------------------+--------------------+-------------------+-------------------+-------------------+\n",
      "|summary|             Srate|               Drate|    fin_flag_number|    syn_flag_number|    rst_flag_number|\n",
      "+-------+------------------+--------------------+-------------------+-------------------+-------------------+\n",
      "|  count|           3802000|             3802000|            3802000|            3802000|            3802000|\n",
      "|   mean| 9037.742662148668|3.805486897013727E-6|0.08651657022619674|0.20689978958442926|0.09044950026301947|\n",
      "| stddev| 99802.00897849097|0.002186489226242...| 0.2811253707677547|  0.405083090012185| 0.2868247022196352|\n",
      "|    min|               0.0|                 0.0|                0.0|                0.0|                0.0|\n",
      "|    25%| 2.093256101519056|                 0.0|                0.0|                0.0|                0.0|\n",
      "|    50%|15.766304181066191|                 0.0|                0.0|                0.0|                0.0|\n",
      "|    75%|117.17160317072324|                 0.0|                0.0|                0.0|                0.0|\n",
      "|    max|         8388608.0|  2.6792104758862987|                1.0|                1.0|                1.0|\n",
      "+-------+------------------+--------------------+-------------------+-------------------+-------------------+\n",
      "\n"
     ]
    },
    {
     "name": "stderr",
     "output_type": "stream",
     "text": [
      "                                                                                \r"
     ]
    },
    {
     "name": "stdout",
     "output_type": "stream",
     "text": [
      "+-------+------------------+-------------------+--------------------+--------------------+------------------+\n",
      "|summary|   psh_flag_number|    ack_flag_number|     ece_flag_number|     cwr_flag_number|         ack_count|\n",
      "+-------+------------------+-------------------+--------------------+--------------------+------------------+\n",
      "|  count|           3802000|            3802000|             3802000|             3802000|           3802000|\n",
      "|   mean|0.0878766438716465|0.12371173066806944|2.367175170962651E-6|1.052077853761178...|0.0904856472623142|\n",
      "| stddev|0.2831154542155188| 0.3292524364015792|0.001538561077778...|0.001025708059639837|0.2863779252716044|\n",
      "|    min|               0.0|                0.0|                 0.0|                 0.0|               0.0|\n",
      "|    25%|               0.0|                0.0|                 0.0|                 0.0|               0.0|\n",
      "|    50%|               0.0|                0.0|                 0.0|                 0.0|               0.0|\n",
      "|    75%|               0.0|                0.0|                 0.0|                 0.0|               0.0|\n",
      "|    max|               1.0|                1.0|                 1.0|                 1.0|               5.7|\n",
      "+-------+------------------+-------------------+--------------------+--------------------+------------------+\n",
      "\n"
     ]
    },
    {
     "name": "stderr",
     "output_type": "stream",
     "text": [
      "                                                                                \r"
     ]
    },
    {
     "name": "stdout",
     "output_type": "stream",
     "text": [
      "+-------+-------------------+-------------------+-----------------+-----------------+-------------------+\n",
      "|summary|          syn_count|          fin_count|        urg_count|        rst_count|               HTTP|\n",
      "+-------+-------------------+-------------------+-----------------+-----------------+-------------------+\n",
      "|  count|            3802000|            3802000|          3802000|          3802000|            3802000|\n",
      "|   mean|0.32989108580616544|0.09901666892267333|6.286085547460638|38.82400703400762|0.04833140452393477|\n",
      "| stddev| 0.6633607993857262|  0.323812737988614|72.36438850350457|327.5465887591808|0.21446559621157943|\n",
      "|    min|                0.0|                0.0|              0.0|              0.0|                0.0|\n",
      "|    25%|                0.0|                0.0|              0.0|              0.0|                0.0|\n",
      "|    50%|                0.0|                0.0|              0.0|              0.0|                0.0|\n",
      "|    75%|               0.06|                0.0|              0.0|             0.01|                0.0|\n",
      "|    max|              12.41|               80.8|           4167.7|           9586.5|                1.0|\n",
      "+-------+-------------------+-------------------+-----------------+-----------------+-------------------+\n",
      "\n"
     ]
    },
    {
     "name": "stderr",
     "output_type": "stream",
     "text": [
      "                                                                                \r"
     ]
    },
    {
     "name": "stdout",
     "output_type": "stream",
     "text": [
      "+-------+-------------------+--------------------+-------+-------+--------------------+\n",
      "|summary|              HTTPS|                 DNS| Telnet|   SMTP|                 SSH|\n",
      "+-------+-------------------+--------------------+-------+-------+--------------------+\n",
      "|  count|            3802000|             3802000|3802000|3802000|             3802000|\n",
      "|   mean|0.05522067332982641|1.307206733298264E-4|    0.0|    0.0|4.576538663861126E-5|\n",
      "| stddev|0.22841051702780968|0.011432568382169677|    0.0|    0.0|0.006764858032851587|\n",
      "|    min|                0.0|                 0.0|    0.0|    0.0|                 0.0|\n",
      "|    25%|                0.0|                 0.0|    0.0|    0.0|                 0.0|\n",
      "|    50%|                0.0|                 0.0|    0.0|    0.0|                 0.0|\n",
      "|    75%|                0.0|                 0.0|    0.0|    0.0|                 0.0|\n",
      "|    max|                1.0|                 1.0|    0.0|    0.0|                 1.0|\n",
      "+-------+-------------------+--------------------+-------+-------+--------------------+\n",
      "\n"
     ]
    },
    {
     "name": "stderr",
     "output_type": "stream",
     "text": [
      "                                                                                \r"
     ]
    },
    {
     "name": "stdout",
     "output_type": "stream",
     "text": [
      "+-------+-------+------------------+-------------------+--------------------+--------------------+\n",
      "|summary|    IRC|               TCP|                UDP|                DHCP|                 ARP|\n",
      "+-------+-------+------------------+-------------------+--------------------+--------------------+\n",
      "|  count|3802000|           3802000|            3802000|             3802000|             3802000|\n",
      "|   mean|    0.0|0.5738269331930563|0.21198658600736456|1.841136244082062E-6|6.575486586007364E-5|\n",
      "| stddev|    0.0|0.4945196136217704|0.40871544783292113|0.001356883686449...|0.008108671867289176|\n",
      "|    min|    0.0|               0.0|                0.0|                 0.0|                 0.0|\n",
      "|    25%|    0.0|               0.0|                0.0|                 0.0|                 0.0|\n",
      "|    50%|    0.0|               1.0|                0.0|                 0.0|                 0.0|\n",
      "|    75%|    0.0|               1.0|                0.0|                 0.0|                 0.0|\n",
      "|    max|    0.0|               1.0|                1.0|                 1.0|                 1.0|\n",
      "+-------+-------+------------------+-------------------+--------------------+--------------------+\n",
      "\n"
     ]
    },
    {
     "name": "stderr",
     "output_type": "stream",
     "text": [
      "                                                                                \r"
     ]
    },
    {
     "name": "stdout",
     "output_type": "stream",
     "text": [
      "+-------+-------------------+--------------------+--------------------+------------------+-----------------+\n",
      "|summary|               ICMP|                 IPv|                 LLC|           Tot sum|              Min|\n",
      "+-------+-------------------+--------------------+--------------------+------------------+-----------------+\n",
      "|  count|            3802000|             3802000|             3802000|           3802000|          3802000|\n",
      "|   mean|0.16375960021041558|  0.9998892688058917|  0.9998892688058917|1309.5189164180142| 91.6679482769298|\n",
      "| stddev|0.37005733281190956|0.010522307818737158|0.010522307818737158|2616.5968888659595|140.0785843059267|\n",
      "|    min|                0.0|                 0.0|                 0.0|              42.0|             42.0|\n",
      "|    25%|                0.0|                 1.0|                 1.0|             525.0|             50.0|\n",
      "|    50%|                0.0|                 1.0|                 1.0|             567.0|             54.0|\n",
      "|    75%|                0.0|                 1.0|                 1.0|            567.54|             54.0|\n",
      "|    max|                1.0|                 1.0|                 1.0|          108933.8|           5858.0|\n",
      "+-------+-------------------+--------------------+--------------------+------------------+-----------------+\n",
      "\n"
     ]
    },
    {
     "name": "stderr",
     "output_type": "stream",
     "text": [
      "                                                                                \r"
     ]
    },
    {
     "name": "stdout",
     "output_type": "stream",
     "text": [
      "+-------+------------------+------------------+------------------+------------------+--------------------+\n",
      "|summary|               Max|               AVG|               Std|          Tot size|                 IAT|\n",
      "+-------+------------------+------------------+------------------+------------------+--------------------+\n",
      "|  count|           3802000|           3802000|           3802000|           3802000|             3802000|\n",
      "|   mean|182.39534119279602|124.81607560361284| 33.46550229663197|124.81119805536375| 8.318535577810591E7|\n",
      "| stddev| 526.8528034552024|241.61356071044517|161.03802691101416|242.09511561396621|1.7070170706106003E7|\n",
      "|    min|              42.0|              42.0|               0.0|              42.0|                 0.0|\n",
      "|    25%|              50.0|              50.0|               0.0|              50.0| 8.307156673426197E7|\n",
      "|    50%|              54.0|              54.0|               0.0|              54.0|  8.31245216069558E7|\n",
      "|    75%|             55.28|  54.0501127082412|0.3719095500603567|             54.06| 8.334390282499492E7|\n",
      "|    max|           30474.0|11600.474325396824| 10996.26091469568|           13098.0| 1.676394299607633E8|\n",
      "+-------+------------------+------------------+------------------+------------------+--------------------+\n",
      "\n"
     ]
    },
    {
     "name": "stderr",
     "output_type": "stream",
     "text": [
      "                                                                                \r"
     ]
    },
    {
     "name": "stdout",
     "output_type": "stream",
     "text": [
      "+-------+------------------+------------------+------------------+--------------------+-------------------+\n",
      "|summary|            Number|          Magnitue|            Radius|          Covariance|           Variance|\n",
      "+-------+------------------+------------------+------------------+--------------------+-------------------+\n",
      "|  count|           3802000|           3802000|           3802000|             3802000|            3802000|\n",
      "|   mean| 9.498585052123945|13.126617237461538|  47.2940447164847|  30988.169070825854|0.09661046979820624|\n",
      "| stddev|0.8204473918309835| 8.637693479983257| 227.7628787821259|   338036.2997414148|0.23327353226578393|\n",
      "|    min|               1.0| 9.165151389911676|               0.0|                 0.0|                0.0|\n",
      "|    25%|               9.5|              10.0|               0.0|                 0.0|                0.0|\n",
      "|    50%|               9.5|10.392304845413264|               0.0|                 0.0|                0.0|\n",
      "|    75%|               9.5|10.396725166861742|0.5059212763185684|   1.347151059492574|               0.08|\n",
      "|    max|              15.0| 145.3904472200496| 15551.06132095581|1.3728438625711766E8|                1.0|\n",
      "+-------+------------------+------------------+------------------+--------------------+-------------------+\n",
      "\n"
     ]
    },
    {
     "name": "stderr",
     "output_type": "stream",
     "text": [
      "                                                                                \r"
     ]
    },
    {
     "name": "stdout",
     "output_type": "stream",
     "text": [
      "+-------+------------------+\n",
      "|summary|            Weight|\n",
      "+-------+------------------+\n",
      "|  count|           3802000|\n",
      "|   mean|141.51543239725416|\n",
      "| stddev|21.098391294202212|\n",
      "|    min|               1.0|\n",
      "|    25%|            141.55|\n",
      "|    50%|            141.55|\n",
      "|    75%|            141.55|\n",
      "|    max|             244.6|\n",
      "+-------+------------------+\n",
      "\n",
      "label:\n"
     ]
    },
    {
     "name": "stderr",
     "output_type": "stream",
     "text": [
      "                                                                                \r"
     ]
    },
    {
     "name": "stdout",
     "output_type": "stream",
     "text": [
      "+--------------------+------+\n",
      "|               label| count|\n",
      "+--------------------+------+\n",
      "|    CommandInjection|   404|\n",
      "|    DDoS-RSTFINFlood|329190|\n",
      "|       DoS-SYN_Flood|163947|\n",
      "|DDoS-ACK_Fragment...| 23365|\n",
      "|  Mirai-greeth_flood| 80162|\n",
      "|DDoS-ICMP_Fragmen...| 36833|\n",
      "|       DoS-UDP_Flood|270629|\n",
      "|DDoS-SynonymousIP...|292280|\n",
      "|      DDoS-SYN_Flood|330999|\n",
      "|       DoS-TCP_Flood|217539|\n",
      "|      DDoS-TCP_Flood|367051|\n",
      "|   DDoS-PSHACK_Flood|333880|\n",
      "|      DDoS-UDP_Flood|440357|\n",
      "|                 XSS|   302|\n",
      "|   Mirai-greip_flood| 61335|\n",
      "|DDoS-UDP_Fragment...| 23504|\n",
      "|        DNS_Spoofing| 14662|\n",
      "|        Recon-OSScan|  8172|\n",
      "|      DDoS-SlowLoris|  1928|\n",
      "|      Recon-PortScan|  6640|\n",
      "+--------------------+------+\n",
      "only showing top 20 rows\n",
      "\n"
     ]
    },
    {
     "name": "stderr",
     "output_type": "stream",
     "text": [
      "                                                                                \r"
     ]
    },
    {
     "name": "stdout",
     "output_type": "stream",
     "text": [
      "+-----------------+-----+--------------------+\n",
      "|      Instruction|Count|         AverageTime|\n",
      "+-----------------+-----+--------------------+\n",
      "|        Data Load|    1|   41.91358709335327|\n",
      "|Files Enumeration|    1|  0.1537766456604004|\n",
      "|     Data Summary|    1|0.014063119888305664|\n",
      "|Data Distribution|    1|  220.38567852973938|\n",
      "+-----------------+-----+--------------------+\n",
      "\n"
     ]
    },
    {
     "name": "stderr",
     "output_type": "stream",
     "text": [
      "                                                                                \r"
     ]
    }
   ],
   "source": [
    "# Start time\n",
    "start_time = time.time()\n",
    "\n",
    "# Data Distribution\n",
    "print(\"Data Distribution:\")\n",
    "num_cols_per_table = 5\n",
    "numeric_columns = [col_name for col_name, data_type in df.dtypes if data_type != \"string\"]\n",
    "categorical_columns = [col_name for col_name, data_type in df.dtypes if data_type == \"string\"]\n",
    "\n",
    "# Process numeric columns\n",
    "for i in range(0, len(numeric_columns), num_cols_per_table):\n",
    "    table_columns = numeric_columns[i:i+num_cols_per_table]\n",
    "    df.select(table_columns).summary().show()\n",
    "\n",
    "# Process categorical columns\n",
    "for i in range(0, len(categorical_columns), num_cols_per_table):\n",
    "    table_columns = categorical_columns[i:i+num_cols_per_table]\n",
    "    for col_name in table_columns:\n",
    "        print(col_name + \":\")\n",
    "        df.groupBy(col_name).count().show()\n",
    "        \n",
    "print_execution_time(start_time, 'Data Distribution')"
   ]
  },
  {
   "cell_type": "code",
   "execution_count": 11,
   "id": "efde2f18",
   "metadata": {
    "scrolled": true
   },
   "outputs": [
    {
     "name": "stderr",
     "output_type": "stream",
     "text": [
      "                                                                                \r"
     ]
    },
    {
     "name": "stdout",
     "output_type": "stream",
     "text": [
      "Rows number 3802000\n"
     ]
    },
    {
     "name": "stderr",
     "output_type": "stream",
     "text": [
      "                                                                                \r"
     ]
    },
    {
     "name": "stdout",
     "output_type": "stream",
     "text": [
      "+-----------------+-----+--------------------+\n",
      "|      Instruction|Count|         AverageTime|\n",
      "+-----------------+-----+--------------------+\n",
      "|        Data Load|    1|   41.91358709335327|\n",
      "|Files Enumeration|    1|  0.1537766456604004|\n",
      "|     Data Summary|    1|0.014063119888305664|\n",
      "|Data Distribution|    1|  220.38567852973938|\n",
      "|      Rows number|    1|   3.568094491958618|\n",
      "+-----------------+-----+--------------------+\n",
      "\n"
     ]
    },
    {
     "name": "stderr",
     "output_type": "stream",
     "text": [
      "                                                                                \r"
     ]
    }
   ],
   "source": [
    "# Start time\n",
    "start_time = time.time()\n",
    "\n",
    "# Count the number of rows in the DataFrame\n",
    "print('Rows number', df.count())\n",
    "\n",
    "print_execution_time(start_time, 'Rows number')"
   ]
  },
  {
   "cell_type": "code",
   "execution_count": 12,
   "id": "1488b1b8",
   "metadata": {},
   "outputs": [
    {
     "name": "stderr",
     "output_type": "stream",
     "text": [
      "                                                                                \r"
     ]
    },
    {
     "name": "stdout",
     "output_type": "stream",
     "text": [
      "+---------------+-------------+\n",
      "|Column Name    |Missing Count|\n",
      "+---------------+-------------+\n",
      "|flow_duration  |0            |\n",
      "|Header_Length  |0            |\n",
      "|Protocol Type  |0            |\n",
      "|Duration       |0            |\n",
      "|Rate           |0            |\n",
      "|Srate          |0            |\n",
      "|Drate          |0            |\n",
      "|fin_flag_number|0            |\n",
      "|syn_flag_number|0            |\n",
      "|rst_flag_number|0            |\n",
      "|psh_flag_number|0            |\n",
      "|ack_flag_number|0            |\n",
      "|ece_flag_number|0            |\n",
      "|cwr_flag_number|0            |\n",
      "|ack_count      |0            |\n",
      "|syn_count      |0            |\n",
      "|fin_count      |0            |\n",
      "|urg_count      |0            |\n",
      "|rst_count      |0            |\n",
      "|HTTP           |0            |\n",
      "|HTTPS          |0            |\n",
      "|DNS            |0            |\n",
      "|Telnet         |0            |\n",
      "|SMTP           |0            |\n",
      "|SSH            |0            |\n",
      "|IRC            |0            |\n",
      "|TCP            |0            |\n",
      "|UDP            |0            |\n",
      "|DHCP           |0            |\n",
      "|ARP            |0            |\n",
      "|ICMP           |0            |\n",
      "|IPv            |0            |\n",
      "|LLC            |0            |\n",
      "|Tot sum        |0            |\n",
      "|Min            |0            |\n",
      "|Max            |0            |\n",
      "|AVG            |0            |\n",
      "|Std            |0            |\n",
      "|Tot size       |0            |\n",
      "|IAT            |0            |\n",
      "|Number         |0            |\n",
      "|Magnitue       |0            |\n",
      "|Radius         |0            |\n",
      "|Covariance     |0            |\n",
      "|Variance       |0            |\n",
      "|Weight         |0            |\n",
      "|label          |0            |\n",
      "+---------------+-------------+\n",
      "\n"
     ]
    },
    {
     "name": "stderr",
     "output_type": "stream",
     "text": [
      "                                                                                \r"
     ]
    },
    {
     "name": "stdout",
     "output_type": "stream",
     "text": [
      "+-----------------+-----+--------------------+\n",
      "|      Instruction|Count|         AverageTime|\n",
      "+-----------------+-----+--------------------+\n",
      "|        Data Load|    1|   41.91358709335327|\n",
      "|Files Enumeration|    1|  0.1537766456604004|\n",
      "|     Data Summary|    1|0.014063119888305664|\n",
      "|Data Distribution|    1|  220.38567852973938|\n",
      "|      Rows number|    1|   3.568094491958618|\n",
      "|   Missing Values|    1|   385.2225694656372|\n",
      "+-----------------+-----+--------------------+\n",
      "\n"
     ]
    },
    {
     "name": "stderr",
     "output_type": "stream",
     "text": [
      "                                                                                \r"
     ]
    }
   ],
   "source": [
    "# Start time\n",
    "start_time = time.time()\n",
    "\n",
    "# Initialize a list to store rows of data\n",
    "missing_values_rows = []\n",
    "\n",
    "# Populate the list with missing value counts\n",
    "for col_name in df.columns:\n",
    "    missing_count = df.where(col(col_name).isNull() | (col(col_name) == \"\")).count()\n",
    "    missing_values_rows.append((col_name, missing_count))\n",
    "\n",
    "# Define the schema for the DataFrame\n",
    "schema1 = StructType([\n",
    "    StructField(\"Column Name\", StringType(), True),\n",
    "    StructField(\"Missing Count\", IntegerType(), True)\n",
    "])\n",
    "\n",
    "# Create a DataFrame from the list of rows and the defined schema\n",
    "missing_values_df = spark.createDataFrame(missing_values_rows, schema1)\n",
    "\n",
    "# Show all rows of the DataFrame as a table without truncation\n",
    "missing_values_df.show(missing_values_df.count(), truncate=False)\n",
    "\n",
    "print_execution_time(start_time, 'Missing Values')\n"
   ]
  },
  {
   "cell_type": "markdown",
   "id": "ba0acb34",
   "metadata": {},
   "source": [
    "<a class=\"anchor\" id=\"2.2\"></a>\n",
    "## 2.2 Features inspection\n",
    "[Back to Table of Contents](#0.1)"
   ]
  },
  {
   "cell_type": "code",
   "execution_count": 13,
   "id": "0f44713a",
   "metadata": {
    "scrolled": false
   },
   "outputs": [
    {
     "name": "stdout",
     "output_type": "stream",
     "text": [
      "['flow_duration', 'Header_Length', 'Protocol Type', 'Duration', 'Rate', 'Srate', 'Drate', 'fin_flag_number', 'syn_flag_number', 'rst_flag_number', 'psh_flag_number', 'ack_flag_number', 'ece_flag_number', 'cwr_flag_number', 'ack_count', 'syn_count', 'fin_count', 'urg_count', 'rst_count', 'HTTP', 'HTTPS', 'DNS', 'Telnet', 'SMTP', 'SSH', 'IRC', 'TCP', 'UDP', 'DHCP', 'ARP', 'ICMP', 'IPv', 'LLC', 'Tot sum', 'Min', 'Max', 'AVG', 'Std', 'Tot size', 'IAT', 'Number', 'Magnitue', 'Radius', 'Covariance', 'Variance', 'Weight', 'label']\n",
      "\n",
      "Total number of columns: 47\n"
     ]
    },
    {
     "name": "stderr",
     "output_type": "stream",
     "text": [
      "                                                                                \r"
     ]
    },
    {
     "name": "stdout",
     "output_type": "stream",
     "text": [
      "+--------------------+-----+--------------------+\n",
      "|         Instruction|Count|         AverageTime|\n",
      "+--------------------+-----+--------------------+\n",
      "|           Data Load|    1|   41.91358709335327|\n",
      "|   Files Enumeration|    1|  0.1537766456604004|\n",
      "|        Data Summary|    1|0.014063119888305664|\n",
      "|   Data Distribution|    1|  220.38567852973938|\n",
      "|         Rows number|    1|   3.568094491958618|\n",
      "|      Missing Values|    1|   385.2225694656372|\n",
      "|Total number of c...|    1|8.337497711181641E-4|\n",
      "+--------------------+-----+--------------------+\n",
      "\n"
     ]
    },
    {
     "name": "stderr",
     "output_type": "stream",
     "text": [
      "                                                                                \r"
     ]
    }
   ],
   "source": [
    "# Start time\n",
    "start_time = time.time()\n",
    "\n",
    "\n",
    "# Print list of all columns\n",
    "print(df.columns)\n",
    "print(\"\\nTotal number of columns:\", len(df.columns))\n",
    "\n",
    "print_execution_time(start_time, 'Total number of columns')\n"
   ]
  },
  {
   "cell_type": "markdown",
   "id": "e115b977",
   "metadata": {},
   "source": [
    "<a class=\"anchor\" id=\"2.3\"></a>\n",
    "### * Data Exploration part *total execution time*\n",
    "[Back to Table of Contents](#0.1)"
   ]
  },
  {
   "cell_type": "code",
   "execution_count": 14,
   "id": "4c5775c1",
   "metadata": {},
   "outputs": [
    {
     "name": "stdout",
     "output_type": "stream",
     "text": [
      "+------------------+--------------------+\n",
      "|        stage name|total execution time|\n",
      "+------------------+--------------------+\n",
      "|Data Preprocessing|           42.067364|\n",
      "|               EDA|            651.2586|\n",
      "+------------------+--------------------+\n",
      "\n"
     ]
    }
   ],
   "source": [
    "# Assume you have another row of data to add\n",
    "new_row_data = [(\"EDA\", total_average_sum)]  # Example data\n",
    "\n",
    "# Create DataFrame for the new row\n",
    "new_row_df = spark.createDataFrame(new_row_data, schema0)\n",
    "\n",
    "# Add the new row to the existing df_exec DataFrame\n",
    "df_exec = df_exec.union(new_row_df)\n",
    "\n",
    "# Show the DataFrame\n",
    "df_exec.show()"
   ]
  },
  {
   "cell_type": "markdown",
   "id": "3c23cb98",
   "metadata": {},
   "source": [
    "<a class=\"anchor\" id=\"3\"></a>\n",
    "## 3 Machine Learning Model training\n",
    "[Back to Table of Contents](#0.1)"
   ]
  },
  {
   "cell_type": "markdown",
   "id": "a86b8b89",
   "metadata": {},
   "source": [
    "<a class=\"anchor\" id=\"3.1\"></a>\n",
    "## 3.1 Transform the labels\n",
    "[Back to Table of Contents](#0.1)"
   ]
  },
  {
   "cell_type": "code",
   "execution_count": 15,
   "id": "54fb8c47",
   "metadata": {},
   "outputs": [
    {
     "name": "stderr",
     "output_type": "stream",
     "text": [
      "                                                                                \r"
     ]
    },
    {
     "name": "stdout",
     "output_type": "stream",
     "text": [
      "+--------------------+-----+--------------------+\n",
      "|         Instruction|Count|         AverageTime|\n",
      "+--------------------+-----+--------------------+\n",
      "|           Data Load|    1|   41.91358709335327|\n",
      "|   Files Enumeration|    1|  0.1537766456604004|\n",
      "|        Data Summary|    1|0.014063119888305664|\n",
      "|   Data Distribution|    1|  220.38567852973938|\n",
      "|         Rows number|    1|   3.568094491958618|\n",
      "|      Missing Values|    1|   385.2225694656372|\n",
      "|Total number of c...|    1|8.337497711181641E-4|\n",
      "|       Data labeling|    1| 0.04415130615234375|\n",
      "+--------------------+-----+--------------------+\n",
      "\n"
     ]
    },
    {
     "name": "stderr",
     "output_type": "stream",
     "text": [
      "                                                                                \r"
     ]
    }
   ],
   "source": [
    "total_average_sum = 0.0\n",
    "# Start time\n",
    "start_time = time.time()\n",
    "\n",
    "# Binary labeling\n",
    "df = df.withColumn('label', when(df['label'] == 'BenignTraffic', 0).otherwise(1))\n",
    "\n",
    "print_execution_time(start_time, 'Data labeling') "
   ]
  },
  {
   "cell_type": "markdown",
   "id": "bf6854c0",
   "metadata": {},
   "source": [
    "<a class=\"anchor\" id=\"3.2\"></a>\n",
    "## 3.2 Split data\n",
    "[Back to Table of Contents](#0.1)"
   ]
  },
  {
   "cell_type": "code",
   "execution_count": 16,
   "id": "d99fde70",
   "metadata": {},
   "outputs": [
    {
     "name": "stderr",
     "output_type": "stream",
     "text": [
      "                                                                                \r"
     ]
    },
    {
     "name": "stdout",
     "output_type": "stream",
     "text": [
      "+--------------------+-----+--------------------+\n",
      "|         Instruction|Count|         AverageTime|\n",
      "+--------------------+-----+--------------------+\n",
      "|           Data Load|    1|   41.91358709335327|\n",
      "|   Files Enumeration|    1|  0.1537766456604004|\n",
      "|        Data Summary|    1|0.014063119888305664|\n",
      "|   Data Distribution|    1|  220.38567852973938|\n",
      "|         Rows number|    1|   3.568094491958618|\n",
      "|      Missing Values|    1|   385.2225694656372|\n",
      "|Total number of c...|    1|8.337497711181641E-4|\n",
      "|       Data labeling|    1| 0.04415130615234375|\n",
      "|          Split data|    1| 0.06647634506225586|\n",
      "+--------------------+-----+--------------------+\n",
      "\n"
     ]
    },
    {
     "name": "stderr",
     "output_type": "stream",
     "text": [
      "                                                                                \r"
     ]
    }
   ],
   "source": [
    "# Start time\n",
    "start_time = time.time()\n",
    "\n",
    "# Split data into training and testing sets\n",
    "train_data, test_data = df.randomSplit([0.7, 0.3], seed=42)\n",
    "\n",
    "print_execution_time(start_time, 'Split data') "
   ]
  },
  {
   "cell_type": "markdown",
   "id": "4e93c7fe",
   "metadata": {},
   "source": [
    "<a class=\"anchor\" id=\"3.3\"></a>\n",
    "## 3.3 Feature transformation\n",
    "[Back to Table of Contents](#0.1)"
   ]
  },
  {
   "cell_type": "markdown",
   "id": "364073c8",
   "metadata": {},
   "source": [
    "The code below is fundamental for data preprocessing in PySpark machine learning workflows. It selects input columns, excluding the last one typically representing the target variable. Then, it initializes a VectorAssembler transformer to combine these selected columns into a single feature vector column, simplifying the data structure for machine learning algorithms. Then, by applying the transform method to both training and test datasets, the code ensures consistency in feature engineering, enabling seamless integration with PySpark's machine learning models. Overall, these steps play a pivotal role in preparing structured data for predictive modeling tasks in PySpark, facilitating efficient and effective machine learning model training and evaluation."
   ]
  },
  {
   "cell_type": "code",
   "execution_count": 17,
   "id": "9ee6da3c",
   "metadata": {},
   "outputs": [
    {
     "name": "stderr",
     "output_type": "stream",
     "text": [
      "                                                                                \r"
     ]
    },
    {
     "name": "stdout",
     "output_type": "stream",
     "text": [
      "+--------------------+-----+--------------------+\n",
      "|         Instruction|Count|         AverageTime|\n",
      "+--------------------+-----+--------------------+\n",
      "|           Data Load|    1|   41.91358709335327|\n",
      "|   Files Enumeration|    1|  0.1537766456604004|\n",
      "|        Data Summary|    1|0.014063119888305664|\n",
      "|   Data Distribution|    1|  220.38567852973938|\n",
      "|         Rows number|    1|   3.568094491958618|\n",
      "|      Missing Values|    1|   385.2225694656372|\n",
      "|Total number of c...|    1|8.337497711181641E-4|\n",
      "|       Data labeling|    1| 0.04415130615234375|\n",
      "|          Split data|    1| 0.06647634506225586|\n",
      "|Feature transform...|    1|  0.7770123481750488|\n",
      "+--------------------+-----+--------------------+\n",
      "\n"
     ]
    },
    {
     "name": "stderr",
     "output_type": "stream",
     "text": [
      "                                                                                \r"
     ]
    }
   ],
   "source": [
    "# Start time\n",
    "start_time = time.time()\n",
    "\n",
    "# Define the input columns (all columns except 'label')\n",
    "input_cols = df.columns[:-1]  # Exclude the last column ('label')\n",
    "\n",
    "# Initialize the VectorAssembler\n",
    "assembler = VectorAssembler(inputCols=input_cols, outputCol='features')\n",
    "\n",
    "# Transform the DataFrames to include the 'features' column\n",
    "train_df_with_features = assembler.transform(train_data)\n",
    "test_df_with_features = assembler.transform(test_data)\n",
    "\n",
    "print_execution_time(start_time, 'Feature transformation ML')"
   ]
  },
  {
   "cell_type": "markdown",
   "id": "801c802e",
   "metadata": {},
   "source": [
    "<a class=\"anchor\" id=\"3.4\"></a>\n",
    "## 3.4 Train model\n",
    "[Back to Table of Contents](#0.1)"
   ]
  },
  {
   "cell_type": "code",
   "execution_count": 18,
   "id": "e1f28640",
   "metadata": {
    "scrolled": false
   },
   "outputs": [
    {
     "name": "stderr",
     "output_type": "stream",
     "text": [
      "24/04/07 09:56:55 WARN MemoryStore: Not enough space to cache rdd_831_10 in memory! (computed 17.0 MiB so far)\n",
      "24/04/07 09:56:55 WARN BlockManager: Persisting block rdd_831_10 to disk instead.\n",
      "24/04/07 09:56:55 WARN MemoryStore: Not enough space to cache rdd_831_9 in memory! (computed 17.0 MiB so far)\n",
      "24/04/07 09:56:55 WARN BlockManager: Persisting block rdd_831_9 to disk instead.\n",
      "24/04/07 09:56:56 WARN MemoryStore: Not enough space to cache rdd_831_8 in memory! (computed 17.0 MiB so far)\n",
      "24/04/07 09:56:56 WARN BlockManager: Persisting block rdd_831_8 to disk instead.\n",
      "24/04/07 09:56:56 WARN MemoryStore: Not enough space to cache rdd_831_11 in memory! (computed 17.0 MiB so far)\n",
      "24/04/07 09:56:56 WARN BlockManager: Persisting block rdd_831_11 to disk instead.\n",
      "24/04/07 09:56:58 WARN MemoryStore: Not enough space to cache rdd_831_11 in memory! (computed 33.0 MiB so far)\n",
      "24/04/07 09:57:07 WARN MemoryStore: Not enough space to cache rdd_831_13 in memory! (computed 17.0 MiB so far)\n",
      "24/04/07 09:57:07 WARN BlockManager: Persisting block rdd_831_13 to disk instead.\n",
      "24/04/07 09:57:10 WARN MemoryStore: Not enough space to cache rdd_831_0 in memory! (computed 33.0 MiB so far)\n",
      "24/04/07 09:57:10 WARN MemoryStore: Not enough space to cache rdd_831_3 in memory! (computed 17.0 MiB so far)\n",
      "24/04/07 09:57:10 WARN MemoryStore: Not enough space to cache rdd_831_1 in memory! (computed 33.0 MiB so far)\n",
      "24/04/07 09:57:10 WARN MemoryStore: Not enough space to cache rdd_831_2 in memory! (computed 17.0 MiB so far)\n",
      "24/04/07 09:57:10 WARN MemoryStore: Not enough space to cache rdd_831_6 in memory! (computed 17.0 MiB so far)\n",
      "24/04/07 09:57:10 WARN MemoryStore: Not enough space to cache rdd_831_5 in memory! (computed 33.0 MiB so far)\n",
      "24/04/07 09:57:10 WARN MemoryStore: Not enough space to cache rdd_831_4 in memory! (computed 33.0 MiB so far)\n",
      "24/04/07 09:57:11 WARN MemoryStore: Not enough space to cache rdd_831_2 in memory! (computed 17.0 MiB so far)\n",
      "24/04/07 09:57:11 WARN MemoryStore: Not enough space to cache rdd_831_0 in memory! (computed 17.0 MiB so far)\n",
      "24/04/07 09:57:11 WARN MemoryStore: Not enough space to cache rdd_831_1 in memory! (computed 17.0 MiB so far)\n",
      "24/04/07 09:57:11 WARN MemoryStore: Not enough space to cache rdd_831_3 in memory! (computed 17.0 MiB so far)\n",
      "24/04/07 09:57:11 WARN MemoryStore: Not enough space to cache rdd_831_4 in memory! (computed 17.0 MiB so far)\n",
      "24/04/07 09:57:11 WARN MemoryStore: Not enough space to cache rdd_831_5 in memory! (computed 17.0 MiB so far)\n",
      "24/04/07 09:57:11 WARN MemoryStore: Not enough space to cache rdd_831_6 in memory! (computed 17.0 MiB so far)\n",
      "24/04/07 09:57:12 WARN MemoryStore: Not enough space to cache rdd_831_0 in memory! (computed 17.0 MiB so far)\n",
      "24/04/07 09:57:12 WARN MemoryStore: Not enough space to cache rdd_831_1 in memory! (computed 17.0 MiB so far)\n",
      "24/04/07 09:57:12 WARN MemoryStore: Not enough space to cache rdd_831_2 in memory! (computed 17.0 MiB so far)\n",
      "24/04/07 09:57:12 WARN MemoryStore: Not enough space to cache rdd_831_3 in memory! (computed 17.0 MiB so far)\n",
      "24/04/07 09:57:12 WARN MemoryStore: Not enough space to cache rdd_831_4 in memory! (computed 17.0 MiB so far)\n",
      "24/04/07 09:57:12 WARN MemoryStore: Not enough space to cache rdd_831_5 in memory! (computed 17.0 MiB so far)\n",
      "24/04/07 09:57:12 WARN MemoryStore: Not enough space to cache rdd_831_6 in memory! (computed 17.0 MiB so far)\n",
      "24/04/07 09:57:12 WARN MemoryStore: Not enough space to cache rdd_831_1 in memory! (computed 17.0 MiB so far)\n",
      "24/04/07 09:57:12 WARN MemoryStore: Not enough space to cache rdd_831_3 in memory! (computed 17.0 MiB so far)\n",
      "24/04/07 09:57:12 WARN MemoryStore: Not enough space to cache rdd_831_2 in memory! (computed 17.0 MiB so far)\n",
      "24/04/07 09:57:12 WARN MemoryStore: Not enough space to cache rdd_831_0 in memory! (computed 17.0 MiB so far)\n",
      "24/04/07 09:57:13 WARN MemoryStore: Not enough space to cache rdd_831_4 in memory! (computed 17.0 MiB so far)\n",
      "24/04/07 09:57:13 WARN MemoryStore: Not enough space to cache rdd_831_5 in memory! (computed 17.0 MiB so far)\n",
      "24/04/07 09:57:13 WARN MemoryStore: Not enough space to cache rdd_831_6 in memory! (computed 17.0 MiB so far)\n",
      "24/04/07 09:57:13 WARN MemoryStore: Not enough space to cache rdd_831_2 in memory! (computed 17.0 MiB so far)\n",
      "24/04/07 09:57:13 WARN MemoryStore: Not enough space to cache rdd_831_3 in memory! (computed 17.0 MiB so far)\n",
      "24/04/07 09:57:13 WARN MemoryStore: Not enough space to cache rdd_831_1 in memory! (computed 17.0 MiB so far)\n",
      "24/04/07 09:57:13 WARN MemoryStore: Not enough space to cache rdd_831_0 in memory! (computed 17.0 MiB so far)\n",
      "24/04/07 09:57:13 WARN MemoryStore: Not enough space to cache rdd_831_4 in memory! (computed 17.0 MiB so far)\n",
      "24/04/07 09:57:14 WARN MemoryStore: Not enough space to cache rdd_831_6 in memory! (computed 17.0 MiB so far)\n",
      "24/04/07 09:57:14 WARN MemoryStore: Not enough space to cache rdd_831_5 in memory! (computed 17.0 MiB so far)\n",
      "24/04/07 09:57:14 WARN MemoryStore: Not enough space to cache rdd_831_0 in memory! (computed 17.0 MiB so far)\n",
      "24/04/07 09:57:14 WARN MemoryStore: Not enough space to cache rdd_831_2 in memory! (computed 17.0 MiB so far)\n",
      "24/04/07 09:57:14 WARN MemoryStore: Not enough space to cache rdd_831_3 in memory! (computed 17.0 MiB so far)\n",
      "24/04/07 09:57:14 WARN MemoryStore: Not enough space to cache rdd_831_1 in memory! (computed 17.0 MiB so far)\n",
      "24/04/07 09:57:14 WARN MemoryStore: Not enough space to cache rdd_831_5 in memory! (computed 17.0 MiB so far)\n",
      "24/04/07 09:57:14 WARN MemoryStore: Not enough space to cache rdd_831_6 in memory! (computed 17.0 MiB so far)\n",
      "24/04/07 09:57:14 WARN MemoryStore: Not enough space to cache rdd_831_4 in memory! (computed 17.0 MiB so far)\n",
      "24/04/07 09:57:15 WARN MemoryStore: Not enough space to cache rdd_831_0 in memory! (computed 17.0 MiB so far)\n",
      "24/04/07 09:57:15 WARN MemoryStore: Not enough space to cache rdd_831_2 in memory! (computed 17.0 MiB so far)\n",
      "24/04/07 09:57:15 WARN MemoryStore: Not enough space to cache rdd_831_1 in memory! (computed 17.0 MiB so far)\n",
      "24/04/07 09:57:15 WARN MemoryStore: Not enough space to cache rdd_831_3 in memory! (computed 17.0 MiB so far)\n",
      "24/04/07 09:57:15 WARN MemoryStore: Not enough space to cache rdd_831_4 in memory! (computed 17.0 MiB so far)\n",
      "24/04/07 09:57:15 WARN MemoryStore: Not enough space to cache rdd_831_6 in memory! (computed 17.0 MiB so far)\n",
      "24/04/07 09:57:15 WARN MemoryStore: Not enough space to cache rdd_831_5 in memory! (computed 17.0 MiB so far)\n",
      "24/04/07 09:57:16 WARN MemoryStore: Not enough space to cache rdd_831_1 in memory! (computed 17.0 MiB so far)\n",
      "24/04/07 09:57:16 WARN MemoryStore: Not enough space to cache rdd_831_0 in memory! (computed 17.0 MiB so far)\n",
      "24/04/07 09:57:16 WARN MemoryStore: Not enough space to cache rdd_831_2 in memory! (computed 17.0 MiB so far)\n",
      "24/04/07 09:57:16 WARN MemoryStore: Not enough space to cache rdd_831_3 in memory! (computed 17.0 MiB so far)\n",
      "24/04/07 09:57:16 WARN MemoryStore: Not enough space to cache rdd_831_4 in memory! (computed 17.0 MiB so far)\n",
      "24/04/07 09:57:16 WARN MemoryStore: Not enough space to cache rdd_831_6 in memory! (computed 17.0 MiB so far)\n",
      "24/04/07 09:57:16 WARN MemoryStore: Not enough space to cache rdd_831_5 in memory! (computed 17.0 MiB so far)\n",
      "24/04/07 09:57:16 WARN MemoryStore: Not enough space to cache rdd_831_1 in memory! (computed 17.0 MiB so far)\n",
      "24/04/07 09:57:16 WARN MemoryStore: Not enough space to cache rdd_831_0 in memory! (computed 17.0 MiB so far)\n",
      "24/04/07 09:57:16 WARN MemoryStore: Not enough space to cache rdd_831_2 in memory! (computed 17.0 MiB so far)\n",
      "24/04/07 09:57:16 WARN MemoryStore: Not enough space to cache rdd_831_3 in memory! (computed 17.0 MiB so far)\n",
      "24/04/07 09:57:17 WARN MemoryStore: Not enough space to cache rdd_831_5 in memory! (computed 17.0 MiB so far)\n",
      "24/04/07 09:57:17 WARN MemoryStore: Not enough space to cache rdd_831_6 in memory! (computed 17.0 MiB so far)\n",
      "24/04/07 09:57:17 WARN MemoryStore: Not enough space to cache rdd_831_4 in memory! (computed 17.0 MiB so far)\n",
      "24/04/07 09:57:17 WARN MemoryStore: Not enough space to cache rdd_831_0 in memory! (computed 17.0 MiB so far)\n",
      "24/04/07 09:57:17 WARN MemoryStore: Not enough space to cache rdd_831_2 in memory! (computed 17.0 MiB so far)\n",
      "24/04/07 09:57:17 WARN MemoryStore: Not enough space to cache rdd_831_1 in memory! (computed 17.0 MiB so far)\n",
      "24/04/07 09:57:17 WARN MemoryStore: Not enough space to cache rdd_831_3 in memory! (computed 17.0 MiB so far)\n"
     ]
    },
    {
     "name": "stderr",
     "output_type": "stream",
     "text": [
      "24/04/07 09:57:17 WARN MemoryStore: Not enough space to cache rdd_831_5 in memory! (computed 17.0 MiB so far)\n",
      "24/04/07 09:57:17 WARN MemoryStore: Not enough space to cache rdd_831_6 in memory! (computed 17.0 MiB so far)\n",
      "24/04/07 09:57:17 WARN MemoryStore: Not enough space to cache rdd_831_4 in memory! (computed 17.0 MiB so far)\n",
      "24/04/07 09:57:18 WARN MemoryStore: Not enough space to cache rdd_831_0 in memory! (computed 17.0 MiB so far)\n",
      "24/04/07 09:57:18 WARN MemoryStore: Not enough space to cache rdd_831_3 in memory! (computed 17.0 MiB so far)\n",
      "24/04/07 09:57:18 WARN MemoryStore: Not enough space to cache rdd_831_2 in memory! (computed 17.0 MiB so far)\n",
      "24/04/07 09:57:18 WARN MemoryStore: Not enough space to cache rdd_831_1 in memory! (computed 17.0 MiB so far)\n",
      "24/04/07 09:57:18 WARN MemoryStore: Not enough space to cache rdd_831_5 in memory! (computed 17.0 MiB so far)\n",
      "24/04/07 09:57:18 WARN MemoryStore: Not enough space to cache rdd_831_4 in memory! (computed 17.0 MiB so far)\n",
      "24/04/07 09:57:18 WARN MemoryStore: Not enough space to cache rdd_831_6 in memory! (computed 17.0 MiB so far)\n",
      "24/04/07 09:57:19 WARN MemoryStore: Not enough space to cache rdd_831_3 in memory! (computed 17.0 MiB so far)\n",
      "24/04/07 09:57:19 WARN MemoryStore: Not enough space to cache rdd_831_0 in memory! (computed 17.0 MiB so far)\n",
      "24/04/07 09:57:19 WARN MemoryStore: Not enough space to cache rdd_831_2 in memory! (computed 17.0 MiB so far)\n",
      "24/04/07 09:57:19 WARN MemoryStore: Not enough space to cache rdd_831_1 in memory! (computed 17.0 MiB so far)\n",
      "24/04/07 09:57:19 WARN MemoryStore: Not enough space to cache rdd_831_5 in memory! (computed 17.0 MiB so far)\n",
      "24/04/07 09:57:19 WARN MemoryStore: Not enough space to cache rdd_831_4 in memory! (computed 17.0 MiB so far)\n",
      "24/04/07 09:57:19 WARN MemoryStore: Not enough space to cache rdd_831_6 in memory! (computed 17.0 MiB so far)\n",
      "24/04/07 09:57:19 WARN MemoryStore: Not enough space to cache rdd_831_3 in memory! (computed 17.0 MiB so far)\n",
      "24/04/07 09:57:19 WARN MemoryStore: Not enough space to cache rdd_831_2 in memory! (computed 17.0 MiB so far)\n",
      "24/04/07 09:57:19 WARN MemoryStore: Not enough space to cache rdd_831_0 in memory! (computed 17.0 MiB so far)\n",
      "24/04/07 09:57:19 WARN MemoryStore: Not enough space to cache rdd_831_1 in memory! (computed 17.0 MiB so far)\n",
      "24/04/07 09:57:20 WARN MemoryStore: Not enough space to cache rdd_831_4 in memory! (computed 17.0 MiB so far)\n",
      "24/04/07 09:57:20 WARN MemoryStore: Not enough space to cache rdd_831_5 in memory! (computed 17.0 MiB so far)\n",
      "24/04/07 09:57:20 WARN MemoryStore: Not enough space to cache rdd_831_6 in memory! (computed 17.0 MiB so far)\n",
      "24/04/07 09:57:20 WARN MemoryStore: Not enough space to cache rdd_831_3 in memory! (computed 17.0 MiB so far)\n",
      "24/04/07 09:57:20 WARN MemoryStore: Not enough space to cache rdd_831_0 in memory! (computed 17.0 MiB so far)\n",
      "24/04/07 09:57:20 WARN MemoryStore: Not enough space to cache rdd_831_1 in memory! (computed 17.0 MiB so far)\n",
      "24/04/07 09:57:20 WARN MemoryStore: Not enough space to cache rdd_831_2 in memory! (computed 17.0 MiB so far)\n",
      "24/04/07 09:57:20 WARN MemoryStore: Not enough space to cache rdd_831_4 in memory! (computed 17.0 MiB so far)\n",
      "24/04/07 09:57:21 WARN MemoryStore: Not enough space to cache rdd_831_5 in memory! (computed 17.0 MiB so far)\n",
      "24/04/07 09:57:21 WARN MemoryStore: Not enough space to cache rdd_831_6 in memory! (computed 17.0 MiB so far)\n",
      "24/04/07 09:57:21 WARN MemoryStore: Not enough space to cache rdd_831_1 in memory! (computed 17.0 MiB so far)\n",
      "24/04/07 09:57:21 WARN MemoryStore: Not enough space to cache rdd_831_3 in memory! (computed 17.0 MiB so far)\n",
      "24/04/07 09:57:21 WARN MemoryStore: Not enough space to cache rdd_831_0 in memory! (computed 17.0 MiB so far)\n",
      "24/04/07 09:57:21 WARN MemoryStore: Not enough space to cache rdd_831_2 in memory! (computed 17.0 MiB so far)\n",
      "24/04/07 09:57:22 WARN MemoryStore: Not enough space to cache rdd_831_4 in memory! (computed 17.0 MiB so far)\n",
      "24/04/07 09:57:22 WARN MemoryStore: Not enough space to cache rdd_831_5 in memory! (computed 17.0 MiB so far)\n",
      "24/04/07 09:57:22 WARN MemoryStore: Not enough space to cache rdd_831_6 in memory! (computed 17.0 MiB so far)\n",
      "24/04/07 09:57:22 WARN MemoryStore: Not enough space to cache rdd_831_2 in memory! (computed 17.0 MiB so far)\n",
      "24/04/07 09:57:22 WARN MemoryStore: Not enough space to cache rdd_831_0 in memory! (computed 17.0 MiB so far)\n",
      "24/04/07 09:57:22 WARN MemoryStore: Not enough space to cache rdd_831_1 in memory! (computed 17.0 MiB so far)\n",
      "24/04/07 09:57:22 WARN MemoryStore: Not enough space to cache rdd_831_3 in memory! (computed 17.0 MiB so far)\n",
      "24/04/07 09:57:22 WARN MemoryStore: Not enough space to cache rdd_831_4 in memory! (computed 17.0 MiB so far)\n",
      "24/04/07 09:57:22 WARN MemoryStore: Not enough space to cache rdd_831_5 in memory! (computed 17.0 MiB so far)\n",
      "24/04/07 09:57:22 WARN MemoryStore: Not enough space to cache rdd_831_6 in memory! (computed 17.0 MiB so far)\n",
      "24/04/07 09:57:23 WARN MemoryStore: Not enough space to cache rdd_831_3 in memory! (computed 17.0 MiB so far)\n",
      "24/04/07 09:57:23 WARN MemoryStore: Not enough space to cache rdd_831_1 in memory! (computed 17.0 MiB so far)\n",
      "24/04/07 09:57:23 WARN MemoryStore: Not enough space to cache rdd_831_0 in memory! (computed 17.0 MiB so far)\n",
      "24/04/07 09:57:23 WARN MemoryStore: Not enough space to cache rdd_831_2 in memory! (computed 17.0 MiB so far)\n",
      "24/04/07 09:57:23 WARN MemoryStore: Not enough space to cache rdd_831_4 in memory! (computed 17.0 MiB so far)\n",
      "24/04/07 09:57:23 WARN MemoryStore: Not enough space to cache rdd_831_6 in memory! (computed 17.0 MiB so far)\n",
      "24/04/07 09:57:23 WARN MemoryStore: Not enough space to cache rdd_831_5 in memory! (computed 17.0 MiB so far)\n",
      "24/04/07 09:57:23 WARN MemoryStore: Not enough space to cache rdd_831_1 in memory! (computed 17.0 MiB so far)\n",
      "24/04/07 09:57:23 WARN MemoryStore: Not enough space to cache rdd_831_2 in memory! (computed 17.0 MiB so far)\n",
      "24/04/07 09:57:23 WARN MemoryStore: Not enough space to cache rdd_831_3 in memory! (computed 17.0 MiB so far)\n",
      "24/04/07 09:57:23 WARN MemoryStore: Not enough space to cache rdd_831_0 in memory! (computed 17.0 MiB so far)\n",
      "24/04/07 09:57:24 WARN MemoryStore: Not enough space to cache rdd_831_4 in memory! (computed 17.0 MiB so far)\n",
      "24/04/07 09:57:24 WARN MemoryStore: Not enough space to cache rdd_831_5 in memory! (computed 17.0 MiB so far)\n",
      "24/04/07 09:57:24 WARN MemoryStore: Not enough space to cache rdd_831_6 in memory! (computed 17.0 MiB so far)\n",
      "24/04/07 09:57:25 WARN MemoryStore: Not enough space to cache rdd_831_3 in memory! (computed 17.0 MiB so far)\n",
      "24/04/07 09:57:25 WARN MemoryStore: Not enough space to cache rdd_831_0 in memory! (computed 17.0 MiB so far)\n",
      "24/04/07 09:57:25 WARN MemoryStore: Not enough space to cache rdd_831_1 in memory! (computed 17.0 MiB so far)\n",
      "24/04/07 09:57:25 WARN MemoryStore: Not enough space to cache rdd_831_2 in memory! (computed 17.0 MiB so far)\n",
      "24/04/07 09:57:25 WARN MemoryStore: Not enough space to cache rdd_831_5 in memory! (computed 17.0 MiB so far)\n",
      "24/04/07 09:57:25 WARN MemoryStore: Not enough space to cache rdd_831_4 in memory! (computed 17.0 MiB so far)\n",
      "24/04/07 09:57:25 WARN MemoryStore: Not enough space to cache rdd_831_6 in memory! (computed 17.0 MiB so far)\n",
      "24/04/07 09:57:25 WARN MemoryStore: Not enough space to cache rdd_831_0 in memory! (computed 17.0 MiB so far)\n",
      "24/04/07 09:57:25 WARN MemoryStore: Not enough space to cache rdd_831_3 in memory! (computed 17.0 MiB so far)\n",
      "24/04/07 09:57:25 WARN MemoryStore: Not enough space to cache rdd_831_1 in memory! (computed 17.0 MiB so far)\n",
      "24/04/07 09:57:25 WARN MemoryStore: Not enough space to cache rdd_831_2 in memory! (computed 17.0 MiB so far)\n",
      "24/04/07 09:57:25 WARN MemoryStore: Not enough space to cache rdd_831_5 in memory! (computed 17.0 MiB so far)\n",
      "24/04/07 09:57:26 WARN MemoryStore: Not enough space to cache rdd_831_4 in memory! (computed 17.0 MiB so far)\n",
      "24/04/07 09:57:26 WARN MemoryStore: Not enough space to cache rdd_831_6 in memory! (computed 17.0 MiB so far)\n",
      "24/04/07 09:57:26 WARN MemoryStore: Not enough space to cache rdd_831_3 in memory! (computed 17.0 MiB so far)\n",
      "24/04/07 09:57:26 WARN MemoryStore: Not enough space to cache rdd_831_2 in memory! (computed 17.0 MiB so far)\n",
      "24/04/07 09:57:26 WARN MemoryStore: Not enough space to cache rdd_831_0 in memory! (computed 17.0 MiB so far)\n",
      "24/04/07 09:57:26 WARN MemoryStore: Not enough space to cache rdd_831_1 in memory! (computed 17.0 MiB so far)\n"
     ]
    },
    {
     "name": "stderr",
     "output_type": "stream",
     "text": [
      "24/04/07 09:57:26 WARN MemoryStore: Not enough space to cache rdd_831_4 in memory! (computed 17.0 MiB so far)\n",
      "24/04/07 09:57:26 WARN MemoryStore: Not enough space to cache rdd_831_5 in memory! (computed 17.0 MiB so far)\n",
      "24/04/07 09:57:27 WARN MemoryStore: Not enough space to cache rdd_831_6 in memory! (computed 17.0 MiB so far)\n",
      "24/04/07 09:57:27 WARN MemoryStore: Not enough space to cache rdd_831_1 in memory! (computed 17.0 MiB so far)\n",
      "24/04/07 09:57:27 WARN MemoryStore: Not enough space to cache rdd_831_2 in memory! (computed 17.0 MiB so far)\n",
      "24/04/07 09:57:27 WARN MemoryStore: Not enough space to cache rdd_831_0 in memory! (computed 17.0 MiB so far)\n",
      "24/04/07 09:57:27 WARN MemoryStore: Not enough space to cache rdd_831_3 in memory! (computed 17.0 MiB so far)\n",
      "24/04/07 09:57:27 WARN MemoryStore: Not enough space to cache rdd_831_4 in memory! (computed 17.0 MiB so far)\n",
      "24/04/07 09:57:27 WARN MemoryStore: Not enough space to cache rdd_831_6 in memory! (computed 17.0 MiB so far)\n",
      "24/04/07 09:57:27 WARN MemoryStore: Not enough space to cache rdd_831_5 in memory! (computed 17.0 MiB so far)\n",
      "24/04/07 09:57:28 WARN MemoryStore: Not enough space to cache rdd_831_2 in memory! (computed 17.0 MiB so far)\n",
      "24/04/07 09:57:28 WARN MemoryStore: Not enough space to cache rdd_831_1 in memory! (computed 17.0 MiB so far)\n",
      "24/04/07 09:57:28 WARN MemoryStore: Not enough space to cache rdd_831_3 in memory! (computed 17.0 MiB so far)\n",
      "24/04/07 09:57:28 WARN MemoryStore: Not enough space to cache rdd_831_0 in memory! (computed 17.0 MiB so far)\n",
      "24/04/07 09:57:28 WARN MemoryStore: Not enough space to cache rdd_831_4 in memory! (computed 17.0 MiB so far)\n",
      "24/04/07 09:57:28 WARN MemoryStore: Not enough space to cache rdd_831_5 in memory! (computed 17.0 MiB so far)\n",
      "24/04/07 09:57:28 WARN MemoryStore: Not enough space to cache rdd_831_6 in memory! (computed 17.0 MiB so far)\n",
      "24/04/07 09:57:29 WARN MemoryStore: Not enough space to cache rdd_831_2 in memory! (computed 17.0 MiB so far)\n",
      "24/04/07 09:57:29 WARN MemoryStore: Not enough space to cache rdd_831_0 in memory! (computed 17.0 MiB so far)\n",
      "24/04/07 09:57:29 WARN MemoryStore: Not enough space to cache rdd_831_3 in memory! (computed 17.0 MiB so far)\n",
      "24/04/07 09:57:29 WARN MemoryStore: Not enough space to cache rdd_831_1 in memory! (computed 17.0 MiB so far)\n",
      "24/04/07 09:57:29 WARN MemoryStore: Not enough space to cache rdd_831_5 in memory! (computed 17.0 MiB so far)\n",
      "24/04/07 09:57:29 WARN MemoryStore: Not enough space to cache rdd_831_4 in memory! (computed 17.0 MiB so far)\n",
      "24/04/07 09:57:29 WARN MemoryStore: Not enough space to cache rdd_831_6 in memory! (computed 17.0 MiB so far)\n",
      "24/04/07 09:57:29 WARN MemoryStore: Not enough space to cache rdd_831_1 in memory! (computed 17.0 MiB so far)\n",
      "24/04/07 09:57:29 WARN MemoryStore: Not enough space to cache rdd_831_0 in memory! (computed 17.0 MiB so far)\n",
      "24/04/07 09:57:29 WARN MemoryStore: Not enough space to cache rdd_831_2 in memory! (computed 17.0 MiB so far)\n",
      "24/04/07 09:57:29 WARN MemoryStore: Not enough space to cache rdd_831_3 in memory! (computed 17.0 MiB so far)\n",
      "24/04/07 09:57:30 WARN MemoryStore: Not enough space to cache rdd_831_5 in memory! (computed 17.0 MiB so far)\n",
      "24/04/07 09:57:30 WARN MemoryStore: Not enough space to cache rdd_831_4 in memory! (computed 17.0 MiB so far)\n",
      "24/04/07 09:57:30 WARN MemoryStore: Not enough space to cache rdd_831_6 in memory! (computed 17.0 MiB so far)\n",
      "24/04/07 09:57:30 WARN MemoryStore: Not enough space to cache rdd_831_3 in memory! (computed 17.0 MiB so far)\n",
      "24/04/07 09:57:30 WARN MemoryStore: Not enough space to cache rdd_831_0 in memory! (computed 17.0 MiB so far)\n",
      "24/04/07 09:57:30 WARN MemoryStore: Not enough space to cache rdd_831_2 in memory! (computed 17.0 MiB so far)\n",
      "24/04/07 09:57:30 WARN MemoryStore: Not enough space to cache rdd_831_1 in memory! (computed 17.0 MiB so far)\n",
      "24/04/07 09:57:31 WARN MemoryStore: Not enough space to cache rdd_831_4 in memory! (computed 17.0 MiB so far)\n",
      "24/04/07 09:57:31 WARN MemoryStore: Not enough space to cache rdd_831_5 in memory! (computed 17.0 MiB so far)\n",
      "24/04/07 09:57:31 WARN MemoryStore: Not enough space to cache rdd_831_6 in memory! (computed 17.0 MiB so far)\n",
      "24/04/07 09:57:32 WARN MemoryStore: Not enough space to cache rdd_831_2 in memory! (computed 17.0 MiB so far)\n",
      "24/04/07 09:57:32 WARN MemoryStore: Not enough space to cache rdd_831_1 in memory! (computed 17.0 MiB so far)\n",
      "24/04/07 09:57:32 WARN MemoryStore: Not enough space to cache rdd_831_3 in memory! (computed 17.0 MiB so far)\n",
      "24/04/07 09:57:32 WARN MemoryStore: Not enough space to cache rdd_831_0 in memory! (computed 17.0 MiB so far)\n",
      "24/04/07 09:57:32 WARN MemoryStore: Not enough space to cache rdd_831_4 in memory! (computed 17.0 MiB so far)\n",
      "24/04/07 09:57:32 WARN MemoryStore: Not enough space to cache rdd_831_5 in memory! (computed 17.0 MiB so far)\n",
      "24/04/07 09:57:32 WARN MemoryStore: Not enough space to cache rdd_831_6 in memory! (computed 17.0 MiB so far)\n",
      "24/04/07 09:57:32 WARN MemoryStore: Not enough space to cache rdd_831_0 in memory! (computed 17.0 MiB so far)\n",
      "24/04/07 09:57:33 WARN MemoryStore: Not enough space to cache rdd_831_2 in memory! (computed 17.0 MiB so far)\n",
      "24/04/07 09:57:33 WARN MemoryStore: Not enough space to cache rdd_831_1 in memory! (computed 17.0 MiB so far)\n",
      "24/04/07 09:57:33 WARN MemoryStore: Not enough space to cache rdd_831_3 in memory! (computed 17.0 MiB so far)\n",
      "24/04/07 09:57:33 WARN MemoryStore: Not enough space to cache rdd_831_4 in memory! (computed 17.0 MiB so far)\n",
      "24/04/07 09:57:33 WARN MemoryStore: Not enough space to cache rdd_831_5 in memory! (computed 17.0 MiB so far)\n",
      "24/04/07 09:57:33 WARN MemoryStore: Not enough space to cache rdd_831_6 in memory! (computed 17.0 MiB so far)\n",
      "24/04/07 09:57:34 WARN MemoryStore: Not enough space to cache rdd_831_3 in memory! (computed 17.0 MiB so far)\n",
      "24/04/07 09:57:34 WARN MemoryStore: Not enough space to cache rdd_831_2 in memory! (computed 17.0 MiB so far)\n",
      "24/04/07 09:57:34 WARN MemoryStore: Not enough space to cache rdd_831_1 in memory! (computed 17.0 MiB so far)\n",
      "24/04/07 09:57:34 WARN MemoryStore: Not enough space to cache rdd_831_0 in memory! (computed 17.0 MiB so far)\n",
      "24/04/07 09:57:34 WARN MemoryStore: Not enough space to cache rdd_831_4 in memory! (computed 17.0 MiB so far)\n",
      "24/04/07 09:57:34 WARN MemoryStore: Not enough space to cache rdd_831_5 in memory! (computed 17.0 MiB so far)\n",
      "24/04/07 09:57:34 WARN MemoryStore: Not enough space to cache rdd_831_6 in memory! (computed 17.0 MiB so far)\n",
      "24/04/07 09:57:35 WARN MemoryStore: Not enough space to cache rdd_831_2 in memory! (computed 17.0 MiB so far)\n",
      "24/04/07 09:57:35 WARN MemoryStore: Not enough space to cache rdd_831_3 in memory! (computed 17.0 MiB so far)\n",
      "24/04/07 09:57:35 WARN MemoryStore: Not enough space to cache rdd_831_0 in memory! (computed 17.0 MiB so far)\n",
      "24/04/07 09:57:35 WARN MemoryStore: Not enough space to cache rdd_831_1 in memory! (computed 17.0 MiB so far)\n",
      "24/04/07 09:57:35 WARN MemoryStore: Not enough space to cache rdd_831_5 in memory! (computed 17.0 MiB so far)\n",
      "24/04/07 09:57:35 WARN MemoryStore: Not enough space to cache rdd_831_4 in memory! (computed 17.0 MiB so far)\n",
      "24/04/07 09:57:35 WARN MemoryStore: Not enough space to cache rdd_831_6 in memory! (computed 17.0 MiB so far)\n",
      "24/04/07 09:57:36 WARN MemoryStore: Not enough space to cache rdd_831_0 in memory! (computed 17.0 MiB so far)\n",
      "24/04/07 09:57:36 WARN MemoryStore: Not enough space to cache rdd_831_1 in memory! (computed 17.0 MiB so far)\n",
      "24/04/07 09:57:36 WARN MemoryStore: Not enough space to cache rdd_831_3 in memory! (computed 17.0 MiB so far)\n",
      "24/04/07 09:57:36 WARN MemoryStore: Not enough space to cache rdd_831_2 in memory! (computed 17.0 MiB so far)\n",
      "24/04/07 09:57:36 WARN MemoryStore: Not enough space to cache rdd_831_4 in memory! (computed 17.0 MiB so far)\n",
      "24/04/07 09:57:36 WARN MemoryStore: Not enough space to cache rdd_831_6 in memory! (computed 17.0 MiB so far)\n",
      "24/04/07 09:57:36 WARN MemoryStore: Not enough space to cache rdd_831_5 in memory! (computed 17.0 MiB so far)\n",
      "24/04/07 09:57:36 WARN MemoryStore: Not enough space to cache rdd_831_3 in memory! (computed 17.0 MiB so far)\n",
      "24/04/07 09:57:36 WARN MemoryStore: Not enough space to cache rdd_831_2 in memory! (computed 17.0 MiB so far)\n",
      "24/04/07 09:57:36 WARN MemoryStore: Not enough space to cache rdd_831_1 in memory! (computed 17.0 MiB so far)\n",
      "24/04/07 09:57:36 WARN MemoryStore: Not enough space to cache rdd_831_0 in memory! (computed 17.0 MiB so far)\n",
      "24/04/07 09:57:36 WARN MemoryStore: Not enough space to cache rdd_831_5 in memory! (computed 17.0 MiB so far)\n"
     ]
    },
    {
     "name": "stderr",
     "output_type": "stream",
     "text": [
      "24/04/07 09:57:36 WARN MemoryStore: Not enough space to cache rdd_831_4 in memory! (computed 17.0 MiB so far)\n",
      "24/04/07 09:57:36 WARN MemoryStore: Not enough space to cache rdd_831_6 in memory! (computed 17.0 MiB so far)\n",
      "24/04/07 09:57:37 WARN MemoryStore: Not enough space to cache rdd_831_1 in memory! (computed 17.0 MiB so far)\n",
      "24/04/07 09:57:37 WARN MemoryStore: Not enough space to cache rdd_831_3 in memory! (computed 17.0 MiB so far)\n",
      "24/04/07 09:57:37 WARN MemoryStore: Not enough space to cache rdd_831_0 in memory! (computed 17.0 MiB so far)\n",
      "24/04/07 09:57:37 WARN MemoryStore: Not enough space to cache rdd_831_2 in memory! (computed 17.0 MiB so far)\n",
      "24/04/07 09:57:37 WARN MemoryStore: Not enough space to cache rdd_831_4 in memory! (computed 17.0 MiB so far)\n",
      "24/04/07 09:57:37 WARN MemoryStore: Not enough space to cache rdd_831_6 in memory! (computed 17.0 MiB so far)\n",
      "24/04/07 09:57:37 WARN MemoryStore: Not enough space to cache rdd_831_5 in memory! (computed 17.0 MiB so far)\n",
      "24/04/07 09:57:38 WARN MemoryStore: Not enough space to cache rdd_831_0 in memory! (computed 17.0 MiB so far)\n",
      "24/04/07 09:57:38 WARN MemoryStore: Not enough space to cache rdd_831_2 in memory! (computed 17.0 MiB so far)\n",
      "24/04/07 09:57:38 WARN MemoryStore: Not enough space to cache rdd_831_3 in memory! (computed 17.0 MiB so far)\n",
      "24/04/07 09:57:38 WARN MemoryStore: Not enough space to cache rdd_831_1 in memory! (computed 17.0 MiB so far)\n",
      "24/04/07 09:57:38 WARN MemoryStore: Not enough space to cache rdd_831_4 in memory! (computed 17.0 MiB so far)\n",
      "24/04/07 09:57:38 WARN MemoryStore: Not enough space to cache rdd_831_5 in memory! (computed 17.0 MiB so far)\n",
      "24/04/07 09:57:38 WARN MemoryStore: Not enough space to cache rdd_831_6 in memory! (computed 17.0 MiB so far)\n",
      "24/04/07 09:57:38 WARN MemoryStore: Not enough space to cache rdd_831_3 in memory! (computed 17.0 MiB so far)\n",
      "24/04/07 09:57:38 WARN MemoryStore: Not enough space to cache rdd_831_2 in memory! (computed 17.0 MiB so far)\n",
      "24/04/07 09:57:38 WARN MemoryStore: Not enough space to cache rdd_831_0 in memory! (computed 17.0 MiB so far)\n",
      "24/04/07 09:57:38 WARN MemoryStore: Not enough space to cache rdd_831_1 in memory! (computed 17.0 MiB so far)\n",
      "24/04/07 09:57:39 WARN MemoryStore: Not enough space to cache rdd_831_4 in memory! (computed 17.0 MiB so far)\n",
      "24/04/07 09:57:39 WARN MemoryStore: Not enough space to cache rdd_831_5 in memory! (computed 17.0 MiB so far)\n",
      "24/04/07 09:57:39 WARN MemoryStore: Not enough space to cache rdd_831_6 in memory! (computed 17.0 MiB so far)\n",
      "24/04/07 09:57:39 WARN MemoryStore: Not enough space to cache rdd_831_3 in memory! (computed 17.0 MiB so far)\n",
      "24/04/07 09:57:39 WARN MemoryStore: Not enough space to cache rdd_831_0 in memory! (computed 17.0 MiB so far)\n",
      "24/04/07 09:57:39 WARN MemoryStore: Not enough space to cache rdd_831_1 in memory! (computed 17.0 MiB so far)\n",
      "24/04/07 09:57:39 WARN MemoryStore: Not enough space to cache rdd_831_2 in memory! (computed 17.0 MiB so far)\n",
      "24/04/07 09:57:39 WARN MemoryStore: Not enough space to cache rdd_831_4 in memory! (computed 17.0 MiB so far)\n",
      "24/04/07 09:57:39 WARN MemoryStore: Not enough space to cache rdd_831_5 in memory! (computed 17.0 MiB so far)\n",
      "24/04/07 09:57:39 WARN MemoryStore: Not enough space to cache rdd_831_6 in memory! (computed 17.0 MiB so far)\n",
      "24/04/07 09:57:40 WARN MemoryStore: Not enough space to cache rdd_831_3 in memory! (computed 17.0 MiB so far)\n",
      "24/04/07 09:57:40 WARN MemoryStore: Not enough space to cache rdd_831_2 in memory! (computed 17.0 MiB so far)\n",
      "24/04/07 09:57:40 WARN MemoryStore: Not enough space to cache rdd_831_1 in memory! (computed 17.0 MiB so far)\n",
      "24/04/07 09:57:40 WARN MemoryStore: Not enough space to cache rdd_831_0 in memory! (computed 17.0 MiB so far)\n",
      "24/04/07 09:57:40 WARN MemoryStore: Not enough space to cache rdd_831_4 in memory! (computed 17.0 MiB so far)\n",
      "24/04/07 09:57:40 WARN MemoryStore: Not enough space to cache rdd_831_5 in memory! (computed 17.0 MiB so far)\n",
      "24/04/07 09:57:40 WARN MemoryStore: Not enough space to cache rdd_831_6 in memory! (computed 17.0 MiB so far)\n",
      "24/04/07 09:57:40 WARN MemoryStore: Not enough space to cache rdd_831_2 in memory! (computed 17.0 MiB so far)\n",
      "24/04/07 09:57:40 WARN MemoryStore: Not enough space to cache rdd_831_1 in memory! (computed 17.0 MiB so far)\n",
      "24/04/07 09:57:40 WARN MemoryStore: Not enough space to cache rdd_831_0 in memory! (computed 17.0 MiB so far)\n",
      "24/04/07 09:57:40 WARN MemoryStore: Not enough space to cache rdd_831_3 in memory! (computed 17.0 MiB so far)\n",
      "24/04/07 09:57:40 WARN MemoryStore: Not enough space to cache rdd_831_6 in memory! (computed 17.0 MiB so far)\n",
      "24/04/07 09:57:40 WARN MemoryStore: Not enough space to cache rdd_831_5 in memory! (computed 17.0 MiB so far)\n",
      "24/04/07 09:57:40 WARN MemoryStore: Not enough space to cache rdd_831_4 in memory! (computed 17.0 MiB so far)\n",
      "24/04/07 09:57:41 WARN MemoryStore: Not enough space to cache rdd_831_1 in memory! (computed 17.0 MiB so far)\n",
      "24/04/07 09:57:41 WARN MemoryStore: Not enough space to cache rdd_831_3 in memory! (computed 17.0 MiB so far)\n",
      "24/04/07 09:57:41 WARN MemoryStore: Not enough space to cache rdd_831_0 in memory! (computed 17.0 MiB so far)\n",
      "24/04/07 09:57:41 WARN MemoryStore: Not enough space to cache rdd_831_2 in memory! (computed 17.0 MiB so far)\n",
      "24/04/07 09:57:41 WARN MemoryStore: Not enough space to cache rdd_831_4 in memory! (computed 17.0 MiB so far)\n",
      "24/04/07 09:57:41 WARN MemoryStore: Not enough space to cache rdd_831_5 in memory! (computed 17.0 MiB so far)\n",
      "24/04/07 09:57:41 WARN MemoryStore: Not enough space to cache rdd_831_6 in memory! (computed 17.0 MiB so far)\n",
      "24/04/07 09:57:41 WARN MemoryStore: Not enough space to cache rdd_831_2 in memory! (computed 17.0 MiB so far)\n",
      "24/04/07 09:57:41 WARN MemoryStore: Not enough space to cache rdd_831_0 in memory! (computed 17.0 MiB so far)\n",
      "24/04/07 09:57:41 WARN MemoryStore: Not enough space to cache rdd_831_3 in memory! (computed 17.0 MiB so far)\n",
      "24/04/07 09:57:41 WARN MemoryStore: Not enough space to cache rdd_831_1 in memory! (computed 17.0 MiB so far)\n",
      "24/04/07 09:57:42 WARN MemoryStore: Not enough space to cache rdd_831_4 in memory! (computed 17.0 MiB so far)\n",
      "24/04/07 09:57:42 WARN MemoryStore: Not enough space to cache rdd_831_6 in memory! (computed 17.0 MiB so far)\n",
      "24/04/07 09:57:42 WARN MemoryStore: Not enough space to cache rdd_831_5 in memory! (computed 17.0 MiB so far)\n",
      "24/04/07 09:57:42 WARN MemoryStore: Not enough space to cache rdd_831_2 in memory! (computed 17.0 MiB so far)\n",
      "24/04/07 09:57:42 WARN MemoryStore: Not enough space to cache rdd_831_0 in memory! (computed 17.0 MiB so far)\n",
      "24/04/07 09:57:42 WARN MemoryStore: Not enough space to cache rdd_831_3 in memory! (computed 17.0 MiB so far)\n",
      "24/04/07 09:57:42 WARN MemoryStore: Not enough space to cache rdd_831_1 in memory! (computed 17.0 MiB so far)\n",
      "24/04/07 09:57:42 WARN MemoryStore: Not enough space to cache rdd_831_5 in memory! (computed 17.0 MiB so far)\n",
      "24/04/07 09:57:42 WARN MemoryStore: Not enough space to cache rdd_831_4 in memory! (computed 17.0 MiB so far)\n",
      "24/04/07 09:57:42 WARN MemoryStore: Not enough space to cache rdd_831_6 in memory! (computed 17.0 MiB so far)\n",
      "24/04/07 09:57:43 WARN MemoryStore: Not enough space to cache rdd_831_1 in memory! (computed 17.0 MiB so far)\n",
      "24/04/07 09:57:43 WARN MemoryStore: Not enough space to cache rdd_831_2 in memory! (computed 17.0 MiB so far)\n",
      "24/04/07 09:57:43 WARN MemoryStore: Not enough space to cache rdd_831_3 in memory! (computed 17.0 MiB so far)\n",
      "24/04/07 09:57:43 WARN MemoryStore: Not enough space to cache rdd_831_0 in memory! (computed 17.0 MiB so far)\n",
      "24/04/07 09:57:43 WARN MemoryStore: Not enough space to cache rdd_831_6 in memory! (computed 17.0 MiB so far)\n",
      "24/04/07 09:57:43 WARN MemoryStore: Not enough space to cache rdd_831_5 in memory! (computed 17.0 MiB so far)\n",
      "24/04/07 09:57:43 WARN MemoryStore: Not enough space to cache rdd_831_4 in memory! (computed 17.0 MiB so far)\n",
      "24/04/07 09:57:43 WARN MemoryStore: Not enough space to cache rdd_831_3 in memory! (computed 17.0 MiB so far)\n",
      "24/04/07 09:57:43 WARN MemoryStore: Not enough space to cache rdd_831_2 in memory! (computed 17.0 MiB so far)\n",
      "24/04/07 09:57:43 WARN MemoryStore: Not enough space to cache rdd_831_1 in memory! (computed 17.0 MiB so far)\n",
      "24/04/07 09:57:43 WARN MemoryStore: Not enough space to cache rdd_831_0 in memory! (computed 17.0 MiB so far)\n"
     ]
    },
    {
     "name": "stderr",
     "output_type": "stream",
     "text": [
      "24/04/07 09:57:44 WARN MemoryStore: Not enough space to cache rdd_831_4 in memory! (computed 17.0 MiB so far)\n",
      "24/04/07 09:57:44 WARN MemoryStore: Not enough space to cache rdd_831_5 in memory! (computed 17.0 MiB so far)\n",
      "24/04/07 09:57:44 WARN MemoryStore: Not enough space to cache rdd_831_6 in memory! (computed 17.0 MiB so far)\n",
      "24/04/07 09:57:44 WARN MemoryStore: Not enough space to cache rdd_831_2 in memory! (computed 17.0 MiB so far)\n",
      "24/04/07 09:57:44 WARN MemoryStore: Not enough space to cache rdd_831_0 in memory! (computed 17.0 MiB so far)\n",
      "24/04/07 09:57:44 WARN MemoryStore: Not enough space to cache rdd_831_1 in memory! (computed 17.0 MiB so far)\n",
      "24/04/07 09:57:44 WARN MemoryStore: Not enough space to cache rdd_831_3 in memory! (computed 17.0 MiB so far)\n",
      "24/04/07 09:57:44 WARN MemoryStore: Not enough space to cache rdd_831_4 in memory! (computed 17.0 MiB so far)\n",
      "24/04/07 09:57:44 WARN MemoryStore: Not enough space to cache rdd_831_5 in memory! (computed 17.0 MiB so far)\n",
      "24/04/07 09:57:44 WARN MemoryStore: Not enough space to cache rdd_831_6 in memory! (computed 17.0 MiB so far)\n",
      "24/04/07 09:57:45 WARN MemoryStore: Not enough space to cache rdd_831_3 in memory! (computed 17.0 MiB so far)\n",
      "24/04/07 09:57:45 WARN MemoryStore: Not enough space to cache rdd_831_2 in memory! (computed 17.0 MiB so far)\n",
      "24/04/07 09:57:45 WARN MemoryStore: Not enough space to cache rdd_831_1 in memory! (computed 17.0 MiB so far)\n",
      "24/04/07 09:57:45 WARN MemoryStore: Not enough space to cache rdd_831_0 in memory! (computed 17.0 MiB so far)\n",
      "24/04/07 09:57:45 WARN MemoryStore: Not enough space to cache rdd_831_5 in memory! (computed 17.0 MiB so far)\n",
      "24/04/07 09:57:45 WARN MemoryStore: Not enough space to cache rdd_831_4 in memory! (computed 17.0 MiB so far)\n",
      "24/04/07 09:57:45 WARN MemoryStore: Not enough space to cache rdd_831_6 in memory! (computed 17.0 MiB so far)\n",
      "24/04/07 09:57:45 WARN MemoryStore: Not enough space to cache rdd_831_2 in memory! (computed 17.0 MiB so far)\n",
      "24/04/07 09:57:45 WARN MemoryStore: Not enough space to cache rdd_831_0 in memory! (computed 17.0 MiB so far)\n",
      "24/04/07 09:57:45 WARN MemoryStore: Not enough space to cache rdd_831_1 in memory! (computed 17.0 MiB so far)\n",
      "24/04/07 09:57:45 WARN MemoryStore: Not enough space to cache rdd_831_3 in memory! (computed 17.0 MiB so far)\n",
      "24/04/07 09:57:46 WARN MemoryStore: Not enough space to cache rdd_831_4 in memory! (computed 17.0 MiB so far)\n",
      "24/04/07 09:57:46 WARN MemoryStore: Not enough space to cache rdd_831_5 in memory! (computed 17.0 MiB so far)\n",
      "24/04/07 09:57:46 WARN MemoryStore: Not enough space to cache rdd_831_6 in memory! (computed 17.0 MiB so far)\n",
      "24/04/07 09:57:46 WARN MemoryStore: Not enough space to cache rdd_831_0 in memory! (computed 17.0 MiB so far)\n",
      "24/04/07 09:57:46 WARN MemoryStore: Not enough space to cache rdd_831_2 in memory! (computed 17.0 MiB so far)\n",
      "24/04/07 09:57:46 WARN MemoryStore: Not enough space to cache rdd_831_1 in memory! (computed 17.0 MiB so far)\n",
      "24/04/07 09:57:46 WARN MemoryStore: Not enough space to cache rdd_831_3 in memory! (computed 17.0 MiB so far)\n",
      "24/04/07 09:57:46 WARN MemoryStore: Not enough space to cache rdd_831_4 in memory! (computed 17.0 MiB so far)\n",
      "24/04/07 09:57:46 WARN MemoryStore: Not enough space to cache rdd_831_5 in memory! (computed 17.0 MiB so far)\n",
      "24/04/07 09:57:46 WARN MemoryStore: Not enough space to cache rdd_831_6 in memory! (computed 17.0 MiB so far)\n",
      "24/04/07 09:57:47 WARN MemoryStore: Not enough space to cache rdd_831_1 in memory! (computed 17.0 MiB so far)\n",
      "24/04/07 09:57:47 WARN MemoryStore: Not enough space to cache rdd_831_2 in memory! (computed 17.0 MiB so far)\n",
      "24/04/07 09:57:47 WARN MemoryStore: Not enough space to cache rdd_831_3 in memory! (computed 17.0 MiB so far)\n",
      "24/04/07 09:57:47 WARN MemoryStore: Not enough space to cache rdd_831_0 in memory! (computed 17.0 MiB so far)\n",
      "24/04/07 09:57:47 WARN MemoryStore: Not enough space to cache rdd_831_4 in memory! (computed 17.0 MiB so far)\n",
      "24/04/07 09:57:47 WARN MemoryStore: Not enough space to cache rdd_831_5 in memory! (computed 17.0 MiB so far)\n",
      "24/04/07 09:57:47 WARN MemoryStore: Not enough space to cache rdd_831_6 in memory! (computed 17.0 MiB so far)\n",
      "24/04/07 09:57:47 WARN MemoryStore: Not enough space to cache rdd_831_2 in memory! (computed 17.0 MiB so far)\n",
      "24/04/07 09:57:47 WARN MemoryStore: Not enough space to cache rdd_831_3 in memory! (computed 17.0 MiB so far)\n",
      "24/04/07 09:57:47 WARN MemoryStore: Not enough space to cache rdd_831_0 in memory! (computed 17.0 MiB so far)\n",
      "24/04/07 09:57:47 WARN MemoryStore: Not enough space to cache rdd_831_1 in memory! (computed 17.0 MiB so far)\n",
      "24/04/07 09:57:48 WARN MemoryStore: Not enough space to cache rdd_831_5 in memory! (computed 17.0 MiB so far)\n",
      "24/04/07 09:57:48 WARN MemoryStore: Not enough space to cache rdd_831_4 in memory! (computed 17.0 MiB so far)\n",
      "24/04/07 09:57:48 WARN MemoryStore: Not enough space to cache rdd_831_6 in memory! (computed 17.0 MiB so far)\n",
      "24/04/07 09:57:48 WARN MemoryStore: Not enough space to cache rdd_831_1 in memory! (computed 17.0 MiB so far)\n",
      "24/04/07 09:57:48 WARN MemoryStore: Not enough space to cache rdd_831_2 in memory! (computed 17.0 MiB so far)\n",
      "24/04/07 09:57:48 WARN MemoryStore: Not enough space to cache rdd_831_0 in memory! (computed 17.0 MiB so far)\n",
      "24/04/07 09:57:48 WARN MemoryStore: Not enough space to cache rdd_831_3 in memory! (computed 17.0 MiB so far)\n",
      "24/04/07 09:57:48 WARN MemoryStore: Not enough space to cache rdd_831_5 in memory! (computed 17.0 MiB so far)\n",
      "24/04/07 09:57:48 WARN MemoryStore: Not enough space to cache rdd_831_4 in memory! (computed 17.0 MiB so far)\n",
      "24/04/07 09:57:48 WARN MemoryStore: Not enough space to cache rdd_831_6 in memory! (computed 17.0 MiB so far)\n",
      "24/04/07 09:57:48 WARN MemoryStore: Not enough space to cache rdd_831_1 in memory! (computed 17.0 MiB so far)\n",
      "24/04/07 09:57:48 WARN MemoryStore: Not enough space to cache rdd_831_3 in memory! (computed 17.0 MiB so far)\n",
      "24/04/07 09:57:48 WARN MemoryStore: Not enough space to cache rdd_831_2 in memory! (computed 17.0 MiB so far)\n",
      "24/04/07 09:57:48 WARN MemoryStore: Not enough space to cache rdd_831_0 in memory! (computed 17.0 MiB so far)\n",
      "24/04/07 09:57:49 WARN MemoryStore: Not enough space to cache rdd_831_5 in memory! (computed 17.0 MiB so far)\n",
      "24/04/07 09:57:49 WARN MemoryStore: Not enough space to cache rdd_831_4 in memory! (computed 17.0 MiB so far)\n",
      "24/04/07 09:57:49 WARN MemoryStore: Not enough space to cache rdd_831_6 in memory! (computed 17.0 MiB so far)\n",
      "24/04/07 09:57:49 WARN MemoryStore: Not enough space to cache rdd_831_2 in memory! (computed 17.0 MiB so far)\n",
      "24/04/07 09:57:49 WARN MemoryStore: Not enough space to cache rdd_831_1 in memory! (computed 17.0 MiB so far)\n",
      "24/04/07 09:57:49 WARN MemoryStore: Not enough space to cache rdd_831_3 in memory! (computed 17.0 MiB so far)\n",
      "24/04/07 09:57:49 WARN MemoryStore: Not enough space to cache rdd_831_0 in memory! (computed 17.0 MiB so far)\n",
      "24/04/07 09:57:49 WARN MemoryStore: Not enough space to cache rdd_831_4 in memory! (computed 17.0 MiB so far)\n",
      "24/04/07 09:57:49 WARN MemoryStore: Not enough space to cache rdd_831_5 in memory! (computed 17.0 MiB so far)\n",
      "24/04/07 09:57:49 WARN MemoryStore: Not enough space to cache rdd_831_6 in memory! (computed 17.0 MiB so far)\n",
      "24/04/07 09:57:50 WARN MemoryStore: Not enough space to cache rdd_831_1 in memory! (computed 17.0 MiB so far)\n",
      "24/04/07 09:57:50 WARN MemoryStore: Not enough space to cache rdd_831_3 in memory! (computed 17.0 MiB so far)\n",
      "24/04/07 09:57:50 WARN MemoryStore: Not enough space to cache rdd_831_0 in memory! (computed 17.0 MiB so far)\n",
      "24/04/07 09:57:50 WARN MemoryStore: Not enough space to cache rdd_831_2 in memory! (computed 17.0 MiB so far)\n",
      "24/04/07 09:57:50 WARN MemoryStore: Not enough space to cache rdd_831_4 in memory! (computed 17.0 MiB so far)\n",
      "24/04/07 09:57:50 WARN MemoryStore: Not enough space to cache rdd_831_5 in memory! (computed 17.0 MiB so far)\n",
      "24/04/07 09:57:50 WARN MemoryStore: Not enough space to cache rdd_831_6 in memory! (computed 17.0 MiB so far)\n",
      "24/04/07 09:57:50 WARN MemoryStore: Not enough space to cache rdd_831_2 in memory! (computed 17.0 MiB so far)\n",
      "24/04/07 09:57:50 WARN MemoryStore: Not enough space to cache rdd_831_0 in memory! (computed 17.0 MiB so far)\n",
      "24/04/07 09:57:50 WARN MemoryStore: Not enough space to cache rdd_831_1 in memory! (computed 17.0 MiB so far)\n",
      "24/04/07 09:57:50 WARN MemoryStore: Not enough space to cache rdd_831_3 in memory! (computed 17.0 MiB so far)\n"
     ]
    },
    {
     "name": "stderr",
     "output_type": "stream",
     "text": [
      "24/04/07 09:57:51 WARN MemoryStore: Not enough space to cache rdd_831_4 in memory! (computed 17.0 MiB so far)\n",
      "24/04/07 09:57:51 WARN MemoryStore: Not enough space to cache rdd_831_5 in memory! (computed 17.0 MiB so far)\n",
      "24/04/07 09:57:51 WARN MemoryStore: Not enough space to cache rdd_831_6 in memory! (computed 17.0 MiB so far)\n",
      "24/04/07 09:57:51 WARN MemoryStore: Not enough space to cache rdd_831_1 in memory! (computed 17.0 MiB so far)\n",
      "24/04/07 09:57:51 WARN MemoryStore: Not enough space to cache rdd_831_3 in memory! (computed 17.0 MiB so far)\n",
      "24/04/07 09:57:51 WARN MemoryStore: Not enough space to cache rdd_831_2 in memory! (computed 17.0 MiB so far)\n",
      "24/04/07 09:57:51 WARN MemoryStore: Not enough space to cache rdd_831_0 in memory! (computed 17.0 MiB so far)\n",
      "24/04/07 09:57:51 WARN MemoryStore: Not enough space to cache rdd_831_4 in memory! (computed 17.0 MiB so far)\n",
      "24/04/07 09:57:51 WARN MemoryStore: Not enough space to cache rdd_831_5 in memory! (computed 17.0 MiB so far)\n",
      "24/04/07 09:57:51 WARN MemoryStore: Not enough space to cache rdd_831_6 in memory! (computed 17.0 MiB so far)\n",
      "24/04/07 09:57:52 WARN MemoryStore: Not enough space to cache rdd_831_3 in memory! (computed 17.0 MiB so far)\n",
      "24/04/07 09:57:52 WARN MemoryStore: Not enough space to cache rdd_831_2 in memory! (computed 17.0 MiB so far)\n",
      "24/04/07 09:57:52 WARN MemoryStore: Not enough space to cache rdd_831_0 in memory! (computed 17.0 MiB so far)\n",
      "24/04/07 09:57:52 WARN MemoryStore: Not enough space to cache rdd_831_1 in memory! (computed 17.0 MiB so far)\n",
      "24/04/07 09:57:52 WARN MemoryStore: Not enough space to cache rdd_831_5 in memory! (computed 17.0 MiB so far)\n",
      "24/04/07 09:57:52 WARN MemoryStore: Not enough space to cache rdd_831_4 in memory! (computed 17.0 MiB so far)\n",
      "24/04/07 09:57:52 WARN MemoryStore: Not enough space to cache rdd_831_6 in memory! (computed 17.0 MiB so far)\n",
      "24/04/07 09:57:52 WARN MemoryStore: Not enough space to cache rdd_831_0 in memory! (computed 17.0 MiB so far)\n",
      "24/04/07 09:57:52 WARN MemoryStore: Not enough space to cache rdd_831_2 in memory! (computed 17.0 MiB so far)\n",
      "24/04/07 09:57:52 WARN MemoryStore: Not enough space to cache rdd_831_3 in memory! (computed 17.0 MiB so far)\n",
      "24/04/07 09:57:52 WARN MemoryStore: Not enough space to cache rdd_831_1 in memory! (computed 17.0 MiB so far)\n",
      "24/04/07 09:57:52 WARN MemoryStore: Not enough space to cache rdd_831_4 in memory! (computed 17.0 MiB so far)\n",
      "24/04/07 09:57:53 WARN MemoryStore: Not enough space to cache rdd_831_5 in memory! (computed 17.0 MiB so far)\n",
      "24/04/07 09:57:53 WARN MemoryStore: Not enough space to cache rdd_831_6 in memory! (computed 17.0 MiB so far)\n",
      "24/04/07 09:57:53 WARN MemoryStore: Not enough space to cache rdd_831_1 in memory! (computed 17.0 MiB so far)\n",
      "24/04/07 09:57:53 WARN MemoryStore: Not enough space to cache rdd_831_0 in memory! (computed 17.0 MiB so far)\n",
      "24/04/07 09:57:53 WARN MemoryStore: Not enough space to cache rdd_831_2 in memory! (computed 17.0 MiB so far)\n",
      "24/04/07 09:57:53 WARN MemoryStore: Not enough space to cache rdd_831_3 in memory! (computed 17.0 MiB so far)\n",
      "24/04/07 09:57:53 WARN MemoryStore: Not enough space to cache rdd_831_6 in memory! (computed 17.0 MiB so far)\n",
      "24/04/07 09:57:53 WARN MemoryStore: Not enough space to cache rdd_831_5 in memory! (computed 17.0 MiB so far)\n",
      "24/04/07 09:57:53 WARN MemoryStore: Not enough space to cache rdd_831_4 in memory! (computed 17.0 MiB so far)\n",
      "24/04/07 09:57:54 WARN MemoryStore: Not enough space to cache rdd_831_3 in memory! (computed 17.0 MiB so far)\n",
      "24/04/07 09:57:54 WARN MemoryStore: Not enough space to cache rdd_831_0 in memory! (computed 17.0 MiB so far)\n",
      "24/04/07 09:57:54 WARN MemoryStore: Not enough space to cache rdd_831_1 in memory! (computed 17.0 MiB so far)\n",
      "24/04/07 09:57:54 WARN MemoryStore: Not enough space to cache rdd_831_2 in memory! (computed 17.0 MiB so far)\n",
      "24/04/07 09:57:54 WARN MemoryStore: Not enough space to cache rdd_831_4 in memory! (computed 17.0 MiB so far)\n",
      "24/04/07 09:57:54 WARN MemoryStore: Not enough space to cache rdd_831_5 in memory! (computed 17.0 MiB so far)\n",
      "24/04/07 09:57:54 WARN MemoryStore: Not enough space to cache rdd_831_6 in memory! (computed 17.0 MiB so far)\n",
      "24/04/07 09:57:54 WARN MemoryStore: Not enough space to cache rdd_831_3 in memory! (computed 17.0 MiB so far)\n",
      "24/04/07 09:57:54 WARN MemoryStore: Not enough space to cache rdd_831_1 in memory! (computed 17.0 MiB so far)\n",
      "24/04/07 09:57:54 WARN MemoryStore: Not enough space to cache rdd_831_0 in memory! (computed 17.0 MiB so far)\n",
      "24/04/07 09:57:54 WARN MemoryStore: Not enough space to cache rdd_831_2 in memory! (computed 17.0 MiB so far)\n",
      "24/04/07 09:57:54 WARN MemoryStore: Not enough space to cache rdd_831_5 in memory! (computed 17.0 MiB so far)\n",
      "24/04/07 09:57:54 WARN MemoryStore: Not enough space to cache rdd_831_4 in memory! (computed 17.0 MiB so far)\n",
      "24/04/07 09:57:54 WARN MemoryStore: Not enough space to cache rdd_831_6 in memory! (computed 17.0 MiB so far)\n",
      "24/04/07 09:57:55 WARN MemoryStore: Not enough space to cache rdd_831_1 in memory! (computed 17.0 MiB so far)\n",
      "24/04/07 09:57:55 WARN MemoryStore: Not enough space to cache rdd_831_3 in memory! (computed 17.0 MiB so far)\n",
      "24/04/07 09:57:55 WARN MemoryStore: Not enough space to cache rdd_831_0 in memory! (computed 17.0 MiB so far)\n",
      "24/04/07 09:57:55 WARN MemoryStore: Not enough space to cache rdd_831_2 in memory! (computed 17.0 MiB so far)\n",
      "24/04/07 09:57:55 WARN MemoryStore: Not enough space to cache rdd_831_5 in memory! (computed 17.0 MiB so far)\n",
      "24/04/07 09:57:55 WARN MemoryStore: Not enough space to cache rdd_831_4 in memory! (computed 17.0 MiB so far)\n",
      "24/04/07 09:57:55 WARN MemoryStore: Not enough space to cache rdd_831_6 in memory! (computed 17.0 MiB so far)\n",
      "24/04/07 09:57:55 WARN MemoryStore: Not enough space to cache rdd_831_1 in memory! (computed 17.0 MiB so far)\n",
      "24/04/07 09:57:55 WARN MemoryStore: Not enough space to cache rdd_831_0 in memory! (computed 17.0 MiB so far)\n",
      "24/04/07 09:57:55 WARN MemoryStore: Not enough space to cache rdd_831_2 in memory! (computed 17.0 MiB so far)\n",
      "24/04/07 09:57:56 WARN MemoryStore: Not enough space to cache rdd_831_3 in memory! (computed 17.0 MiB so far)\n",
      "24/04/07 09:57:56 WARN MemoryStore: Not enough space to cache rdd_831_4 in memory! (computed 17.0 MiB so far)\n",
      "24/04/07 09:57:56 WARN MemoryStore: Not enough space to cache rdd_831_5 in memory! (computed 17.0 MiB so far)\n",
      "24/04/07 09:57:56 WARN MemoryStore: Not enough space to cache rdd_831_6 in memory! (computed 17.0 MiB so far)\n",
      "24/04/07 09:57:56 WARN MemoryStore: Not enough space to cache rdd_831_2 in memory! (computed 17.0 MiB so far)\n",
      "24/04/07 09:57:56 WARN MemoryStore: Not enough space to cache rdd_831_1 in memory! (computed 17.0 MiB so far)\n",
      "24/04/07 09:57:56 WARN MemoryStore: Not enough space to cache rdd_831_3 in memory! (computed 17.0 MiB so far)\n",
      "24/04/07 09:57:56 WARN MemoryStore: Not enough space to cache rdd_831_0 in memory! (computed 17.0 MiB so far)\n",
      "24/04/07 09:57:56 WARN MemoryStore: Not enough space to cache rdd_831_4 in memory! (computed 17.0 MiB so far)\n",
      "24/04/07 09:57:56 WARN MemoryStore: Not enough space to cache rdd_831_5 in memory! (computed 17.0 MiB so far)\n",
      "24/04/07 09:57:56 WARN MemoryStore: Not enough space to cache rdd_831_6 in memory! (computed 17.0 MiB so far)\n",
      "24/04/07 09:57:57 WARN MemoryStore: Not enough space to cache rdd_831_2 in memory! (computed 17.0 MiB so far)\n",
      "24/04/07 09:57:57 WARN MemoryStore: Not enough space to cache rdd_831_0 in memory! (computed 17.0 MiB so far)\n",
      "24/04/07 09:57:57 WARN MemoryStore: Not enough space to cache rdd_831_3 in memory! (computed 17.0 MiB so far)\n",
      "24/04/07 09:57:57 WARN MemoryStore: Not enough space to cache rdd_831_1 in memory! (computed 17.0 MiB so far)\n",
      "24/04/07 09:57:57 WARN MemoryStore: Not enough space to cache rdd_831_5 in memory! (computed 17.0 MiB so far)\n",
      "24/04/07 09:57:57 WARN MemoryStore: Not enough space to cache rdd_831_6 in memory! (computed 17.0 MiB so far)\n",
      "24/04/07 09:57:57 WARN MemoryStore: Not enough space to cache rdd_831_4 in memory! (computed 17.0 MiB so far)\n",
      "24/04/07 09:57:57 WARN MemoryStore: Not enough space to cache rdd_831_0 in memory! (computed 17.0 MiB so far)\n",
      "24/04/07 09:57:57 WARN MemoryStore: Not enough space to cache rdd_831_3 in memory! (computed 17.0 MiB so far)\n",
      "24/04/07 09:57:57 WARN MemoryStore: Not enough space to cache rdd_831_2 in memory! (computed 17.0 MiB so far)\n",
      "24/04/07 09:57:57 WARN MemoryStore: Not enough space to cache rdd_831_1 in memory! (computed 17.0 MiB so far)\n"
     ]
    },
    {
     "name": "stderr",
     "output_type": "stream",
     "text": [
      "24/04/07 09:57:58 WARN MemoryStore: Not enough space to cache rdd_831_5 in memory! (computed 17.0 MiB so far)\n",
      "24/04/07 09:57:58 WARN MemoryStore: Not enough space to cache rdd_831_4 in memory! (computed 17.0 MiB so far)\n",
      "24/04/07 09:57:58 WARN MemoryStore: Not enough space to cache rdd_831_6 in memory! (computed 17.0 MiB so far)\n",
      "24/04/07 09:57:58 WARN MemoryStore: Not enough space to cache rdd_831_3 in memory! (computed 17.0 MiB so far)\n",
      "24/04/07 09:57:58 WARN MemoryStore: Not enough space to cache rdd_831_2 in memory! (computed 17.0 MiB so far)\n",
      "24/04/07 09:57:58 WARN MemoryStore: Not enough space to cache rdd_831_0 in memory! (computed 17.0 MiB so far)\n",
      "24/04/07 09:57:58 WARN MemoryStore: Not enough space to cache rdd_831_1 in memory! (computed 17.0 MiB so far)\n",
      "24/04/07 09:57:58 WARN MemoryStore: Not enough space to cache rdd_831_4 in memory! (computed 17.0 MiB so far)\n",
      "24/04/07 09:57:58 WARN MemoryStore: Not enough space to cache rdd_831_5 in memory! (computed 17.0 MiB so far)\n",
      "24/04/07 09:57:58 WARN MemoryStore: Not enough space to cache rdd_831_6 in memory! (computed 17.0 MiB so far)\n",
      "24/04/07 09:57:59 WARN MemoryStore: Not enough space to cache rdd_831_0 in memory! (computed 17.0 MiB so far)\n",
      "24/04/07 09:57:59 WARN MemoryStore: Not enough space to cache rdd_831_3 in memory! (computed 17.0 MiB so far)\n",
      "24/04/07 09:57:59 WARN MemoryStore: Not enough space to cache rdd_831_2 in memory! (computed 17.0 MiB so far)\n",
      "24/04/07 09:57:59 WARN MemoryStore: Not enough space to cache rdd_831_1 in memory! (computed 17.0 MiB so far)\n",
      "24/04/07 09:57:59 WARN MemoryStore: Not enough space to cache rdd_831_4 in memory! (computed 17.0 MiB so far)\n",
      "24/04/07 09:57:59 WARN MemoryStore: Not enough space to cache rdd_831_5 in memory! (computed 17.0 MiB so far)\n",
      "24/04/07 09:57:59 WARN MemoryStore: Not enough space to cache rdd_831_6 in memory! (computed 17.0 MiB so far)\n",
      "24/04/07 09:57:59 WARN MemoryStore: Not enough space to cache rdd_831_1 in memory! (computed 17.0 MiB so far)\n",
      "24/04/07 09:57:59 WARN MemoryStore: Not enough space to cache rdd_831_2 in memory! (computed 17.0 MiB so far)\n",
      "24/04/07 09:57:59 WARN MemoryStore: Not enough space to cache rdd_831_3 in memory! (computed 17.0 MiB so far)\n",
      "24/04/07 09:57:59 WARN MemoryStore: Not enough space to cache rdd_831_0 in memory! (computed 17.0 MiB so far)\n",
      "24/04/07 09:57:59 WARN MemoryStore: Not enough space to cache rdd_831_5 in memory! (computed 17.0 MiB so far)\n",
      "24/04/07 09:57:59 WARN MemoryStore: Not enough space to cache rdd_831_4 in memory! (computed 17.0 MiB so far)\n",
      "24/04/07 09:57:59 WARN MemoryStore: Not enough space to cache rdd_831_6 in memory! (computed 17.0 MiB so far)\n",
      "24/04/07 09:58:00 WARN MemoryStore: Not enough space to cache rdd_831_2 in memory! (computed 17.0 MiB so far)\n",
      "24/04/07 09:58:00 WARN MemoryStore: Not enough space to cache rdd_831_0 in memory! (computed 17.0 MiB so far)\n",
      "24/04/07 09:58:00 WARN MemoryStore: Not enough space to cache rdd_831_3 in memory! (computed 17.0 MiB so far)\n",
      "24/04/07 09:58:00 WARN MemoryStore: Not enough space to cache rdd_831_1 in memory! (computed 17.0 MiB so far)\n",
      "24/04/07 09:58:00 WARN MemoryStore: Not enough space to cache rdd_831_4 in memory! (computed 17.0 MiB so far)\n",
      "24/04/07 09:58:00 WARN MemoryStore: Not enough space to cache rdd_831_6 in memory! (computed 17.0 MiB so far)\n",
      "24/04/07 09:58:00 WARN MemoryStore: Not enough space to cache rdd_831_5 in memory! (computed 17.0 MiB so far)\n",
      "24/04/07 09:58:00 WARN MemoryStore: Not enough space to cache rdd_831_1 in memory! (computed 17.0 MiB so far)\n",
      "24/04/07 09:58:00 WARN MemoryStore: Not enough space to cache rdd_831_2 in memory! (computed 17.0 MiB so far)\n",
      "24/04/07 09:58:00 WARN MemoryStore: Not enough space to cache rdd_831_0 in memory! (computed 17.0 MiB so far)\n",
      "24/04/07 09:58:01 WARN MemoryStore: Not enough space to cache rdd_831_3 in memory! (computed 17.0 MiB so far)\n",
      "24/04/07 09:58:01 WARN MemoryStore: Not enough space to cache rdd_831_4 in memory! (computed 17.0 MiB so far)\n",
      "24/04/07 09:58:01 WARN MemoryStore: Not enough space to cache rdd_831_5 in memory! (computed 17.0 MiB so far)\n",
      "24/04/07 09:58:01 WARN MemoryStore: Not enough space to cache rdd_831_6 in memory! (computed 17.0 MiB so far)\n",
      "24/04/07 09:58:01 WARN MemoryStore: Not enough space to cache rdd_831_1 in memory! (computed 17.0 MiB so far)\n",
      "24/04/07 09:58:01 WARN MemoryStore: Not enough space to cache rdd_831_3 in memory! (computed 17.0 MiB so far)\n",
      "24/04/07 09:58:01 WARN MemoryStore: Not enough space to cache rdd_831_0 in memory! (computed 17.0 MiB so far)\n",
      "24/04/07 09:58:01 WARN MemoryStore: Not enough space to cache rdd_831_2 in memory! (computed 17.0 MiB so far)\n",
      "24/04/07 09:58:01 WARN MemoryStore: Not enough space to cache rdd_831_4 in memory! (computed 17.0 MiB so far)\n",
      "24/04/07 09:58:01 WARN MemoryStore: Not enough space to cache rdd_831_5 in memory! (computed 17.0 MiB so far)\n",
      "24/04/07 09:58:01 WARN MemoryStore: Not enough space to cache rdd_831_6 in memory! (computed 17.0 MiB so far)\n",
      "24/04/07 09:58:02 WARN MemoryStore: Not enough space to cache rdd_831_0 in memory! (computed 17.0 MiB so far)\n",
      "24/04/07 09:58:02 WARN MemoryStore: Not enough space to cache rdd_831_2 in memory! (computed 17.0 MiB so far)\n",
      "24/04/07 09:58:02 WARN MemoryStore: Not enough space to cache rdd_831_1 in memory! (computed 17.0 MiB so far)\n",
      "24/04/07 09:58:02 WARN MemoryStore: Not enough space to cache rdd_831_3 in memory! (computed 17.0 MiB so far)\n",
      "24/04/07 09:58:02 WARN MemoryStore: Not enough space to cache rdd_831_4 in memory! (computed 17.0 MiB so far)\n",
      "24/04/07 09:58:02 WARN MemoryStore: Not enough space to cache rdd_831_5 in memory! (computed 17.0 MiB so far)\n",
      "24/04/07 09:58:02 WARN MemoryStore: Not enough space to cache rdd_831_6 in memory! (computed 17.0 MiB so far)\n",
      "24/04/07 09:58:02 WARN MemoryStore: Not enough space to cache rdd_831_2 in memory! (computed 17.0 MiB so far)\n",
      "24/04/07 09:58:02 WARN MemoryStore: Not enough space to cache rdd_831_3 in memory! (computed 17.0 MiB so far)\n",
      "24/04/07 09:58:02 WARN MemoryStore: Not enough space to cache rdd_831_0 in memory! (computed 17.0 MiB so far)\n",
      "24/04/07 09:58:02 WARN MemoryStore: Not enough space to cache rdd_831_1 in memory! (computed 17.0 MiB so far)\n",
      "24/04/07 09:58:02 WARN MemoryStore: Not enough space to cache rdd_831_4 in memory! (computed 17.0 MiB so far)\n",
      "24/04/07 09:58:02 WARN MemoryStore: Not enough space to cache rdd_831_5 in memory! (computed 17.0 MiB so far)\n",
      "24/04/07 09:58:02 WARN MemoryStore: Not enough space to cache rdd_831_6 in memory! (computed 17.0 MiB so far)\n",
      "24/04/07 09:58:03 WARN MemoryStore: Not enough space to cache rdd_831_1 in memory! (computed 17.0 MiB so far)\n",
      "24/04/07 09:58:03 WARN MemoryStore: Not enough space to cache rdd_831_2 in memory! (computed 17.0 MiB so far)\n",
      "24/04/07 09:58:03 WARN MemoryStore: Not enough space to cache rdd_831_0 in memory! (computed 17.0 MiB so far)\n",
      "24/04/07 09:58:03 WARN MemoryStore: Not enough space to cache rdd_831_3 in memory! (computed 17.0 MiB so far)\n",
      "24/04/07 09:58:03 WARN MemoryStore: Not enough space to cache rdd_831_4 in memory! (computed 17.0 MiB so far)\n",
      "24/04/07 09:58:03 WARN MemoryStore: Not enough space to cache rdd_831_6 in memory! (computed 17.0 MiB so far)\n",
      "24/04/07 09:58:03 WARN MemoryStore: Not enough space to cache rdd_831_5 in memory! (computed 17.0 MiB so far)\n",
      "24/04/07 09:58:04 WARN MemoryStore: Not enough space to cache rdd_831_1 in memory! (computed 17.0 MiB so far)\n",
      "24/04/07 09:58:04 WARN MemoryStore: Not enough space to cache rdd_831_2 in memory! (computed 17.0 MiB so far)\n",
      "24/04/07 09:58:04 WARN MemoryStore: Not enough space to cache rdd_831_3 in memory! (computed 17.0 MiB so far)\n",
      "24/04/07 09:58:04 WARN MemoryStore: Not enough space to cache rdd_831_0 in memory! (computed 17.0 MiB so far)\n",
      "24/04/07 09:58:04 WARN MemoryStore: Not enough space to cache rdd_831_5 in memory! (computed 17.0 MiB so far)\n",
      "24/04/07 09:58:04 WARN MemoryStore: Not enough space to cache rdd_831_4 in memory! (computed 17.0 MiB so far)\n",
      "24/04/07 09:58:04 WARN MemoryStore: Not enough space to cache rdd_831_6 in memory! (computed 17.0 MiB so far)\n",
      "24/04/07 09:58:04 WARN MemoryStore: Not enough space to cache rdd_831_1 in memory! (computed 17.0 MiB so far)\n",
      "24/04/07 09:58:04 WARN MemoryStore: Not enough space to cache rdd_831_3 in memory! (computed 17.0 MiB so far)\n",
      "24/04/07 09:58:04 WARN MemoryStore: Not enough space to cache rdd_831_0 in memory! (computed 17.0 MiB so far)\n",
      "24/04/07 09:58:04 WARN MemoryStore: Not enough space to cache rdd_831_2 in memory! (computed 17.0 MiB so far)\n"
     ]
    },
    {
     "name": "stderr",
     "output_type": "stream",
     "text": [
      "24/04/07 09:58:04 WARN MemoryStore: Not enough space to cache rdd_831_4 in memory! (computed 17.0 MiB so far)\n",
      "24/04/07 09:58:04 WARN MemoryStore: Not enough space to cache rdd_831_5 in memory! (computed 17.0 MiB so far)\n",
      "24/04/07 09:58:04 WARN MemoryStore: Not enough space to cache rdd_831_6 in memory! (computed 17.0 MiB so far)\n",
      "24/04/07 09:58:05 WARN MemoryStore: Not enough space to cache rdd_831_0 in memory! (computed 17.0 MiB so far)\n",
      "24/04/07 09:58:05 WARN MemoryStore: Not enough space to cache rdd_831_1 in memory! (computed 17.0 MiB so far)\n",
      "24/04/07 09:58:05 WARN MemoryStore: Not enough space to cache rdd_831_2 in memory! (computed 17.0 MiB so far)\n",
      "24/04/07 09:58:05 WARN MemoryStore: Not enough space to cache rdd_831_3 in memory! (computed 17.0 MiB so far)\n",
      "24/04/07 09:58:05 WARN MemoryStore: Not enough space to cache rdd_831_5 in memory! (computed 17.0 MiB so far)\n",
      "24/04/07 09:58:05 WARN MemoryStore: Not enough space to cache rdd_831_4 in memory! (computed 17.0 MiB so far)\n",
      "24/04/07 09:58:05 WARN MemoryStore: Not enough space to cache rdd_831_6 in memory! (computed 17.0 MiB so far)\n",
      "24/04/07 09:58:05 WARN MemoryStore: Not enough space to cache rdd_831_0 in memory! (computed 17.0 MiB so far)\n",
      "24/04/07 09:58:05 WARN MemoryStore: Not enough space to cache rdd_831_2 in memory! (computed 17.0 MiB so far)\n",
      "24/04/07 09:58:05 WARN MemoryStore: Not enough space to cache rdd_831_3 in memory! (computed 17.0 MiB so far)\n",
      "24/04/07 09:58:05 WARN MemoryStore: Not enough space to cache rdd_831_1 in memory! (computed 17.0 MiB so far)\n",
      "24/04/07 09:58:06 WARN MemoryStore: Not enough space to cache rdd_831_6 in memory! (computed 17.0 MiB so far)\n",
      "24/04/07 09:58:06 WARN MemoryStore: Not enough space to cache rdd_831_4 in memory! (computed 17.0 MiB so far)\n",
      "24/04/07 09:58:06 WARN MemoryStore: Not enough space to cache rdd_831_5 in memory! (computed 17.0 MiB so far)\n",
      "24/04/07 09:58:06 WARN MemoryStore: Not enough space to cache rdd_831_3 in memory! (computed 17.0 MiB so far)\n",
      "24/04/07 09:58:06 WARN MemoryStore: Not enough space to cache rdd_831_1 in memory! (computed 17.0 MiB so far)\n",
      "24/04/07 09:58:06 WARN MemoryStore: Not enough space to cache rdd_831_0 in memory! (computed 17.0 MiB so far)\n",
      "24/04/07 09:58:06 WARN MemoryStore: Not enough space to cache rdd_831_2 in memory! (computed 17.0 MiB so far)\n",
      "24/04/07 09:58:06 WARN MemoryStore: Not enough space to cache rdd_831_4 in memory! (computed 17.0 MiB so far)\n",
      "24/04/07 09:58:06 WARN MemoryStore: Not enough space to cache rdd_831_5 in memory! (computed 17.0 MiB so far)\n",
      "24/04/07 09:58:06 WARN MemoryStore: Not enough space to cache rdd_831_6 in memory! (computed 17.0 MiB so far)\n",
      "24/04/07 09:58:07 WARN MemoryStore: Not enough space to cache rdd_831_2 in memory! (computed 17.0 MiB so far)\n",
      "24/04/07 09:58:07 WARN MemoryStore: Not enough space to cache rdd_831_1 in memory! (computed 17.0 MiB so far)\n",
      "24/04/07 09:58:07 WARN MemoryStore: Not enough space to cache rdd_831_0 in memory! (computed 17.0 MiB so far)\n",
      "24/04/07 09:58:07 WARN MemoryStore: Not enough space to cache rdd_831_3 in memory! (computed 17.0 MiB so far)\n",
      "24/04/07 09:58:07 WARN MemoryStore: Not enough space to cache rdd_831_4 in memory! (computed 17.0 MiB so far)\n",
      "24/04/07 09:58:07 WARN MemoryStore: Not enough space to cache rdd_831_5 in memory! (computed 17.0 MiB so far)\n",
      "24/04/07 09:58:07 WARN MemoryStore: Not enough space to cache rdd_831_6 in memory! (computed 17.0 MiB so far)\n",
      "24/04/07 09:58:07 WARN MemoryStore: Not enough space to cache rdd_831_0 in memory! (computed 17.0 MiB so far)\n",
      "24/04/07 09:58:07 WARN MemoryStore: Not enough space to cache rdd_831_1 in memory! (computed 17.0 MiB so far)\n",
      "24/04/07 09:58:07 WARN MemoryStore: Not enough space to cache rdd_831_3 in memory! (computed 17.0 MiB so far)\n",
      "24/04/07 09:58:08 WARN MemoryStore: Not enough space to cache rdd_831_2 in memory! (computed 17.0 MiB so far)\n",
      "24/04/07 09:58:08 WARN MemoryStore: Not enough space to cache rdd_831_4 in memory! (computed 17.0 MiB so far)\n",
      "24/04/07 09:58:08 WARN MemoryStore: Not enough space to cache rdd_831_6 in memory! (computed 17.0 MiB so far)\n",
      "24/04/07 09:58:08 WARN MemoryStore: Not enough space to cache rdd_831_5 in memory! (computed 17.0 MiB so far)\n",
      "24/04/07 09:58:08 WARN MemoryStore: Not enough space to cache rdd_831_2 in memory! (computed 17.0 MiB so far)\n",
      "24/04/07 09:58:08 WARN MemoryStore: Not enough space to cache rdd_831_1 in memory! (computed 17.0 MiB so far)\n",
      "24/04/07 09:58:08 WARN MemoryStore: Not enough space to cache rdd_831_3 in memory! (computed 17.0 MiB so far)\n",
      "24/04/07 09:58:08 WARN MemoryStore: Not enough space to cache rdd_831_0 in memory! (computed 17.0 MiB so far)\n",
      "24/04/07 09:58:08 WARN MemoryStore: Not enough space to cache rdd_831_4 in memory! (computed 17.0 MiB so far)\n",
      "24/04/07 09:58:08 WARN MemoryStore: Not enough space to cache rdd_831_5 in memory! (computed 17.0 MiB so far)\n",
      "24/04/07 09:58:08 WARN MemoryStore: Not enough space to cache rdd_831_6 in memory! (computed 17.0 MiB so far)\n",
      "24/04/07 09:58:09 WARN MemoryStore: Not enough space to cache rdd_831_2 in memory! (computed 17.0 MiB so far)\n",
      "24/04/07 09:58:09 WARN MemoryStore: Not enough space to cache rdd_831_3 in memory! (computed 17.0 MiB so far)\n",
      "24/04/07 09:58:09 WARN MemoryStore: Not enough space to cache rdd_831_0 in memory! (computed 17.0 MiB so far)\n",
      "24/04/07 09:58:09 WARN MemoryStore: Not enough space to cache rdd_831_1 in memory! (computed 17.0 MiB so far)\n",
      "24/04/07 09:58:09 WARN MemoryStore: Not enough space to cache rdd_831_4 in memory! (computed 17.0 MiB so far)\n",
      "24/04/07 09:58:09 WARN MemoryStore: Not enough space to cache rdd_831_5 in memory! (computed 17.0 MiB so far)\n",
      "24/04/07 09:58:09 WARN MemoryStore: Not enough space to cache rdd_831_6 in memory! (computed 17.0 MiB so far)\n",
      "24/04/07 09:58:09 WARN MemoryStore: Not enough space to cache rdd_831_1 in memory! (computed 17.0 MiB so far)\n",
      "24/04/07 09:58:09 WARN MemoryStore: Not enough space to cache rdd_831_0 in memory! (computed 17.0 MiB so far)\n",
      "24/04/07 09:58:09 WARN MemoryStore: Not enough space to cache rdd_831_2 in memory! (computed 17.0 MiB so far)\n",
      "24/04/07 09:58:09 WARN MemoryStore: Not enough space to cache rdd_831_3 in memory! (computed 17.0 MiB so far)\n",
      "24/04/07 09:58:10 WARN MemoryStore: Not enough space to cache rdd_831_4 in memory! (computed 17.0 MiB so far)\n",
      "24/04/07 09:58:10 WARN MemoryStore: Not enough space to cache rdd_831_6 in memory! (computed 17.0 MiB so far)\n",
      "24/04/07 09:58:10 WARN MemoryStore: Not enough space to cache rdd_831_5 in memory! (computed 17.0 MiB so far)\n",
      "24/04/07 09:58:10 WARN MemoryStore: Not enough space to cache rdd_831_1 in memory! (computed 17.0 MiB so far)\n",
      "24/04/07 09:58:10 WARN MemoryStore: Not enough space to cache rdd_831_3 in memory! (computed 17.0 MiB so far)\n",
      "24/04/07 09:58:10 WARN MemoryStore: Not enough space to cache rdd_831_0 in memory! (computed 17.0 MiB so far)\n",
      "24/04/07 09:58:10 WARN MemoryStore: Not enough space to cache rdd_831_2 in memory! (computed 17.0 MiB so far)\n",
      "24/04/07 09:58:10 WARN MemoryStore: Not enough space to cache rdd_831_4 in memory! (computed 17.0 MiB so far)\n",
      "24/04/07 09:58:10 WARN MemoryStore: Not enough space to cache rdd_831_5 in memory! (computed 17.0 MiB so far)\n",
      "24/04/07 09:58:10 WARN MemoryStore: Not enough space to cache rdd_831_6 in memory! (computed 17.0 MiB so far)\n",
      "24/04/07 09:58:10 WARN MemoryStore: Not enough space to cache rdd_831_3 in memory! (computed 17.0 MiB so far)\n",
      "24/04/07 09:58:10 WARN MemoryStore: Not enough space to cache rdd_831_2 in memory! (computed 17.0 MiB so far)\n",
      "24/04/07 09:58:10 WARN MemoryStore: Not enough space to cache rdd_831_1 in memory! (computed 17.0 MiB so far)\n",
      "24/04/07 09:58:10 WARN MemoryStore: Not enough space to cache rdd_831_0 in memory! (computed 17.0 MiB so far)\n",
      "24/04/07 09:58:11 WARN MemoryStore: Not enough space to cache rdd_831_5 in memory! (computed 17.0 MiB so far)\n",
      "24/04/07 09:58:11 WARN MemoryStore: Not enough space to cache rdd_831_4 in memory! (computed 17.0 MiB so far)\n",
      "24/04/07 09:58:11 WARN MemoryStore: Not enough space to cache rdd_831_6 in memory! (computed 17.0 MiB so far)\n",
      "24/04/07 09:58:11 WARN MemoryStore: Not enough space to cache rdd_831_0 in memory! (computed 17.0 MiB so far)\n",
      "24/04/07 09:58:11 WARN MemoryStore: Not enough space to cache rdd_831_1 in memory! (computed 17.0 MiB so far)\n",
      "24/04/07 09:58:11 WARN MemoryStore: Not enough space to cache rdd_831_2 in memory! (computed 17.0 MiB so far)\n",
      "24/04/07 09:58:11 WARN MemoryStore: Not enough space to cache rdd_831_3 in memory! (computed 17.0 MiB so far)\n"
     ]
    },
    {
     "name": "stderr",
     "output_type": "stream",
     "text": [
      "24/04/07 09:58:11 WARN MemoryStore: Not enough space to cache rdd_831_4 in memory! (computed 17.0 MiB so far)\n",
      "24/04/07 09:58:11 WARN MemoryStore: Not enough space to cache rdd_831_5 in memory! (computed 17.0 MiB so far)\n",
      "24/04/07 09:58:11 WARN MemoryStore: Not enough space to cache rdd_831_6 in memory! (computed 17.0 MiB so far)\n",
      "24/04/07 09:58:12 WARN MemoryStore: Not enough space to cache rdd_831_1 in memory! (computed 17.0 MiB so far)\n",
      "24/04/07 09:58:12 WARN MemoryStore: Not enough space to cache rdd_831_2 in memory! (computed 17.0 MiB so far)\n",
      "24/04/07 09:58:12 WARN MemoryStore: Not enough space to cache rdd_831_3 in memory! (computed 17.0 MiB so far)\n",
      "24/04/07 09:58:12 WARN MemoryStore: Not enough space to cache rdd_831_0 in memory! (computed 17.0 MiB so far)\n",
      "24/04/07 09:58:12 WARN MemoryStore: Not enough space to cache rdd_831_4 in memory! (computed 17.0 MiB so far)\n",
      "24/04/07 09:58:12 WARN MemoryStore: Not enough space to cache rdd_831_5 in memory! (computed 17.0 MiB so far)\n",
      "24/04/07 09:58:12 WARN MemoryStore: Not enough space to cache rdd_831_6 in memory! (computed 17.0 MiB so far)\n",
      "24/04/07 09:58:12 WARN MemoryStore: Not enough space to cache rdd_831_3 in memory! (computed 17.0 MiB so far)\n",
      "24/04/07 09:58:12 WARN MemoryStore: Not enough space to cache rdd_831_0 in memory! (computed 17.0 MiB so far)\n",
      "24/04/07 09:58:12 WARN MemoryStore: Not enough space to cache rdd_831_1 in memory! (computed 17.0 MiB so far)\n",
      "24/04/07 09:58:12 WARN MemoryStore: Not enough space to cache rdd_831_2 in memory! (computed 17.0 MiB so far)\n",
      "24/04/07 09:58:12 WARN MemoryStore: Not enough space to cache rdd_831_4 in memory! (computed 17.0 MiB so far)\n",
      "24/04/07 09:58:12 WARN MemoryStore: Not enough space to cache rdd_831_5 in memory! (computed 17.0 MiB so far)\n",
      "24/04/07 09:58:12 WARN MemoryStore: Not enough space to cache rdd_831_6 in memory! (computed 17.0 MiB so far)\n",
      "24/04/07 09:58:13 WARN MemoryStore: Not enough space to cache rdd_831_1 in memory! (computed 17.0 MiB so far)\n",
      "24/04/07 09:58:13 WARN MemoryStore: Not enough space to cache rdd_831_2 in memory! (computed 17.0 MiB so far)\n",
      "24/04/07 09:58:13 WARN MemoryStore: Not enough space to cache rdd_831_0 in memory! (computed 17.0 MiB so far)\n",
      "24/04/07 09:58:13 WARN MemoryStore: Not enough space to cache rdd_831_3 in memory! (computed 17.0 MiB so far)\n",
      "24/04/07 09:58:13 WARN MemoryStore: Not enough space to cache rdd_831_5 in memory! (computed 17.0 MiB so far)\n",
      "24/04/07 09:58:13 WARN MemoryStore: Not enough space to cache rdd_831_6 in memory! (computed 17.0 MiB so far)\n",
      "24/04/07 09:58:13 WARN MemoryStore: Not enough space to cache rdd_831_4 in memory! (computed 17.0 MiB so far)\n",
      "24/04/07 09:58:14 WARN MemoryStore: Not enough space to cache rdd_831_0 in memory! (computed 17.0 MiB so far)\n",
      "24/04/07 09:58:14 WARN MemoryStore: Not enough space to cache rdd_831_1 in memory! (computed 17.0 MiB so far)\n",
      "24/04/07 09:58:14 WARN MemoryStore: Not enough space to cache rdd_831_2 in memory! (computed 17.0 MiB so far)\n",
      "24/04/07 09:58:14 WARN MemoryStore: Not enough space to cache rdd_831_3 in memory! (computed 17.0 MiB so far)\n",
      "24/04/07 09:58:14 WARN MemoryStore: Not enough space to cache rdd_831_4 in memory! (computed 17.0 MiB so far)\n",
      "24/04/07 09:58:14 WARN MemoryStore: Not enough space to cache rdd_831_5 in memory! (computed 17.0 MiB so far)\n",
      "24/04/07 09:58:14 WARN MemoryStore: Not enough space to cache rdd_831_6 in memory! (computed 17.0 MiB so far)\n",
      "24/04/07 09:58:14 WARN MemoryStore: Not enough space to cache rdd_831_1 in memory! (computed 17.0 MiB so far)\n",
      "24/04/07 09:58:14 WARN MemoryStore: Not enough space to cache rdd_831_3 in memory! (computed 17.0 MiB so far)\n",
      "24/04/07 09:58:14 WARN MemoryStore: Not enough space to cache rdd_831_0 in memory! (computed 17.0 MiB so far)\n",
      "24/04/07 09:58:14 WARN MemoryStore: Not enough space to cache rdd_831_2 in memory! (computed 17.0 MiB so far)\n",
      "24/04/07 09:58:14 WARN MemoryStore: Not enough space to cache rdd_831_4 in memory! (computed 17.0 MiB so far)\n",
      "24/04/07 09:58:14 WARN MemoryStore: Not enough space to cache rdd_831_5 in memory! (computed 17.0 MiB so far)\n",
      "24/04/07 09:58:14 WARN MemoryStore: Not enough space to cache rdd_831_6 in memory! (computed 17.0 MiB so far)\n",
      "24/04/07 09:58:15 WARN MemoryStore: Not enough space to cache rdd_831_2 in memory! (computed 17.0 MiB so far)\n",
      "24/04/07 09:58:15 WARN MemoryStore: Not enough space to cache rdd_831_0 in memory! (computed 17.0 MiB so far)\n",
      "24/04/07 09:58:15 WARN MemoryStore: Not enough space to cache rdd_831_3 in memory! (computed 17.0 MiB so far)\n",
      "24/04/07 09:58:15 WARN MemoryStore: Not enough space to cache rdd_831_1 in memory! (computed 17.0 MiB so far)\n",
      "24/04/07 09:58:15 WARN MemoryStore: Not enough space to cache rdd_831_4 in memory! (computed 17.0 MiB so far)\n",
      "24/04/07 09:58:15 WARN MemoryStore: Not enough space to cache rdd_831_5 in memory! (computed 17.0 MiB so far)\n",
      "24/04/07 09:58:15 WARN MemoryStore: Not enough space to cache rdd_831_6 in memory! (computed 17.0 MiB so far)\n",
      "24/04/07 09:58:15 WARN MemoryStore: Not enough space to cache rdd_831_2 in memory! (computed 17.0 MiB so far)\n",
      "24/04/07 09:58:15 WARN MemoryStore: Not enough space to cache rdd_831_0 in memory! (computed 17.0 MiB so far)\n",
      "24/04/07 09:58:15 WARN MemoryStore: Not enough space to cache rdd_831_1 in memory! (computed 17.0 MiB so far)\n",
      "24/04/07 09:58:15 WARN MemoryStore: Not enough space to cache rdd_831_3 in memory! (computed 17.0 MiB so far)\n",
      "24/04/07 09:58:16 WARN MemoryStore: Not enough space to cache rdd_831_4 in memory! (computed 17.0 MiB so far)\n",
      "24/04/07 09:58:16 WARN MemoryStore: Not enough space to cache rdd_831_5 in memory! (computed 17.0 MiB so far)\n",
      "24/04/07 09:58:16 WARN MemoryStore: Not enough space to cache rdd_831_6 in memory! (computed 17.0 MiB so far)\n",
      "24/04/07 09:58:16 WARN MemoryStore: Not enough space to cache rdd_831_0 in memory! (computed 17.0 MiB so far)\n",
      "24/04/07 09:58:16 WARN MemoryStore: Not enough space to cache rdd_831_3 in memory! (computed 17.0 MiB so far)\n",
      "24/04/07 09:58:16 WARN MemoryStore: Not enough space to cache rdd_831_1 in memory! (computed 17.0 MiB so far)\n",
      "24/04/07 09:58:16 WARN MemoryStore: Not enough space to cache rdd_831_2 in memory! (computed 17.0 MiB so far)\n",
      "24/04/07 09:58:16 WARN MemoryStore: Not enough space to cache rdd_831_4 in memory! (computed 17.0 MiB so far)\n",
      "24/04/07 09:58:16 WARN MemoryStore: Not enough space to cache rdd_831_5 in memory! (computed 17.0 MiB so far)\n",
      "24/04/07 09:58:16 WARN MemoryStore: Not enough space to cache rdd_831_6 in memory! (computed 17.0 MiB so far)\n",
      "24/04/07 09:58:17 WARN MemoryStore: Not enough space to cache rdd_831_0 in memory! (computed 17.0 MiB so far)\n",
      "24/04/07 09:58:17 WARN MemoryStore: Not enough space to cache rdd_831_3 in memory! (computed 17.0 MiB so far)\n",
      "24/04/07 09:58:17 WARN MemoryStore: Not enough space to cache rdd_831_2 in memory! (computed 17.0 MiB so far)\n",
      "24/04/07 09:58:17 WARN MemoryStore: Not enough space to cache rdd_831_1 in memory! (computed 17.0 MiB so far)\n",
      "24/04/07 09:58:17 WARN MemoryStore: Not enough space to cache rdd_831_4 in memory! (computed 17.0 MiB so far)\n",
      "24/04/07 09:58:17 WARN MemoryStore: Not enough space to cache rdd_831_5 in memory! (computed 17.0 MiB so far)\n",
      "24/04/07 09:58:17 WARN MemoryStore: Not enough space to cache rdd_831_6 in memory! (computed 17.0 MiB so far)\n",
      "24/04/07 09:58:17 WARN MemoryStore: Not enough space to cache rdd_831_3 in memory! (computed 17.0 MiB so far)\n",
      "24/04/07 09:58:17 WARN MemoryStore: Not enough space to cache rdd_831_2 in memory! (computed 17.0 MiB so far)\n",
      "24/04/07 09:58:17 WARN MemoryStore: Not enough space to cache rdd_831_1 in memory! (computed 17.0 MiB so far)\n",
      "24/04/07 09:58:17 WARN MemoryStore: Not enough space to cache rdd_831_0 in memory! (computed 17.0 MiB so far)\n",
      "24/04/07 09:58:17 WARN MemoryStore: Not enough space to cache rdd_831_4 in memory! (computed 17.0 MiB so far)\n",
      "24/04/07 09:58:17 WARN MemoryStore: Not enough space to cache rdd_831_5 in memory! (computed 17.0 MiB so far)\n",
      "24/04/07 09:58:17 WARN MemoryStore: Not enough space to cache rdd_831_6 in memory! (computed 17.0 MiB so far)\n",
      "24/04/07 09:58:18 WARN MemoryStore: Not enough space to cache rdd_831_0 in memory! (computed 17.0 MiB so far)\n",
      "24/04/07 09:58:18 WARN MemoryStore: Not enough space to cache rdd_831_2 in memory! (computed 17.0 MiB so far)\n",
      "24/04/07 09:58:18 WARN MemoryStore: Not enough space to cache rdd_831_3 in memory! (computed 17.0 MiB so far)\n",
      "24/04/07 09:58:18 WARN MemoryStore: Not enough space to cache rdd_831_1 in memory! (computed 17.0 MiB so far)\n"
     ]
    },
    {
     "name": "stderr",
     "output_type": "stream",
     "text": [
      "24/04/07 09:58:18 WARN MemoryStore: Not enough space to cache rdd_831_4 in memory! (computed 17.0 MiB so far)\n",
      "24/04/07 09:58:18 WARN MemoryStore: Not enough space to cache rdd_831_5 in memory! (computed 17.0 MiB so far)\n",
      "24/04/07 09:58:18 WARN MemoryStore: Not enough space to cache rdd_831_6 in memory! (computed 17.0 MiB so far)\n",
      "24/04/07 09:58:18 WARN MemoryStore: Not enough space to cache rdd_831_3 in memory! (computed 17.0 MiB so far)\n",
      "24/04/07 09:58:18 WARN MemoryStore: Not enough space to cache rdd_831_2 in memory! (computed 17.0 MiB so far)\n",
      "24/04/07 09:58:18 WARN MemoryStore: Not enough space to cache rdd_831_0 in memory! (computed 17.0 MiB so far)\n",
      "24/04/07 09:58:18 WARN MemoryStore: Not enough space to cache rdd_831_1 in memory! (computed 17.0 MiB so far)\n",
      "24/04/07 09:58:19 WARN MemoryStore: Not enough space to cache rdd_831_4 in memory! (computed 17.0 MiB so far)\n",
      "24/04/07 09:58:19 WARN MemoryStore: Not enough space to cache rdd_831_5 in memory! (computed 17.0 MiB so far)\n",
      "24/04/07 09:58:19 WARN MemoryStore: Not enough space to cache rdd_831_6 in memory! (computed 17.0 MiB so far)\n",
      "24/04/07 09:58:19 WARN MemoryStore: Not enough space to cache rdd_831_3 in memory! (computed 17.0 MiB so far)\n",
      "24/04/07 09:58:19 WARN MemoryStore: Not enough space to cache rdd_831_0 in memory! (computed 17.0 MiB so far)\n",
      "24/04/07 09:58:19 WARN MemoryStore: Not enough space to cache rdd_831_2 in memory! (computed 17.0 MiB so far)\n",
      "24/04/07 09:58:19 WARN MemoryStore: Not enough space to cache rdd_831_1 in memory! (computed 17.0 MiB so far)\n",
      "24/04/07 09:58:19 WARN MemoryStore: Not enough space to cache rdd_831_4 in memory! (computed 17.0 MiB so far)\n",
      "24/04/07 09:58:19 WARN MemoryStore: Not enough space to cache rdd_831_5 in memory! (computed 17.0 MiB so far)\n",
      "24/04/07 09:58:19 WARN MemoryStore: Not enough space to cache rdd_831_6 in memory! (computed 17.0 MiB so far)\n",
      "24/04/07 09:58:20 WARN MemoryStore: Not enough space to cache rdd_831_1 in memory! (computed 17.0 MiB so far)\n",
      "24/04/07 09:58:20 WARN MemoryStore: Not enough space to cache rdd_831_3 in memory! (computed 17.0 MiB so far)\n",
      "24/04/07 09:58:20 WARN MemoryStore: Not enough space to cache rdd_831_2 in memory! (computed 17.0 MiB so far)\n",
      "24/04/07 09:58:20 WARN MemoryStore: Not enough space to cache rdd_831_0 in memory! (computed 17.0 MiB so far)\n",
      "24/04/07 09:58:20 WARN MemoryStore: Not enough space to cache rdd_831_4 in memory! (computed 17.0 MiB so far)\n",
      "24/04/07 09:58:20 WARN MemoryStore: Not enough space to cache rdd_831_5 in memory! (computed 17.0 MiB so far)\n",
      "24/04/07 09:58:20 WARN MemoryStore: Not enough space to cache rdd_831_6 in memory! (computed 17.0 MiB so far)\n",
      "24/04/07 09:58:20 WARN MemoryStore: Not enough space to cache rdd_831_2 in memory! (computed 17.0 MiB so far)\n",
      "24/04/07 09:58:20 WARN MemoryStore: Not enough space to cache rdd_831_3 in memory! (computed 17.0 MiB so far)\n",
      "24/04/07 09:58:20 WARN MemoryStore: Not enough space to cache rdd_831_1 in memory! (computed 17.0 MiB so far)\n",
      "24/04/07 09:58:20 WARN MemoryStore: Not enough space to cache rdd_831_0 in memory! (computed 17.0 MiB so far)\n",
      "24/04/07 09:58:20 WARN MemoryStore: Not enough space to cache rdd_831_4 in memory! (computed 17.0 MiB so far)\n",
      "24/04/07 09:58:20 WARN MemoryStore: Not enough space to cache rdd_831_5 in memory! (computed 17.0 MiB so far)\n",
      "24/04/07 09:58:21 WARN MemoryStore: Not enough space to cache rdd_831_6 in memory! (computed 17.0 MiB so far)\n",
      "24/04/07 09:58:21 WARN MemoryStore: Not enough space to cache rdd_831_3 in memory! (computed 17.0 MiB so far)\n",
      "24/04/07 09:58:21 WARN MemoryStore: Not enough space to cache rdd_831_1 in memory! (computed 17.0 MiB so far)\n",
      "24/04/07 09:58:21 WARN MemoryStore: Not enough space to cache rdd_831_2 in memory! (computed 17.0 MiB so far)\n",
      "24/04/07 09:58:21 WARN MemoryStore: Not enough space to cache rdd_831_0 in memory! (computed 17.0 MiB so far)\n",
      "24/04/07 09:58:21 WARN MemoryStore: Not enough space to cache rdd_831_4 in memory! (computed 17.0 MiB so far)\n",
      "24/04/07 09:58:21 WARN MemoryStore: Not enough space to cache rdd_831_5 in memory! (computed 17.0 MiB so far)\n",
      "24/04/07 09:58:21 WARN MemoryStore: Not enough space to cache rdd_831_6 in memory! (computed 17.0 MiB so far)\n",
      "24/04/07 09:58:21 WARN MemoryStore: Not enough space to cache rdd_831_0 in memory! (computed 17.0 MiB so far)\n",
      "24/04/07 09:58:21 WARN MemoryStore: Not enough space to cache rdd_831_2 in memory! (computed 17.0 MiB so far)\n",
      "24/04/07 09:58:21 WARN MemoryStore: Not enough space to cache rdd_831_3 in memory! (computed 17.0 MiB so far)\n",
      "24/04/07 09:58:21 WARN MemoryStore: Not enough space to cache rdd_831_1 in memory! (computed 17.0 MiB so far)\n",
      "24/04/07 09:58:22 WARN MemoryStore: Not enough space to cache rdd_831_4 in memory! (computed 17.0 MiB so far)\n",
      "24/04/07 09:58:22 WARN MemoryStore: Not enough space to cache rdd_831_5 in memory! (computed 17.0 MiB so far)\n",
      "24/04/07 09:58:22 WARN MemoryStore: Not enough space to cache rdd_831_6 in memory! (computed 17.0 MiB so far)\n",
      "24/04/07 09:58:22 WARN MemoryStore: Not enough space to cache rdd_831_0 in memory! (computed 17.0 MiB so far)\n",
      "24/04/07 09:58:22 WARN MemoryStore: Not enough space to cache rdd_831_3 in memory! (computed 17.0 MiB so far)\n",
      "24/04/07 09:58:22 WARN MemoryStore: Not enough space to cache rdd_831_1 in memory! (computed 17.0 MiB so far)\n",
      "24/04/07 09:58:22 WARN MemoryStore: Not enough space to cache rdd_831_2 in memory! (computed 17.0 MiB so far)\n",
      "24/04/07 09:58:22 WARN MemoryStore: Not enough space to cache rdd_831_4 in memory! (computed 17.0 MiB so far)\n",
      "24/04/07 09:58:22 WARN MemoryStore: Not enough space to cache rdd_831_6 in memory! (computed 17.0 MiB so far)\n",
      "24/04/07 09:58:22 WARN MemoryStore: Not enough space to cache rdd_831_5 in memory! (computed 17.0 MiB so far)\n",
      "24/04/07 09:58:23 WARN MemoryStore: Not enough space to cache rdd_831_1 in memory! (computed 17.0 MiB so far)\n",
      "24/04/07 09:58:23 WARN MemoryStore: Not enough space to cache rdd_831_3 in memory! (computed 17.0 MiB so far)\n",
      "24/04/07 09:58:23 WARN MemoryStore: Not enough space to cache rdd_831_2 in memory! (computed 17.0 MiB so far)\n",
      "24/04/07 09:58:23 WARN MemoryStore: Not enough space to cache rdd_831_0 in memory! (computed 17.0 MiB so far)\n",
      "24/04/07 09:58:23 WARN MemoryStore: Not enough space to cache rdd_831_4 in memory! (computed 17.0 MiB so far)\n",
      "24/04/07 09:58:23 WARN MemoryStore: Not enough space to cache rdd_831_5 in memory! (computed 17.0 MiB so far)\n",
      "24/04/07 09:58:23 WARN MemoryStore: Not enough space to cache rdd_831_6 in memory! (computed 17.0 MiB so far)\n",
      "24/04/07 09:58:23 WARN MemoryStore: Not enough space to cache rdd_831_0 in memory! (computed 17.0 MiB so far)\n",
      "24/04/07 09:58:23 WARN MemoryStore: Not enough space to cache rdd_831_2 in memory! (computed 17.0 MiB so far)\n",
      "24/04/07 09:58:23 WARN MemoryStore: Not enough space to cache rdd_831_1 in memory! (computed 17.0 MiB so far)\n",
      "24/04/07 09:58:23 WARN MemoryStore: Not enough space to cache rdd_831_3 in memory! (computed 17.0 MiB so far)\n",
      "24/04/07 09:58:24 WARN MemoryStore: Not enough space to cache rdd_831_4 in memory! (computed 17.0 MiB so far)\n",
      "24/04/07 09:58:24 WARN MemoryStore: Not enough space to cache rdd_831_6 in memory! (computed 17.0 MiB so far)\n",
      "24/04/07 09:58:24 WARN MemoryStore: Not enough space to cache rdd_831_5 in memory! (computed 17.0 MiB so far)\n",
      "                                                                                \r"
     ]
    },
    {
     "name": "stdout",
     "output_type": "stream",
     "text": [
      "Training Accuracy: 0.995\n"
     ]
    },
    {
     "name": "stderr",
     "output_type": "stream",
     "text": [
      "                                                                                \r"
     ]
    },
    {
     "name": "stdout",
     "output_type": "stream",
     "text": [
      "Testing Accuracy: 0.995\n"
     ]
    },
    {
     "name": "stderr",
     "output_type": "stream",
     "text": [
      "                                                                                \r"
     ]
    },
    {
     "name": "stdout",
     "output_type": "stream",
     "text": [
      "+--------------------+-----+--------------------+\n",
      "|         Instruction|Count|         AverageTime|\n",
      "+--------------------+-----+--------------------+\n",
      "|           Data Load|    1|   41.91358709335327|\n",
      "|   Files Enumeration|    1|  0.1537766456604004|\n",
      "|        Data Summary|    1|0.014063119888305664|\n",
      "|   Data Distribution|    1|  220.38567852973938|\n",
      "|         Rows number|    1|   3.568094491958618|\n",
      "|      Missing Values|    1|   385.2225694656372|\n",
      "|Total number of c...|    1|8.337497711181641E-4|\n",
      "|       Data labeling|    1| 0.04415130615234375|\n",
      "|          Split data|    1| 0.06647634506225586|\n",
      "|Feature transform...|    1|  0.7770123481750488|\n",
      "|ML_model_DDoS_det...|    1|   255.8777415752411|\n",
      "+--------------------+-----+--------------------+\n",
      "\n"
     ]
    },
    {
     "name": "stderr",
     "output_type": "stream",
     "text": [
      "                                                                                \r"
     ]
    }
   ],
   "source": [
    "# Start time\n",
    "start_time = time.time()\n",
    "# Create logistic regression model\n",
    "lr = LogisticRegression(featuresCol='features', labelCol='label')\n",
    "\n",
    "# Train the logistic regression model on the training data\n",
    "lr_model = lr.fit(train_df_with_features)\n",
    "\n",
    "# Make predictions on both training and testing data\n",
    "train_predictions = lr_model.transform(train_df_with_features)\n",
    "test_predictions = lr_model.transform(test_df_with_features)\n",
    "\n",
    "# Initialize BinaryClassificationEvaluator\n",
    "evaluator = BinaryClassificationEvaluator(labelCol='label')\n",
    "\n",
    "# Evaluate the model on training data\n",
    "train_accuracy = evaluator.evaluate(train_predictions)\n",
    "print(\"Training Accuracy: {:.3f}\".format(train_accuracy))\n",
    "\n",
    "# Evaluate the model on testing data\n",
    "test_accuracy = evaluator.evaluate(test_predictions)\n",
    "print(\"Testing Accuracy: {:.3f}\".format(test_accuracy))\n",
    "\n",
    "print_execution_time(start_time, 'ML_model_DDoS_detection')"
   ]
  },
  {
   "cell_type": "markdown",
   "id": "dd9783b0",
   "metadata": {},
   "source": [
    "<a class=\"anchor\" id=\"3.5\"></a>\n",
    "### * Machine learning part *total execution time*\n",
    "[Back to Table of Contents](#0.1)"
   ]
  },
  {
   "cell_type": "code",
   "execution_count": 19,
   "id": "31b0f27c",
   "metadata": {},
   "outputs": [
    {
     "name": "stdout",
     "output_type": "stream",
     "text": [
      "+------------------+--------------------+\n",
      "|        stage name|total execution time|\n",
      "+------------------+--------------------+\n",
      "|Data Preprocessing|           42.067364|\n",
      "|               EDA|            651.2586|\n",
      "|    Model training|             908.024|\n",
      "+------------------+--------------------+\n",
      "\n"
     ]
    },
    {
     "name": "stderr",
     "output_type": "stream",
     "text": [
      "\r",
      "[Stage 515:========================================>               (8 + 3) / 11]\r",
      "\r",
      "                                                                                \r"
     ]
    }
   ],
   "source": [
    "\n",
    "# Assume you have another row of data to add\n",
    "new_row_data = [(\"Model training\", total_average_sum)]  # Example data\n",
    "\n",
    "# Create DataFrame for the new row\n",
    "new_row_df = spark.createDataFrame(new_row_data, schema0)\n",
    "\n",
    "# Add the new row to the existing df_exec DataFrame\n",
    "df_exec = df_exec.union(new_row_df)\n",
    "\n",
    "# Show the DataFrame\n",
    "df_exec.show()"
   ]
  },
  {
   "cell_type": "markdown",
   "id": "25dd0a3c",
   "metadata": {},
   "source": [
    "<a class=\"anchor\" id=\"4.\"></a>\n",
    "## 4. Feature importance analysis\n",
    "[Back to Table of Contents](#0.1)"
   ]
  },
  {
   "cell_type": "markdown",
   "id": "9731f216",
   "metadata": {},
   "source": [
    "<a class=\"anchor\" id=\"4.1\"></a>\n",
    "## 4.1 Feature transformation\n",
    "[Back to Table of Contents](#0.1)"
   ]
  },
  {
   "cell_type": "markdown",
   "id": "e54a86a8",
   "metadata": {},
   "source": [
    "The code below is fundamental for data preprocessing in PySpark machine learning workflows. It selects input columns, excluding the last one typically representing the target variable. Then, it initializes a VectorAssembler transformer to combine these selected columns into a single feature vector column, simplifying the data structure for machine learning algorithms. Then, by applying the transform method to both training and test datasets, the code ensures consistency in feature engineering, enabling seamless integration with PySpark's machine learning models. Overall, these steps play a pivotal role in preparing structured data for predictive modeling tasks in PySpark, facilitating efficient and effective machine learning model training and evaluation."
   ]
  },
  {
   "cell_type": "code",
   "execution_count": 20,
   "id": "cec3c0fc",
   "metadata": {},
   "outputs": [
    {
     "name": "stderr",
     "output_type": "stream",
     "text": [
      "                                                                                \r"
     ]
    },
    {
     "name": "stdout",
     "output_type": "stream",
     "text": [
      "+--------------------+-----+--------------------+\n",
      "|         Instruction|Count|         AverageTime|\n",
      "+--------------------+-----+--------------------+\n",
      "|           Data Load|    1|   41.91358709335327|\n",
      "|   Files Enumeration|    1|  0.1537766456604004|\n",
      "|        Data Summary|    1|0.014063119888305664|\n",
      "|   Data Distribution|    1|  220.38567852973938|\n",
      "|         Rows number|    1|   3.568094491958618|\n",
      "|      Missing Values|    1|   385.2225694656372|\n",
      "|Total number of c...|    1|8.337497711181641E-4|\n",
      "|       Data labeling|    1| 0.04415130615234375|\n",
      "|          Split data|    1| 0.06647634506225586|\n",
      "|Feature transform...|    1|  0.7770123481750488|\n",
      "|ML_model_DDoS_det...|    1|   255.8777415752411|\n",
      "|Feature transform...|    1| 0.13527297973632812|\n",
      "+--------------------+-----+--------------------+\n",
      "\n"
     ]
    },
    {
     "name": "stderr",
     "output_type": "stream",
     "text": [
      "                                                                                \r"
     ]
    }
   ],
   "source": [
    "total_average_sum = 0.0\n",
    "# Start time\n",
    "start_time = time.time()\n",
    "\n",
    "# Define features\n",
    "feature_columns = df.columns[:-1]  # Assuming the last column is the label column\n",
    "vector_assembler = VectorAssembler(inputCols=feature_columns, outputCol=\"features\")\n",
    "\n",
    "# Define a Random Forest classifier\n",
    "rf = RandomForestClassifier(labelCol=\"label\", featuresCol=\"features\")\n",
    "\n",
    "# Create a pipeline\n",
    "pipeline = Pipeline(stages=[vector_assembler, rf])\n",
    "\n",
    "print_execution_time(start_time, 'Feature transformation Features')"
   ]
  },
  {
   "cell_type": "markdown",
   "id": "bc297aa1",
   "metadata": {},
   "source": [
    "\n",
    "<a class=\"anchor\" id=\"4.2\"></a>\n",
    "## 4.2 Create a fitted pipeline model\n",
    "[Back to Table of Contents](#0.1)"
   ]
  },
  {
   "cell_type": "code",
   "execution_count": 21,
   "id": "8957281a",
   "metadata": {
    "scrolled": true
   },
   "outputs": [
    {
     "name": "stderr",
     "output_type": "stream",
     "text": [
      "24/04/07 10:02:21 WARN MemoryStore: Not enough space to cache rdd_1461_6 in memory! (computed 28.7 MiB so far)\n",
      "24/04/07 10:02:21 WARN BlockManager: Persisting block rdd_1461_6 to disk instead.\n",
      "24/04/07 10:02:21 WARN MemoryStore: Not enough space to cache rdd_1461_7 in memory! (computed 5.3 MiB so far)\n",
      "24/04/07 10:02:21 WARN BlockManager: Persisting block rdd_1461_7 to disk instead.\n",
      "24/04/07 10:02:21 WARN MemoryStore: Not enough space to cache rdd_1461_4 in memory! (computed 43.1 MiB so far)\n",
      "24/04/07 10:02:21 WARN BlockManager: Persisting block rdd_1461_4 to disk instead.\n",
      "24/04/07 10:02:23 WARN MemoryStore: Not enough space to cache rdd_1461_6 in memory! (computed 43.1 MiB so far)\n",
      "24/04/07 10:02:23 WARN MemoryStore: Not enough space to cache rdd_1461_4 in memory! (computed 43.1 MiB so far)\n",
      "24/04/07 10:02:24 WARN MemoryStore: Not enough space to cache rdd_1461_7 in memory! (computed 12.6 MiB so far)\n",
      "24/04/07 10:02:31 WARN MemoryStore: Not enough space to cache rdd_1461_10 in memory! (computed 19.1 MiB so far)\n",
      "24/04/07 10:02:31 WARN BlockManager: Persisting block rdd_1461_10 to disk instead.\n",
      "24/04/07 10:02:33 WARN MemoryStore: Failed to reserve initial memory threshold of 1024.0 KiB for computing block rdd_1461_12 in memory.\n",
      "24/04/07 10:02:41 WARN MemoryStore: Not enough space to cache rdd_1461_12 in memory! (computed 384.0 B so far)\n",
      "24/04/07 10:02:41 WARN BlockManager: Persisting block rdd_1461_12 to disk instead.\n",
      "24/04/07 10:02:48 WARN MemoryStore: Not enough space to cache rdd_1461_13 in memory! (computed 28.7 MiB so far)\n",
      "24/04/07 10:02:48 WARN BlockManager: Persisting block rdd_1461_13 to disk instead.\n",
      "24/04/07 10:02:51 WARN MemoryStore: Not enough space to cache rdd_1461_13 in memory! (computed 64.9 MiB so far)\n",
      "24/04/07 10:02:53 WARN MemoryStore: Not enough space to cache rdd_1461_2 in memory! (computed 19.1 MiB so far)\n",
      "24/04/07 10:02:53 WARN MemoryStore: Not enough space to cache rdd_1461_1 in memory! (computed 19.1 MiB so far)\n",
      "24/04/07 10:02:53 WARN MemoryStore: Not enough space to cache rdd_1461_0 in memory! (computed 28.7 MiB so far)\n",
      "24/04/07 10:02:53 WARN MemoryStore: Not enough space to cache rdd_1461_3 in memory! (computed 19.1 MiB so far)\n",
      "24/04/07 10:02:55 WARN MemoryStore: Not enough space to cache rdd_1461_4 in memory! (computed 43.1 MiB so far)\n",
      "24/04/07 10:02:55 WARN MemoryStore: Not enough space to cache rdd_1461_5 in memory! (computed 28.7 MiB so far)\n",
      "24/04/07 10:02:55 WARN MemoryStore: Not enough space to cache rdd_1461_7 in memory! (computed 8.1 MiB so far)\n",
      "24/04/07 10:02:55 WARN MemoryStore: Not enough space to cache rdd_1461_6 in memory! (computed 8.1 MiB so far)\n",
      "24/04/07 10:02:57 WARN MemoryStore: Not enough space to cache rdd_1461_13 in memory! (computed 28.7 MiB so far)\n",
      "24/04/07 10:02:59 WARN MemoryStore: Not enough space to cache rdd_1461_1 in memory! (computed 8.1 MiB so far)\n",
      "24/04/07 10:02:59 WARN MemoryStore: Not enough space to cache rdd_1461_2 in memory! (computed 12.6 MiB so far)\n",
      "24/04/07 10:02:59 WARN MemoryStore: Not enough space to cache rdd_1461_3 in memory! (computed 2.4 MiB so far)\n",
      "24/04/07 10:02:59 WARN MemoryStore: Not enough space to cache rdd_1461_0 in memory! (computed 28.7 MiB so far)\n",
      "24/04/07 10:03:01 WARN MemoryStore: Not enough space to cache rdd_1461_4 in memory! (computed 19.1 MiB so far)\n",
      "24/04/07 10:03:01 WARN MemoryStore: Not enough space to cache rdd_1461_6 in memory! (computed 3.6 MiB so far)\n",
      "24/04/07 10:03:01 WARN MemoryStore: Not enough space to cache rdd_1461_5 in memory! (computed 12.6 MiB so far)\n",
      "24/04/07 10:03:01 WARN MemoryStore: Not enough space to cache rdd_1461_7 in memory! (computed 28.7 MiB so far)\n",
      "24/04/07 10:03:03 WARN MemoryStore: Not enough space to cache rdd_1461_13 in memory! (computed 28.7 MiB so far)\n",
      "24/04/07 10:03:05 WARN MemoryStore: Not enough space to cache rdd_1461_0 in memory! (computed 12.6 MiB so far)\n",
      "24/04/07 10:03:05 WARN MemoryStore: Not enough space to cache rdd_1461_1 in memory! (computed 2.4 MiB so far)\n",
      "24/04/07 10:03:05 WARN MemoryStore: Not enough space to cache rdd_1461_3 in memory! (computed 19.1 MiB so far)\n",
      "24/04/07 10:03:05 WARN MemoryStore: Not enough space to cache rdd_1461_2 in memory! (computed 1026.5 KiB so far)\n",
      "24/04/07 10:03:06 WARN MemoryStore: Not enough space to cache rdd_1461_4 in memory! (computed 28.7 MiB so far)\n",
      "24/04/07 10:03:07 WARN MemoryStore: Not enough space to cache rdd_1461_5 in memory! (computed 5.3 MiB so far)\n",
      "24/04/07 10:03:07 WARN MemoryStore: Failed to reserve initial memory threshold of 1024.0 KiB for computing block rdd_1461_6 in memory.\n",
      "24/04/07 10:03:07 WARN MemoryStore: Not enough space to cache rdd_1461_6 in memory! (computed 384.0 B so far)\n",
      "24/04/07 10:03:07 WARN MemoryStore: Not enough space to cache rdd_1461_7 in memory! (computed 5.3 MiB so far)\n",
      "24/04/07 10:03:10 WARN MemoryStore: Not enough space to cache rdd_1461_13 in memory! (computed 28.7 MiB so far)\n",
      "24/04/07 10:03:12 WARN MemoryStore: Not enough space to cache rdd_1461_1 in memory! (computed 8.1 MiB so far)\n",
      "24/04/07 10:03:12 WARN MemoryStore: Not enough space to cache rdd_1461_0 in memory! (computed 8.1 MiB so far)\n",
      "24/04/07 10:03:12 WARN MemoryStore: Not enough space to cache rdd_1461_3 in memory! (computed 8.1 MiB so far)\n",
      "24/04/07 10:03:12 WARN MemoryStore: Not enough space to cache rdd_1461_2 in memory! (computed 8.1 MiB so far)\n",
      "24/04/07 10:03:14 WARN MemoryStore: Not enough space to cache rdd_1461_6 in memory! (computed 3.6 MiB so far)\n",
      "24/04/07 10:03:14 WARN MemoryStore: Failed to reserve initial memory threshold of 1024.0 KiB for computing block rdd_1461_7 in memory.\n",
      "24/04/07 10:03:14 WARN MemoryStore: Not enough space to cache rdd_1461_7 in memory! (computed 384.0 B so far)\n",
      "24/04/07 10:03:14 WARN MemoryStore: Not enough space to cache rdd_1461_4 in memory! (computed 19.1 MiB so far)\n",
      "24/04/07 10:03:14 WARN MemoryStore: Not enough space to cache rdd_1461_5 in memory! (computed 12.6 MiB so far)\n",
      "24/04/07 10:03:17 WARN MemoryStore: Not enough space to cache rdd_1461_13 in memory! (computed 28.7 MiB so far)\n",
      "                                                                                \r"
     ]
    },
    {
     "name": "stdout",
     "output_type": "stream",
     "text": [
      "Area Under ROC:  0.9969769506200666\n"
     ]
    },
    {
     "name": "stderr",
     "output_type": "stream",
     "text": [
      "                                                                                \r"
     ]
    },
    {
     "name": "stdout",
     "output_type": "stream",
     "text": [
      "+--------------------+-----+--------------------+\n",
      "|         Instruction|Count|         AverageTime|\n",
      "+--------------------+-----+--------------------+\n",
      "|           Data Load|    1|   41.91358709335327|\n",
      "|   Files Enumeration|    1|  0.1537766456604004|\n",
      "|        Data Summary|    1|0.014063119888305664|\n",
      "|   Data Distribution|    1|  220.38567852973938|\n",
      "|         Rows number|    1|   3.568094491958618|\n",
      "|      Missing Values|    1|   385.2225694656372|\n",
      "|Total number of c...|    1|8.337497711181641E-4|\n",
      "|       Data labeling|    1| 0.04415130615234375|\n",
      "|          Split data|    1| 0.06647634506225586|\n",
      "|Feature transform...|    1|  0.7770123481750488|\n",
      "|ML_model_DDoS_det...|    1|   255.8777415752411|\n",
      "|Feature transform...|    1| 0.13527297973632812|\n",
      "|   ML_model_Features|    1|  209.25959300994873|\n",
      "+--------------------+-----+--------------------+\n",
      "\n"
     ]
    },
    {
     "name": "stderr",
     "output_type": "stream",
     "text": [
      "                                                                                \r"
     ]
    }
   ],
   "source": [
    "# Start time\n",
    "start_time = time.time()\n",
    "\n",
    "# Train the model\n",
    "model = pipeline.fit(train_data)\n",
    "\n",
    "# Evaluate the model on the testing data\n",
    "predictions = model.transform(test_data)\n",
    "evaluator = BinaryClassificationEvaluator(labelCol=\"label\")\n",
    "auc = evaluator.evaluate(predictions)\n",
    "\n",
    "print(\"Area Under ROC: \", auc)\n",
    "\n",
    "# Get feature importance scores\n",
    "importances = model.stages[-1].featureImportances\n",
    "\n",
    "print_execution_time(start_time, 'ML_model_Features')"
   ]
  },
  {
   "cell_type": "markdown",
   "id": "ba29ebf2",
   "metadata": {},
   "source": [
    "<a class=\"anchor\" id=\"4.5\"></a>\n",
    "## 4.3 Visualise the result\n",
    "[Back to Table of Contents](#0.1)"
   ]
  },
  {
   "cell_type": "code",
   "execution_count": 22,
   "id": "f032f52f",
   "metadata": {
    "scrolled": true
   },
   "outputs": [
    {
     "name": "stdout",
     "output_type": "stream",
     "text": [
      "+---------------+----------+\n",
      "|Feature        |Importance|\n",
      "+---------------+----------+\n",
      "|rst_count      |0.353     |\n",
      "|urg_count      |0.187     |\n",
      "|Duration       |0.083     |\n",
      "|flow_duration  |0.070     |\n",
      "|IAT            |0.047     |\n",
      "|HTTPS          |0.044     |\n",
      "|Number         |0.029     |\n",
      "|Header_Length  |0.025     |\n",
      "|Srate          |0.025     |\n",
      "|Max            |0.024     |\n",
      "|Tot size       |0.020     |\n",
      "|Rate           |0.018     |\n",
      "|Radius         |0.017     |\n",
      "|Variance       |0.014     |\n",
      "|Weight         |0.011     |\n",
      "|ack_flag_number|0.010     |\n",
      "|psh_flag_number|0.006     |\n",
      "|AVG            |0.005     |\n",
      "|ack_count      |0.002     |\n",
      "|Covariance     |0.002     |\n",
      "|syn_count      |0.002     |\n",
      "|HTTP           |0.002     |\n",
      "|Tot sum        |0.001     |\n",
      "|Protocol Type  |0.001     |\n",
      "|Std            |0.001     |\n",
      "|fin_count      |0.001     |\n",
      "|Magnitue       |0.001     |\n",
      "|Telnet         |0.000     |\n",
      "|Min            |0.000     |\n",
      "|ece_flag_number|0.000     |\n",
      "|Drate          |0.000     |\n",
      "|cwr_flag_number|0.000     |\n",
      "|SMTP           |0.000     |\n",
      "|DNS            |0.000     |\n",
      "|fin_flag_number|0.000     |\n",
      "|SSH            |0.000     |\n",
      "|syn_flag_number|0.000     |\n",
      "|IRC            |0.000     |\n",
      "|rst_flag_number|0.000     |\n",
      "|TCP            |0.000     |\n",
      "|UDP            |0.000     |\n",
      "|DHCP           |0.000     |\n",
      "|ARP            |0.000     |\n",
      "|ICMP           |0.000     |\n",
      "|IPv            |0.000     |\n",
      "|LLC            |0.000     |\n",
      "+---------------+----------+\n",
      "\n"
     ]
    },
    {
     "name": "stderr",
     "output_type": "stream",
     "text": [
      "                                                                                \r"
     ]
    },
    {
     "name": "stdout",
     "output_type": "stream",
     "text": [
      "+--------------------+-----+--------------------+\n",
      "|         Instruction|Count|         AverageTime|\n",
      "+--------------------+-----+--------------------+\n",
      "|           Data Load|    1|   41.91358709335327|\n",
      "|   Files Enumeration|    1|  0.1537766456604004|\n",
      "|        Data Summary|    1|0.014063119888305664|\n",
      "|   Data Distribution|    1|  220.38567852973938|\n",
      "|         Rows number|    1|   3.568094491958618|\n",
      "|      Missing Values|    1|   385.2225694656372|\n",
      "|Total number of c...|    1|8.337497711181641E-4|\n",
      "|       Data labeling|    1| 0.04415130615234375|\n",
      "|          Split data|    1| 0.06647634506225586|\n",
      "|Feature transform...|    1|  0.7770123481750488|\n",
      "|ML_model_DDoS_det...|    1|   255.8777415752411|\n",
      "|Feature transform...|    1| 0.13527297973632812|\n",
      "|   ML_model_Features|    1|  209.25959300994873|\n",
      "| feature_sort_values|    1|  0.8401956558227539|\n",
      "+--------------------+-----+--------------------+\n",
      "\n"
     ]
    },
    {
     "name": "stderr",
     "output_type": "stream",
     "text": [
      "                                                                                \r"
     ]
    }
   ],
   "source": [
    "\n",
    "\n",
    "# Start time\n",
    "start_time = time.time()\n",
    "\n",
    "# Zip feature names and importances, and sort based on importance scores in descending order\n",
    "sorted_features = sorted(zip(feature_columns, importances), key=lambda x: x[1], reverse=True)\n",
    "sorted_feature_names, sorted_importances = zip(*sorted_features)\n",
    "\n",
    "# Get feature importance scores\n",
    "importances = model.stages[-1].featureImportances.toArray()\n",
    "\n",
    "# Extract feature names\n",
    "feature_names = feature_columns\n",
    "\n",
    "# Create a DataFrame to store feature names and importance scores\n",
    "schema2 = StructType([\n",
    "    StructField(\"Feature\", StringType(), True),\n",
    "    StructField(\"Importance\", FloatType(), True)\n",
    "])\n",
    "\n",
    "importance_data = [(name, float(importance)) for name, importance in zip(feature_names, importances)]\n",
    "importance_df = spark.createDataFrame(importance_data, schema2)\n",
    "\n",
    "# Round importance scores to three decimals\n",
    "importance_df = importance_df.withColumn(\"Importance\", format_number(col(\"Importance\"), 3))\n",
    "\n",
    "# Order the DataFrame by importance scores in descending order\n",
    "importance_df_sorted = importance_df.orderBy(col(\"Importance\").desc())\n",
    "\n",
    "# Show the sorted DataFrame with all rows\n",
    "importance_df_sorted.show(importance_df_sorted.count(), truncate=False)\n",
    "\n",
    "print_execution_time(start_time, 'feature_sort_values') "
   ]
  },
  {
   "cell_type": "markdown",
   "id": "e5c2ab2c",
   "metadata": {},
   "source": [
    "<a class=\"anchor\" id=\"4.3\"></a>\n",
    "### * Feature Importance stage *total execution time*\n",
    "[Back to Table of Contents](#0.1)\n"
   ]
  },
  {
   "cell_type": "code",
   "execution_count": 23,
   "id": "11e9eb13",
   "metadata": {},
   "outputs": [
    {
     "name": "stderr",
     "output_type": "stream",
     "text": [
      "\r",
      "[Stage 574:=============================>                          (8 + 4) / 15]\r"
     ]
    },
    {
     "name": "stdout",
     "output_type": "stream",
     "text": [
      "+------------------+--------------------+\n",
      "|        stage name|total execution time|\n",
      "+------------------+--------------------+\n",
      "|Data Preprocessing|           42.067364|\n",
      "|               EDA|            651.2586|\n",
      "|    Model training|             908.024|\n",
      "|Feature importance|            1118.259|\n",
      "+------------------+--------------------+\n",
      "\n"
     ]
    },
    {
     "name": "stderr",
     "output_type": "stream",
     "text": [
      "\r",
      "[Stage 574:============================================>          (12 + 3) / 15]\r",
      "\r",
      "                                                                                \r"
     ]
    }
   ],
   "source": [
    "# Assume you have another row of data to add\n",
    "new_row_data = [(\"Feature importance\", total_average_sum)]  # Example data\n",
    "\n",
    "# Create DataFrame for the new row\n",
    "new_row_df = spark.createDataFrame(new_row_data, schema0)\n",
    "\n",
    "# Add the new row to the existing df_exec DataFrame\n",
    "df_exec = df_exec.union(new_row_df)\n",
    "\n",
    "# Show the DataFrame\n",
    "df_exec.show()"
   ]
  },
  {
   "cell_type": "markdown",
   "id": "1d600bb8",
   "metadata": {},
   "source": [
    "<a class=\"anchor\" id=\"5\"></a>\n",
    "## 5. Neural network implementation\n",
    "[Back to Table of Contents](#0.1)"
   ]
  },
  {
   "cell_type": "markdown",
   "id": "1420d2dd",
   "metadata": {},
   "source": [
    "<a class=\"anchor\" id=\"5.1\"></a>\n",
    "## 5.1 Filtering features\n",
    "[Back to Table of Contents](#0.1)"
   ]
  },
  {
   "cell_type": "code",
   "execution_count": 24,
   "id": "289e2641",
   "metadata": {
    "scrolled": true
   },
   "outputs": [
    {
     "name": "stderr",
     "output_type": "stream",
     "text": [
      "                                                                                \r"
     ]
    },
    {
     "name": "stdout",
     "output_type": "stream",
     "text": [
      "+--------------------+-----+--------------------+\n",
      "|         Instruction|Count|         AverageTime|\n",
      "+--------------------+-----+--------------------+\n",
      "|           Data Load|    1|   41.91358709335327|\n",
      "|   Files Enumeration|    1|  0.1537766456604004|\n",
      "|        Data Summary|    1|0.014063119888305664|\n",
      "|   Data Distribution|    1|  220.38567852973938|\n",
      "|         Rows number|    1|   3.568094491958618|\n",
      "|      Missing Values|    1|   385.2225694656372|\n",
      "|Total number of c...|    1|8.337497711181641E-4|\n",
      "|       Data labeling|    1| 0.04415130615234375|\n",
      "|          Split data|    1| 0.06647634506225586|\n",
      "|Feature transform...|    1|  0.7770123481750488|\n",
      "|ML_model_DDoS_det...|    1|   255.8777415752411|\n",
      "|Feature transform...|    1| 0.13527297973632812|\n",
      "|   ML_model_Features|    1|  209.25959300994873|\n",
      "| feature_sort_values|    1|  0.8401956558227539|\n",
      "|   selected_features|    1|1.120567321777343...|\n",
      "+--------------------+-----+--------------------+\n",
      "\n"
     ]
    },
    {
     "name": "stderr",
     "output_type": "stream",
     "text": [
      "                                                                                \r"
     ]
    }
   ],
   "source": [
    "total_average_sum = 0.0\n",
    "# Start time\n",
    "start_time = time.time()\n",
    "\n",
    "# Filter features based on importance scores\n",
    "selected_features = [feature_name for feature_name, importance in zip(feature_names, importances) if importance > 0.005]\n",
    "\n",
    "print_execution_time(start_time, 'selected_features') "
   ]
  },
  {
   "cell_type": "markdown",
   "id": "87dd5bcb",
   "metadata": {},
   "source": [
    "<a class=\"anchor\" id=\"5.2\"></a>\n",
    "## 5.2 Feature transformation\n",
    "[Back to Table of Contents](#0.1)"
   ]
  },
  {
   "cell_type": "code",
   "execution_count": 25,
   "id": "5af287b9",
   "metadata": {},
   "outputs": [
    {
     "name": "stderr",
     "output_type": "stream",
     "text": [
      "                                                                                \r"
     ]
    },
    {
     "name": "stdout",
     "output_type": "stream",
     "text": [
      "+--------------------+-----+--------------------+\n",
      "|         Instruction|Count|         AverageTime|\n",
      "+--------------------+-----+--------------------+\n",
      "|           Data Load|    1|   41.91358709335327|\n",
      "|   Files Enumeration|    1|  0.1537766456604004|\n",
      "|        Data Summary|    1|0.014063119888305664|\n",
      "|   Data Distribution|    1|  220.38567852973938|\n",
      "|         Rows number|    1|   3.568094491958618|\n",
      "|      Missing Values|    1|   385.2225694656372|\n",
      "|Total number of c...|    1|8.337497711181641E-4|\n",
      "|       Data labeling|    1| 0.04415130615234375|\n",
      "|          Split data|    1| 0.06647634506225586|\n",
      "|Feature transform...|    1|  0.7770123481750488|\n",
      "|ML_model_DDoS_det...|    1|   255.8777415752411|\n",
      "|Feature transform...|    1| 0.13527297973632812|\n",
      "|   ML_model_Features|    1|  209.25959300994873|\n",
      "| feature_sort_values|    1|  0.8401956558227539|\n",
      "|   selected_features|    1|1.120567321777343...|\n",
      "|Feature transform...|    1| 0.16662883758544922|\n",
      "+--------------------+-----+--------------------+\n",
      "\n"
     ]
    },
    {
     "name": "stderr",
     "output_type": "stream",
     "text": [
      "                                                                                \r"
     ]
    }
   ],
   "source": [
    "# Start time\n",
    "start_time = time.time()\n",
    "\n",
    "# Initialize the VectorAssembler with selected features\n",
    "assembler = VectorAssembler(inputCols=selected_features, outputCol='feat')\n",
    "\n",
    "# Transform the DataFrames to replace the existing 'features' column with selected features\n",
    "train_data = assembler.transform(train_data)\n",
    "test_data = assembler.transform(test_data)\n",
    "# Define the input size based on the number of selected features\n",
    "input_size = len(selected_features)\n",
    "\n",
    "print_execution_time(start_time, 'Feature transformation NN')"
   ]
  },
  {
   "cell_type": "markdown",
   "id": "b0f886e8",
   "metadata": {},
   "source": [
    "<a class=\"anchor\" id=\"5.4\"></a>\n",
    "## 5.3 Train the model\n",
    "[Back to Table of Contents](#0.1)"
   ]
  },
  {
   "cell_type": "code",
   "execution_count": 26,
   "id": "4a8d4ec7",
   "metadata": {},
   "outputs": [
    {
     "name": "stderr",
     "output_type": "stream",
     "text": [
      "24/04/07 10:05:16 WARN MemoryStore: Not enough space to cache rdd_1793_0 in memory! (computed 26.7 MiB so far)\n",
      "24/04/07 10:05:24 WARN MemoryStore: Not enough space to cache rdd_1793_6 in memory! (computed 11.7 MiB so far)\n",
      "24/04/07 10:05:56 WARN MemoryStore: Not enough space to cache rdd_1793_6 in memory! (computed 11.7 MiB so far)\n",
      "24/04/07 10:06:26 WARN MemoryStore: Not enough space to cache rdd_1793_6 in memory! (computed 11.7 MiB so far)\n",
      "24/04/07 10:06:53 WARN MemoryStore: Not enough space to cache rdd_1793_6 in memory! (computed 11.7 MiB so far)\n",
      "24/04/07 10:07:21 WARN MemoryStore: Not enough space to cache rdd_1793_6 in memory! (computed 11.7 MiB so far)\n",
      "24/04/07 10:07:50 WARN MemoryStore: Not enough space to cache rdd_1793_6 in memory! (computed 11.7 MiB so far)\n",
      "24/04/07 10:08:19 WARN MemoryStore: Not enough space to cache rdd_1793_6 in memory! (computed 11.7 MiB so far)\n",
      "24/04/07 10:08:48 WARN MemoryStore: Not enough space to cache rdd_1793_6 in memory! (computed 11.7 MiB so far)\n",
      "24/04/07 10:09:16 WARN MemoryStore: Not enough space to cache rdd_1793_6 in memory! (computed 11.7 MiB so far)\n",
      "24/04/07 10:09:44 WARN MemoryStore: Not enough space to cache rdd_1793_6 in memory! (computed 11.7 MiB so far)\n",
      "24/04/07 10:10:13 WARN MemoryStore: Not enough space to cache rdd_1793_6 in memory! (computed 11.7 MiB so far)\n",
      "24/04/07 10:10:41 WARN MemoryStore: Not enough space to cache rdd_1793_6 in memory! (computed 11.7 MiB so far)\n",
      "24/04/07 10:11:08 WARN MemoryStore: Not enough space to cache rdd_1793_6 in memory! (computed 11.7 MiB so far)\n",
      "24/04/07 10:11:37 WARN MemoryStore: Not enough space to cache rdd_1793_6 in memory! (computed 11.7 MiB so far)\n",
      "24/04/07 10:12:05 WARN MemoryStore: Not enough space to cache rdd_1793_6 in memory! (computed 11.7 MiB so far)\n",
      "24/04/07 10:12:34 WARN MemoryStore: Not enough space to cache rdd_1793_6 in memory! (computed 11.7 MiB so far)\n",
      "24/04/07 10:13:03 WARN MemoryStore: Not enough space to cache rdd_1793_6 in memory! (computed 11.7 MiB so far)\n",
      "24/04/07 10:13:33 WARN MemoryStore: Not enough space to cache rdd_1793_6 in memory! (computed 11.7 MiB so far)\n",
      "24/04/07 10:14:00 WARN MemoryStore: Not enough space to cache rdd_1793_6 in memory! (computed 11.7 MiB so far)\n",
      "24/04/07 10:14:27 WARN MemoryStore: Not enough space to cache rdd_1793_6 in memory! (computed 11.7 MiB so far)\n",
      "24/04/07 10:14:56 WARN MemoryStore: Not enough space to cache rdd_1793_6 in memory! (computed 11.7 MiB so far)\n",
      "24/04/07 10:15:24 WARN MemoryStore: Not enough space to cache rdd_1793_6 in memory! (computed 11.7 MiB so far)\n",
      "24/04/07 10:15:52 WARN MemoryStore: Not enough space to cache rdd_1793_6 in memory! (computed 11.7 MiB so far)\n",
      "24/04/07 10:16:19 WARN MemoryStore: Not enough space to cache rdd_1793_6 in memory! (computed 11.7 MiB so far)\n",
      "24/04/07 10:16:47 WARN MemoryStore: Not enough space to cache rdd_1793_6 in memory! (computed 11.7 MiB so far)\n",
      "24/04/07 10:17:09 ERROR LBFGS: Failure! Resetting history: breeze.optimize.FirstOrderException: Line search zoom failed\n",
      "24/04/07 10:17:15 WARN MemoryStore: Not enough space to cache rdd_1793_6 in memory! (computed 11.7 MiB so far)\n",
      "24/04/07 10:17:45 WARN MemoryStore: Not enough space to cache rdd_1793_6 in memory! (computed 11.7 MiB so far)\n",
      "24/04/07 10:18:13 WARN MemoryStore: Not enough space to cache rdd_1793_6 in memory! (computed 11.7 MiB so far)\n",
      "24/04/07 10:18:42 WARN MemoryStore: Not enough space to cache rdd_1793_6 in memory! (computed 11.7 MiB so far)\n",
      "24/04/07 10:19:10 WARN MemoryStore: Not enough space to cache rdd_1793_6 in memory! (computed 11.7 MiB so far)\n",
      "24/04/07 10:19:38 WARN MemoryStore: Not enough space to cache rdd_1793_6 in memory! (computed 11.7 MiB so far)\n",
      "24/04/07 10:20:06 WARN MemoryStore: Not enough space to cache rdd_1793_6 in memory! (computed 11.7 MiB so far)\n",
      "24/04/07 10:20:35 WARN MemoryStore: Not enough space to cache rdd_1793_6 in memory! (computed 11.7 MiB so far)\n",
      "24/04/07 10:21:04 WARN MemoryStore: Not enough space to cache rdd_1793_6 in memory! (computed 11.7 MiB so far)\n",
      "24/04/07 10:21:35 WARN MemoryStore: Not enough space to cache rdd_1793_6 in memory! (computed 11.7 MiB so far)\n",
      "24/04/07 10:22:03 WARN MemoryStore: Not enough space to cache rdd_1793_6 in memory! (computed 11.7 MiB so far)\n",
      "24/04/07 10:22:32 WARN MemoryStore: Not enough space to cache rdd_1793_6 in memory! (computed 11.7 MiB so far)\n",
      "24/04/07 10:23:00 WARN MemoryStore: Not enough space to cache rdd_1793_6 in memory! (computed 11.7 MiB so far)\n",
      "24/04/07 10:23:28 WARN MemoryStore: Not enough space to cache rdd_1793_6 in memory! (computed 11.7 MiB so far)\n",
      "24/04/07 10:23:59 WARN MemoryStore: Not enough space to cache rdd_1793_6 in memory! (computed 11.7 MiB so far)\n",
      "24/04/07 10:24:27 WARN MemoryStore: Not enough space to cache rdd_1793_6 in memory! (computed 11.7 MiB so far)\n",
      "24/04/07 10:24:54 WARN MemoryStore: Not enough space to cache rdd_1793_6 in memory! (computed 11.7 MiB so far)\n",
      "24/04/07 10:25:23 WARN MemoryStore: Not enough space to cache rdd_1793_6 in memory! (computed 11.7 MiB so far)\n",
      "24/04/07 10:25:51 WARN MemoryStore: Not enough space to cache rdd_1793_6 in memory! (computed 11.7 MiB so far)\n",
      "24/04/07 10:26:18 WARN MemoryStore: Not enough space to cache rdd_1793_6 in memory! (computed 11.7 MiB so far)\n",
      "24/04/07 10:26:47 WARN MemoryStore: Not enough space to cache rdd_1793_6 in memory! (computed 11.7 MiB so far)\n",
      "24/04/07 10:27:15 WARN MemoryStore: Not enough space to cache rdd_1793_6 in memory! (computed 11.7 MiB so far)\n",
      "24/04/07 10:27:43 WARN MemoryStore: Not enough space to cache rdd_1793_6 in memory! (computed 11.7 MiB so far)\n",
      "24/04/07 10:28:11 WARN MemoryStore: Not enough space to cache rdd_1793_6 in memory! (computed 11.7 MiB so far)\n",
      "24/04/07 10:28:40 WARN MemoryStore: Not enough space to cache rdd_1793_6 in memory! (computed 11.7 MiB so far)\n",
      "24/04/07 10:29:12 WARN MemoryStore: Not enough space to cache rdd_1793_6 in memory! (computed 11.7 MiB so far)\n",
      "24/04/07 10:29:40 WARN MemoryStore: Not enough space to cache rdd_1793_6 in memory! (computed 11.7 MiB so far)\n",
      "24/04/07 10:30:09 WARN MemoryStore: Not enough space to cache rdd_1793_6 in memory! (computed 11.7 MiB so far)\n",
      "24/04/07 10:30:36 WARN MemoryStore: Not enough space to cache rdd_1793_6 in memory! (computed 11.7 MiB so far)\n",
      "24/04/07 10:31:04 WARN MemoryStore: Not enough space to cache rdd_1793_6 in memory! (computed 11.7 MiB so far)\n",
      "24/04/07 10:31:32 WARN MemoryStore: Not enough space to cache rdd_1793_6 in memory! (computed 11.7 MiB so far)\n",
      "24/04/07 10:32:00 WARN MemoryStore: Not enough space to cache rdd_1793_6 in memory! (computed 11.7 MiB so far)\n",
      "24/04/07 10:32:27 WARN MemoryStore: Not enough space to cache rdd_1793_6 in memory! (computed 11.7 MiB so far)\n",
      "24/04/07 10:32:55 WARN MemoryStore: Not enough space to cache rdd_1793_6 in memory! (computed 11.7 MiB so far)\n",
      "24/04/07 10:33:28 WARN MemoryStore: Not enough space to cache rdd_1793_6 in memory! (computed 11.7 MiB so far)\n",
      "24/04/07 10:33:57 WARN MemoryStore: Not enough space to cache rdd_1793_6 in memory! (computed 11.7 MiB so far)\n",
      "24/04/07 10:34:29 WARN MemoryStore: Not enough space to cache rdd_1793_6 in memory! (computed 11.7 MiB so far)\n",
      "24/04/07 10:34:58 WARN MemoryStore: Not enough space to cache rdd_1793_6 in memory! (computed 11.7 MiB so far)\n",
      "24/04/07 10:35:27 WARN MemoryStore: Not enough space to cache rdd_1793_6 in memory! (computed 11.7 MiB so far)\n",
      "24/04/07 10:35:55 WARN MemoryStore: Not enough space to cache rdd_1793_6 in memory! (computed 11.7 MiB so far)\n",
      "24/04/07 10:36:24 WARN MemoryStore: Not enough space to cache rdd_1793_6 in memory! (computed 11.7 MiB so far)\n",
      "24/04/07 10:36:56 WARN MemoryStore: Not enough space to cache rdd_1793_6 in memory! (computed 11.7 MiB so far)\n",
      "24/04/07 10:37:25 WARN MemoryStore: Not enough space to cache rdd_1793_6 in memory! (computed 11.7 MiB so far)\n",
      "24/04/07 10:37:53 WARN MemoryStore: Not enough space to cache rdd_1793_6 in memory! (computed 11.7 MiB so far)\n",
      "24/04/07 10:38:23 WARN MemoryStore: Not enough space to cache rdd_1793_6 in memory! (computed 11.7 MiB so far)\n",
      "24/04/07 10:38:51 WARN MemoryStore: Not enough space to cache rdd_1793_6 in memory! (computed 11.7 MiB so far)\n",
      "24/04/07 10:39:19 WARN MemoryStore: Not enough space to cache rdd_1793_6 in memory! (computed 11.7 MiB so far)\n",
      "24/04/07 10:39:50 WARN MemoryStore: Not enough space to cache rdd_1793_6 in memory! (computed 11.7 MiB so far)\n",
      "24/04/07 10:40:18 WARN MemoryStore: Not enough space to cache rdd_1793_6 in memory! (computed 11.7 MiB so far)\n",
      "24/04/07 10:40:48 WARN MemoryStore: Not enough space to cache rdd_1793_6 in memory! (computed 11.7 MiB so far)\n",
      "24/04/07 10:41:15 WARN MemoryStore: Not enough space to cache rdd_1793_6 in memory! (computed 11.7 MiB so far)\n",
      "24/04/07 10:41:43 WARN MemoryStore: Not enough space to cache rdd_1793_6 in memory! (computed 11.7 MiB so far)\n",
      "24/04/07 10:42:11 WARN MemoryStore: Not enough space to cache rdd_1793_6 in memory! (computed 11.7 MiB so far)\n",
      "24/04/07 10:42:39 WARN MemoryStore: Not enough space to cache rdd_1793_6 in memory! (computed 11.7 MiB so far)\n",
      "24/04/07 10:43:06 WARN MemoryStore: Not enough space to cache rdd_1793_6 in memory! (computed 11.7 MiB so far)\n",
      "24/04/07 10:43:35 WARN MemoryStore: Not enough space to cache rdd_1793_6 in memory! (computed 11.7 MiB so far)\n",
      "24/04/07 10:44:04 WARN MemoryStore: Not enough space to cache rdd_1793_6 in memory! (computed 11.7 MiB so far)\n",
      "24/04/07 10:44:32 WARN MemoryStore: Not enough space to cache rdd_1793_6 in memory! (computed 11.7 MiB so far)\n",
      "24/04/07 10:45:02 WARN MemoryStore: Not enough space to cache rdd_1793_6 in memory! (computed 11.7 MiB so far)\n",
      "24/04/07 10:45:32 WARN MemoryStore: Not enough space to cache rdd_1793_6 in memory! (computed 11.7 MiB so far)\n",
      "24/04/07 10:46:02 WARN MemoryStore: Not enough space to cache rdd_1793_6 in memory! (computed 11.7 MiB so far)\n",
      "24/04/07 10:46:30 WARN MemoryStore: Not enough space to cache rdd_1793_6 in memory! (computed 11.7 MiB so far)\n",
      "24/04/07 10:46:59 WARN MemoryStore: Not enough space to cache rdd_1793_6 in memory! (computed 11.7 MiB so far)\n",
      "24/04/07 10:47:28 WARN MemoryStore: Not enough space to cache rdd_1793_6 in memory! (computed 11.7 MiB so far)\n",
      "24/04/07 10:47:55 WARN MemoryStore: Not enough space to cache rdd_1793_6 in memory! (computed 11.7 MiB so far)\n",
      "24/04/07 10:48:23 WARN MemoryStore: Not enough space to cache rdd_1793_6 in memory! (computed 11.7 MiB so far)\n",
      "24/04/07 10:48:51 WARN MemoryStore: Not enough space to cache rdd_1793_6 in memory! (computed 11.7 MiB so far)\n",
      "24/04/07 10:49:20 WARN MemoryStore: Not enough space to cache rdd_1793_6 in memory! (computed 11.7 MiB so far)\n",
      "24/04/07 10:49:48 WARN MemoryStore: Not enough space to cache rdd_1793_6 in memory! (computed 11.7 MiB so far)\n",
      "24/04/07 10:50:20 WARN MemoryStore: Not enough space to cache rdd_1793_6 in memory! (computed 11.7 MiB so far)\n",
      "24/04/07 10:50:48 WARN MemoryStore: Not enough space to cache rdd_1793_6 in memory! (computed 11.7 MiB so far)\n",
      "24/04/07 10:51:15 WARN MemoryStore: Not enough space to cache rdd_1793_6 in memory! (computed 11.7 MiB so far)\n",
      "24/04/07 10:51:45 WARN MemoryStore: Not enough space to cache rdd_1793_6 in memory! (computed 11.7 MiB so far)\n",
      "24/04/07 10:52:15 WARN MemoryStore: Not enough space to cache rdd_1793_6 in memory! (computed 11.7 MiB so far)\n",
      "24/04/07 10:52:42 WARN MemoryStore: Not enough space to cache rdd_1793_6 in memory! (computed 11.7 MiB so far)\n",
      "24/04/07 10:53:10 WARN MemoryStore: Not enough space to cache rdd_1793_6 in memory! (computed 11.7 MiB so far)\n",
      "24/04/07 10:53:41 WARN MemoryStore: Not enough space to cache rdd_1793_6 in memory! (computed 11.7 MiB so far)\n",
      "24/04/07 10:54:14 WARN MemoryStore: Not enough space to cache rdd_1793_6 in memory! (computed 11.7 MiB so far)\n",
      "24/04/07 10:54:43 WARN MemoryStore: Not enough space to cache rdd_1793_6 in memory! (computed 11.7 MiB so far)\n",
      "24/04/07 10:55:15 WARN MemoryStore: Not enough space to cache rdd_1793_6 in memory! (computed 11.7 MiB so far)\n",
      "24/04/07 10:55:46 WARN MemoryStore: Not enough space to cache rdd_1793_6 in memory! (computed 11.7 MiB so far)\n",
      "24/04/07 10:56:14 WARN MemoryStore: Not enough space to cache rdd_1793_6 in memory! (computed 11.7 MiB so far)\n",
      "24/04/07 10:56:41 WARN MemoryStore: Not enough space to cache rdd_1793_6 in memory! (computed 11.7 MiB so far)\n",
      "24/04/07 10:57:09 WARN MemoryStore: Not enough space to cache rdd_1793_6 in memory! (computed 11.7 MiB so far)\n",
      "24/04/07 10:57:35 WARN MemoryStore: Not enough space to cache rdd_1793_6 in memory! (computed 11.7 MiB so far)\n",
      "24/04/07 10:58:03 WARN MemoryStore: Not enough space to cache rdd_1793_6 in memory! (computed 11.7 MiB so far)\n",
      "24/04/07 10:58:32 WARN MemoryStore: Not enough space to cache rdd_1793_6 in memory! (computed 11.7 MiB so far)\n",
      "24/04/07 10:58:59 WARN MemoryStore: Not enough space to cache rdd_1793_6 in memory! (computed 11.7 MiB so far)\n",
      "24/04/07 10:59:27 WARN MemoryStore: Not enough space to cache rdd_1793_6 in memory! (computed 11.7 MiB so far)\n",
      "24/04/07 10:59:54 WARN MemoryStore: Not enough space to cache rdd_1793_6 in memory! (computed 11.7 MiB so far)\n",
      "24/04/07 11:00:22 WARN MemoryStore: Not enough space to cache rdd_1793_6 in memory! (computed 11.7 MiB so far)\n",
      "24/04/07 11:00:52 WARN MemoryStore: Not enough space to cache rdd_1793_6 in memory! (computed 11.7 MiB so far)\n",
      "24/04/07 11:01:20 WARN MemoryStore: Not enough space to cache rdd_1793_6 in memory! (computed 11.7 MiB so far)\n",
      "24/04/07 11:01:47 WARN MemoryStore: Not enough space to cache rdd_1793_6 in memory! (computed 11.7 MiB so far)\n",
      "24/04/07 11:02:14 WARN MemoryStore: Not enough space to cache rdd_1793_6 in memory! (computed 11.7 MiB so far)\n",
      "24/04/07 11:02:43 WARN MemoryStore: Not enough space to cache rdd_1793_6 in memory! (computed 11.7 MiB so far)\n",
      "24/04/07 11:03:10 WARN MemoryStore: Not enough space to cache rdd_1793_6 in memory! (computed 11.7 MiB so far)\n",
      "24/04/07 11:03:38 WARN MemoryStore: Not enough space to cache rdd_1793_6 in memory! (computed 11.7 MiB so far)\n",
      "24/04/07 11:04:06 WARN MemoryStore: Not enough space to cache rdd_1793_6 in memory! (computed 11.7 MiB so far)\n",
      "24/04/07 11:04:35 WARN MemoryStore: Not enough space to cache rdd_1793_6 in memory! (computed 11.7 MiB so far)\n",
      "24/04/07 11:05:03 WARN MemoryStore: Not enough space to cache rdd_1793_6 in memory! (computed 11.7 MiB so far)\n",
      "24/04/07 11:05:32 WARN MemoryStore: Not enough space to cache rdd_1793_6 in memory! (computed 11.7 MiB so far)\n",
      "24/04/07 11:06:02 WARN MemoryStore: Not enough space to cache rdd_1793_6 in memory! (computed 11.7 MiB so far)\n",
      "24/04/07 11:06:31 WARN MemoryStore: Not enough space to cache rdd_1793_6 in memory! (computed 11.7 MiB so far)\n",
      "24/04/07 11:06:59 WARN MemoryStore: Not enough space to cache rdd_1793_6 in memory! (computed 11.7 MiB so far)\n",
      "24/04/07 11:07:29 WARN MemoryStore: Not enough space to cache rdd_1793_6 in memory! (computed 11.7 MiB so far)\n",
      "24/04/07 11:07:57 WARN MemoryStore: Not enough space to cache rdd_1793_6 in memory! (computed 11.7 MiB so far)\n",
      "24/04/07 11:08:25 WARN MemoryStore: Not enough space to cache rdd_1793_6 in memory! (computed 11.7 MiB so far)\n",
      "24/04/07 11:08:56 WARN MemoryStore: Not enough space to cache rdd_1793_6 in memory! (computed 11.7 MiB so far)\n",
      "24/04/07 11:09:27 WARN MemoryStore: Not enough space to cache rdd_1793_6 in memory! (computed 11.7 MiB so far)\n",
      "24/04/07 11:09:55 WARN MemoryStore: Not enough space to cache rdd_1793_6 in memory! (computed 11.7 MiB so far)\n",
      "24/04/07 11:10:21 WARN MemoryStore: Not enough space to cache rdd_1793_6 in memory! (computed 11.7 MiB so far)\n",
      "24/04/07 11:10:50 WARN MemoryStore: Not enough space to cache rdd_1793_6 in memory! (computed 11.7 MiB so far)\n",
      "24/04/07 11:11:20 WARN MemoryStore: Not enough space to cache rdd_1793_6 in memory! (computed 11.7 MiB so far)\n",
      "24/04/07 11:11:48 WARN MemoryStore: Not enough space to cache rdd_1793_6 in memory! (computed 11.7 MiB so far)\n",
      "24/04/07 11:12:16 WARN MemoryStore: Not enough space to cache rdd_1793_6 in memory! (computed 11.7 MiB so far)\n",
      "24/04/07 11:12:44 WARN MemoryStore: Not enough space to cache rdd_1793_6 in memory! (computed 11.7 MiB so far)\n",
      "24/04/07 11:13:12 WARN MemoryStore: Not enough space to cache rdd_1793_6 in memory! (computed 11.7 MiB so far)\n",
      "24/04/07 11:13:40 WARN MemoryStore: Not enough space to cache rdd_1793_6 in memory! (computed 11.7 MiB so far)\n",
      "24/04/07 11:14:08 WARN MemoryStore: Not enough space to cache rdd_1793_6 in memory! (computed 11.7 MiB so far)\n"
     ]
    },
    {
     "name": "stderr",
     "output_type": "stream",
     "text": [
      "24/04/07 11:14:36 WARN MemoryStore: Not enough space to cache rdd_1793_6 in memory! (computed 11.7 MiB so far)\n",
      "24/04/07 11:15:03 WARN MemoryStore: Not enough space to cache rdd_1793_6 in memory! (computed 11.7 MiB so far)\n",
      "24/04/07 11:15:32 WARN MemoryStore: Not enough space to cache rdd_1793_6 in memory! (computed 11.7 MiB so far)\n",
      "24/04/07 11:16:01 WARN MemoryStore: Not enough space to cache rdd_1793_6 in memory! (computed 11.7 MiB so far)\n",
      "24/04/07 11:16:33 WARN MemoryStore: Not enough space to cache rdd_1793_6 in memory! (computed 11.7 MiB so far)\n",
      "24/04/07 11:17:01 WARN MemoryStore: Not enough space to cache rdd_1793_6 in memory! (computed 11.7 MiB so far)\n",
      "24/04/07 11:17:29 WARN MemoryStore: Not enough space to cache rdd_1793_6 in memory! (computed 11.7 MiB so far)\n",
      "24/04/07 11:17:57 WARN MemoryStore: Not enough space to cache rdd_1793_6 in memory! (computed 11.7 MiB so far)\n",
      "24/04/07 11:18:27 WARN MemoryStore: Not enough space to cache rdd_1793_6 in memory! (computed 11.7 MiB so far)\n",
      "24/04/07 11:18:53 WARN MemoryStore: Not enough space to cache rdd_1793_6 in memory! (computed 11.7 MiB so far)\n",
      "24/04/07 11:19:23 WARN MemoryStore: Not enough space to cache rdd_1793_6 in memory! (computed 11.7 MiB so far)\n",
      "24/04/07 11:19:51 WARN MemoryStore: Not enough space to cache rdd_1793_6 in memory! (computed 11.7 MiB so far)\n",
      "24/04/07 11:20:20 WARN MemoryStore: Not enough space to cache rdd_1793_6 in memory! (computed 11.7 MiB so far)\n",
      "24/04/07 11:20:48 WARN MemoryStore: Not enough space to cache rdd_1793_6 in memory! (computed 11.7 MiB so far)\n",
      "24/04/07 11:21:16 WARN MemoryStore: Not enough space to cache rdd_1793_6 in memory! (computed 11.7 MiB so far)\n",
      "24/04/07 11:21:47 WARN MemoryStore: Not enough space to cache rdd_1793_6 in memory! (computed 11.7 MiB so far)\n",
      "24/04/07 11:22:14 WARN MemoryStore: Not enough space to cache rdd_1793_6 in memory! (computed 11.7 MiB so far)\n",
      "24/04/07 11:22:43 WARN MemoryStore: Not enough space to cache rdd_1793_6 in memory! (computed 11.7 MiB so far)\n",
      "24/04/07 11:23:13 WARN MemoryStore: Not enough space to cache rdd_1793_6 in memory! (computed 11.7 MiB so far)\n",
      "24/04/07 11:23:42 WARN MemoryStore: Not enough space to cache rdd_1793_6 in memory! (computed 11.7 MiB so far)\n",
      "24/04/07 11:24:09 WARN MemoryStore: Not enough space to cache rdd_1793_6 in memory! (computed 11.7 MiB so far)\n",
      "24/04/07 11:24:38 WARN MemoryStore: Not enough space to cache rdd_1793_6 in memory! (computed 11.7 MiB so far)\n",
      "24/04/07 11:25:05 WARN MemoryStore: Not enough space to cache rdd_1793_6 in memory! (computed 11.7 MiB so far)\n",
      "24/04/07 11:25:34 WARN MemoryStore: Not enough space to cache rdd_1793_6 in memory! (computed 11.7 MiB so far)\n",
      "24/04/07 11:26:03 WARN MemoryStore: Not enough space to cache rdd_1793_6 in memory! (computed 11.7 MiB so far)\n",
      "24/04/07 11:26:32 WARN MemoryStore: Not enough space to cache rdd_1793_6 in memory! (computed 11.7 MiB so far)\n",
      "24/04/07 11:26:59 WARN MemoryStore: Not enough space to cache rdd_1793_6 in memory! (computed 11.7 MiB so far)\n",
      "24/04/07 11:27:27 WARN MemoryStore: Not enough space to cache rdd_1793_6 in memory! (computed 11.7 MiB so far)\n",
      "24/04/07 11:27:56 WARN MemoryStore: Not enough space to cache rdd_1793_6 in memory! (computed 11.7 MiB so far)\n",
      "24/04/07 11:28:24 WARN MemoryStore: Not enough space to cache rdd_1793_6 in memory! (computed 11.7 MiB so far)\n",
      "24/04/07 11:28:51 WARN MemoryStore: Not enough space to cache rdd_1793_6 in memory! (computed 11.7 MiB so far)\n",
      "24/04/07 11:29:19 WARN MemoryStore: Not enough space to cache rdd_1793_6 in memory! (computed 11.7 MiB so far)\n",
      "24/04/07 11:29:47 WARN MemoryStore: Not enough space to cache rdd_1793_6 in memory! (computed 11.7 MiB so far)\n",
      "24/04/07 11:30:15 WARN MemoryStore: Not enough space to cache rdd_1793_6 in memory! (computed 11.7 MiB so far)\n",
      "24/04/07 11:30:43 WARN MemoryStore: Not enough space to cache rdd_1793_6 in memory! (computed 11.7 MiB so far)\n",
      "24/04/07 11:31:11 WARN MemoryStore: Not enough space to cache rdd_1793_6 in memory! (computed 11.7 MiB so far)\n",
      "24/04/07 11:31:39 WARN MemoryStore: Not enough space to cache rdd_1793_6 in memory! (computed 11.7 MiB so far)\n",
      "24/04/07 11:32:09 WARN MemoryStore: Not enough space to cache rdd_1793_6 in memory! (computed 11.7 MiB so far)\n",
      "24/04/07 11:32:30 ERROR LBFGS: Failure! Resetting history: breeze.optimize.FirstOrderException: Line search zoom failed\n",
      "24/04/07 11:32:37 WARN MemoryStore: Not enough space to cache rdd_1793_6 in memory! (computed 11.7 MiB so far)\n",
      "24/04/07 11:33:05 WARN MemoryStore: Not enough space to cache rdd_1793_6 in memory! (computed 11.7 MiB so far)\n",
      "24/04/07 11:33:33 WARN MemoryStore: Not enough space to cache rdd_1793_6 in memory! (computed 11.7 MiB so far)\n",
      "24/04/07 11:34:01 WARN MemoryStore: Not enough space to cache rdd_1793_6 in memory! (computed 11.7 MiB so far)\n",
      "24/04/07 11:34:28 WARN MemoryStore: Not enough space to cache rdd_1793_6 in memory! (computed 11.7 MiB so far)\n",
      "24/04/07 11:34:58 WARN MemoryStore: Not enough space to cache rdd_1793_6 in memory! (computed 11.7 MiB so far)\n",
      "24/04/07 11:35:30 WARN MemoryStore: Not enough space to cache rdd_1793_6 in memory! (computed 11.7 MiB so far)\n",
      "24/04/07 11:35:59 WARN MemoryStore: Not enough space to cache rdd_1793_6 in memory! (computed 11.7 MiB so far)\n",
      "24/04/07 11:36:28 WARN MemoryStore: Not enough space to cache rdd_1793_6 in memory! (computed 11.7 MiB so far)\n",
      "24/04/07 11:36:56 WARN MemoryStore: Not enough space to cache rdd_1793_6 in memory! (computed 11.7 MiB so far)\n",
      "24/04/07 11:37:25 WARN MemoryStore: Not enough space to cache rdd_1793_6 in memory! (computed 11.7 MiB so far)\n",
      "24/04/07 11:37:53 WARN MemoryStore: Not enough space to cache rdd_1793_6 in memory! (computed 11.7 MiB so far)\n",
      "24/04/07 11:38:23 WARN MemoryStore: Not enough space to cache rdd_1793_6 in memory! (computed 11.7 MiB so far)\n",
      "24/04/07 11:38:50 WARN MemoryStore: Not enough space to cache rdd_1793_6 in memory! (computed 11.7 MiB so far)\n",
      "24/04/07 11:39:18 WARN MemoryStore: Not enough space to cache rdd_1793_6 in memory! (computed 11.7 MiB so far)\n",
      "24/04/07 11:39:46 WARN MemoryStore: Not enough space to cache rdd_1793_6 in memory! (computed 11.7 MiB so far)\n",
      "24/04/07 11:40:17 WARN MemoryStore: Not enough space to cache rdd_1793_6 in memory! (computed 11.7 MiB so far)\n",
      "24/04/07 11:40:45 WARN MemoryStore: Not enough space to cache rdd_1793_6 in memory! (computed 11.7 MiB so far)\n",
      "24/04/07 11:41:12 WARN MemoryStore: Not enough space to cache rdd_1793_6 in memory! (computed 11.7 MiB so far)\n",
      "24/04/07 11:41:40 WARN MemoryStore: Not enough space to cache rdd_1793_6 in memory! (computed 11.7 MiB so far)\n",
      "24/04/07 11:42:09 WARN MemoryStore: Not enough space to cache rdd_1793_6 in memory! (computed 11.7 MiB so far)\n",
      "24/04/07 11:42:38 WARN MemoryStore: Not enough space to cache rdd_1793_6 in memory! (computed 11.7 MiB so far)\n",
      "24/04/07 11:43:05 WARN MemoryStore: Not enough space to cache rdd_1793_6 in memory! (computed 11.7 MiB so far)\n",
      "24/04/07 11:43:33 WARN MemoryStore: Not enough space to cache rdd_1793_6 in memory! (computed 11.7 MiB so far)\n",
      "24/04/07 11:44:01 WARN MemoryStore: Not enough space to cache rdd_1793_6 in memory! (computed 11.7 MiB so far)\n",
      "24/04/07 11:44:29 WARN MemoryStore: Not enough space to cache rdd_1793_6 in memory! (computed 11.7 MiB so far)\n",
      "24/04/07 11:44:55 WARN MemoryStore: Not enough space to cache rdd_1793_6 in memory! (computed 11.7 MiB so far)\n",
      "24/04/07 11:45:25 WARN MemoryStore: Not enough space to cache rdd_1793_6 in memory! (computed 11.7 MiB so far)\n",
      "24/04/07 11:45:53 WARN MemoryStore: Not enough space to cache rdd_1793_6 in memory! (computed 11.7 MiB so far)\n",
      "24/04/07 11:46:22 WARN MemoryStore: Not enough space to cache rdd_1793_6 in memory! (computed 11.7 MiB so far)\n",
      "24/04/07 11:46:50 WARN MemoryStore: Not enough space to cache rdd_1793_6 in memory! (computed 11.7 MiB so far)\n",
      "24/04/07 11:47:17 WARN MemoryStore: Not enough space to cache rdd_1793_6 in memory! (computed 11.7 MiB so far)\n",
      "24/04/07 11:47:46 WARN MemoryStore: Not enough space to cache rdd_1793_6 in memory! (computed 11.7 MiB so far)\n",
      "24/04/07 11:48:14 WARN MemoryStore: Not enough space to cache rdd_1793_6 in memory! (computed 11.7 MiB so far)\n",
      "24/04/07 11:48:42 WARN MemoryStore: Not enough space to cache rdd_1793_6 in memory! (computed 11.7 MiB so far)\n",
      "24/04/07 11:49:11 WARN MemoryStore: Not enough space to cache rdd_1793_6 in memory! (computed 11.7 MiB so far)\n",
      "24/04/07 11:49:40 WARN MemoryStore: Not enough space to cache rdd_1793_6 in memory! (computed 11.7 MiB so far)\n",
      "24/04/07 11:50:08 WARN MemoryStore: Not enough space to cache rdd_1793_6 in memory! (computed 11.7 MiB so far)\n",
      "24/04/07 11:50:36 WARN MemoryStore: Not enough space to cache rdd_1793_6 in memory! (computed 11.7 MiB so far)\n",
      "24/04/07 11:51:04 WARN MemoryStore: Not enough space to cache rdd_1793_6 in memory! (computed 11.7 MiB so far)\n",
      "24/04/07 11:51:31 WARN MemoryStore: Not enough space to cache rdd_1793_6 in memory! (computed 11.7 MiB so far)\n",
      "24/04/07 11:51:58 WARN MemoryStore: Not enough space to cache rdd_1793_6 in memory! (computed 11.7 MiB so far)\n",
      "24/04/07 11:52:26 WARN MemoryStore: Not enough space to cache rdd_1793_6 in memory! (computed 11.7 MiB so far)\n",
      "24/04/07 11:52:55 WARN MemoryStore: Not enough space to cache rdd_1793_6 in memory! (computed 11.7 MiB so far)\n",
      "24/04/07 11:53:25 WARN MemoryStore: Not enough space to cache rdd_1793_6 in memory! (computed 11.7 MiB so far)\n",
      "24/04/07 11:53:55 WARN MemoryStore: Not enough space to cache rdd_1793_6 in memory! (computed 11.7 MiB so far)\n",
      "24/04/07 11:54:22 WARN MemoryStore: Not enough space to cache rdd_1793_6 in memory! (computed 11.7 MiB so far)\n",
      "24/04/07 11:54:51 WARN MemoryStore: Not enough space to cache rdd_1793_6 in memory! (computed 11.7 MiB so far)\n",
      "24/04/07 11:55:21 WARN MemoryStore: Not enough space to cache rdd_1793_6 in memory! (computed 11.7 MiB so far)\n",
      "24/04/07 11:55:49 WARN MemoryStore: Not enough space to cache rdd_1793_6 in memory! (computed 11.7 MiB so far)\n",
      "24/04/07 11:56:17 WARN MemoryStore: Not enough space to cache rdd_1793_6 in memory! (computed 11.7 MiB so far)\n",
      "24/04/07 11:56:45 WARN MemoryStore: Not enough space to cache rdd_1793_6 in memory! (computed 11.7 MiB so far)\n",
      "24/04/07 11:57:12 WARN MemoryStore: Not enough space to cache rdd_1793_6 in memory! (computed 11.7 MiB so far)\n",
      "24/04/07 11:57:39 WARN MemoryStore: Not enough space to cache rdd_1793_6 in memory! (computed 11.7 MiB so far)\n",
      "24/04/07 11:58:08 WARN MemoryStore: Not enough space to cache rdd_1793_6 in memory! (computed 11.7 MiB so far)\n",
      "24/04/07 11:58:37 WARN MemoryStore: Not enough space to cache rdd_1793_6 in memory! (computed 11.7 MiB so far)\n",
      "24/04/07 11:59:06 WARN MemoryStore: Not enough space to cache rdd_1793_6 in memory! (computed 11.7 MiB so far)\n",
      "24/04/07 11:59:34 WARN MemoryStore: Not enough space to cache rdd_1793_6 in memory! (computed 11.7 MiB so far)\n",
      "24/04/07 12:00:02 WARN MemoryStore: Not enough space to cache rdd_1793_6 in memory! (computed 11.7 MiB so far)\n",
      "24/04/07 12:00:30 WARN MemoryStore: Not enough space to cache rdd_1793_6 in memory! (computed 11.7 MiB so far)\n",
      "24/04/07 12:00:57 WARN MemoryStore: Not enough space to cache rdd_1793_6 in memory! (computed 11.7 MiB so far)\n",
      "24/04/07 12:01:26 WARN MemoryStore: Not enough space to cache rdd_1793_6 in memory! (computed 11.7 MiB so far)\n",
      "24/04/07 12:01:55 WARN MemoryStore: Not enough space to cache rdd_1793_6 in memory! (computed 11.7 MiB so far)\n",
      "24/04/07 12:02:23 WARN MemoryStore: Not enough space to cache rdd_1793_6 in memory! (computed 11.7 MiB so far)\n",
      "24/04/07 12:02:51 WARN MemoryStore: Not enough space to cache rdd_1793_6 in memory! (computed 11.7 MiB so far)\n",
      "24/04/07 12:03:19 WARN MemoryStore: Not enough space to cache rdd_1793_6 in memory! (computed 11.7 MiB so far)\n",
      "24/04/07 12:03:47 WARN MemoryStore: Not enough space to cache rdd_1793_6 in memory! (computed 11.7 MiB so far)\n",
      "24/04/07 12:04:17 WARN MemoryStore: Not enough space to cache rdd_1793_6 in memory! (computed 11.7 MiB so far)\n",
      "24/04/07 12:04:46 WARN MemoryStore: Not enough space to cache rdd_1793_6 in memory! (computed 11.7 MiB so far)\n",
      "24/04/07 12:05:15 WARN MemoryStore: Not enough space to cache rdd_1793_6 in memory! (computed 11.7 MiB so far)\n",
      "24/04/07 12:05:44 WARN MemoryStore: Not enough space to cache rdd_1793_6 in memory! (computed 11.7 MiB so far)\n",
      "24/04/07 12:06:12 WARN MemoryStore: Not enough space to cache rdd_1793_6 in memory! (computed 11.7 MiB so far)\n",
      "24/04/07 12:06:39 WARN MemoryStore: Not enough space to cache rdd_1793_6 in memory! (computed 11.7 MiB so far)\n",
      "24/04/07 12:07:06 WARN MemoryStore: Not enough space to cache rdd_1793_6 in memory! (computed 11.7 MiB so far)\n",
      "24/04/07 12:07:34 WARN MemoryStore: Not enough space to cache rdd_1793_6 in memory! (computed 11.7 MiB so far)\n",
      "24/04/07 12:08:00 WARN MemoryStore: Not enough space to cache rdd_1793_6 in memory! (computed 11.7 MiB so far)\n",
      "24/04/07 12:08:28 WARN MemoryStore: Not enough space to cache rdd_1793_6 in memory! (computed 11.7 MiB so far)\n",
      "24/04/07 12:09:00 WARN MemoryStore: Not enough space to cache rdd_1793_6 in memory! (computed 11.7 MiB so far)\n",
      "24/04/07 12:09:31 WARN MemoryStore: Not enough space to cache rdd_1793_6 in memory! (computed 11.7 MiB so far)\n",
      "24/04/07 12:09:59 WARN MemoryStore: Not enough space to cache rdd_1793_6 in memory! (computed 11.7 MiB so far)\n",
      "24/04/07 12:10:29 WARN MemoryStore: Not enough space to cache rdd_1793_6 in memory! (computed 11.7 MiB so far)\n",
      "24/04/07 12:10:56 WARN MemoryStore: Not enough space to cache rdd_1793_6 in memory! (computed 11.7 MiB so far)\n",
      "24/04/07 12:11:25 WARN MemoryStore: Not enough space to cache rdd_1793_6 in memory! (computed 11.7 MiB so far)\n",
      "24/04/07 12:11:53 WARN MemoryStore: Not enough space to cache rdd_1793_6 in memory! (computed 11.7 MiB so far)\n",
      "24/04/07 12:12:22 WARN MemoryStore: Not enough space to cache rdd_1793_6 in memory! (computed 11.7 MiB so far)\n",
      "24/04/07 12:12:50 WARN MemoryStore: Not enough space to cache rdd_1793_6 in memory! (computed 11.7 MiB so far)\n",
      "24/04/07 12:13:17 WARN MemoryStore: Not enough space to cache rdd_1793_6 in memory! (computed 11.7 MiB so far)\n",
      "24/04/07 12:13:45 WARN MemoryStore: Not enough space to cache rdd_1793_6 in memory! (computed 11.7 MiB so far)\n",
      "24/04/07 12:14:13 WARN MemoryStore: Not enough space to cache rdd_1793_6 in memory! (computed 11.7 MiB so far)\n",
      "24/04/07 12:14:42 WARN MemoryStore: Not enough space to cache rdd_1793_6 in memory! (computed 11.7 MiB so far)\n",
      "24/04/07 12:15:10 WARN MemoryStore: Not enough space to cache rdd_1793_6 in memory! (computed 11.7 MiB so far)\n",
      "24/04/07 12:15:37 WARN MemoryStore: Not enough space to cache rdd_1793_6 in memory! (computed 11.7 MiB so far)\n",
      "24/04/07 12:16:07 WARN MemoryStore: Not enough space to cache rdd_1793_6 in memory! (computed 11.7 MiB so far)\n",
      "24/04/07 12:16:34 WARN MemoryStore: Not enough space to cache rdd_1793_6 in memory! (computed 11.7 MiB so far)\n",
      "24/04/07 12:17:02 WARN MemoryStore: Not enough space to cache rdd_1793_6 in memory! (computed 11.7 MiB so far)\n",
      "                                                                                \r"
     ]
    },
    {
     "name": "stdout",
     "output_type": "stream",
     "text": [
      "+--------------------+-----+--------------------+\n",
      "|         Instruction|Count|         AverageTime|\n",
      "+--------------------+-----+--------------------+\n",
      "|           Data Load|    1|   41.91358709335327|\n",
      "|   Files Enumeration|    1|  0.1537766456604004|\n",
      "|        Data Summary|    1|0.014063119888305664|\n",
      "|   Data Distribution|    1|  220.38567852973938|\n",
      "|         Rows number|    1|   3.568094491958618|\n",
      "|      Missing Values|    1|   385.2225694656372|\n",
      "|Total number of c...|    1|8.337497711181641E-4|\n",
      "|       Data labeling|    1| 0.04415130615234375|\n",
      "|          Split data|    1| 0.06647634506225586|\n",
      "|Feature transform...|    1|  0.7770123481750488|\n",
      "|ML_model_DDoS_det...|    1|   255.8777415752411|\n",
      "|Feature transform...|    1| 0.13527297973632812|\n",
      "|   ML_model_Features|    1|  209.25959300994873|\n",
      "| feature_sort_values|    1|  0.8401956558227539|\n",
      "|   selected_features|    1|1.120567321777343...|\n",
      "|Feature transform...|    1| 0.16662883758544922|\n",
      "|      Train NN model|    1|   7963.170134305954|\n",
      "+--------------------+-----+--------------------+\n",
      "\n"
     ]
    },
    {
     "name": "stderr",
     "output_type": "stream",
     "text": [
      "                                                                                \r"
     ]
    }
   ],
   "source": [
    "# Start time\n",
    "start_time = time.time()\n",
    "\n",
    "# Define the layers for the neural network\n",
    "output_size = 2  # Binary classification\n",
    "layers = [input_size, 64, 32, output_size]  # Example: 3 hidden layers with 64, 32, and output_size neurons respectively\n",
    "\n",
    "# Create the MultilayerPerceptronClassifier\n",
    "mlp = MultilayerPerceptronClassifier(layers=layers, seed=1234, labelCol='label', featuresCol='feat')\n",
    "# Fit the model using the training data\n",
    "mlp_model = mlp.fit(train_data)\n",
    "\n",
    "print_execution_time(start_time, 'Train NN model') "
   ]
  },
  {
   "cell_type": "markdown",
   "id": "a75de1e5",
   "metadata": {},
   "source": [
    "<a class=\"anchor\" id=\"5.5\"></a>\n",
    "## 5.4 Assess the result\n",
    "[Back to Table of Contents](#0.1)"
   ]
  },
  {
   "cell_type": "code",
   "execution_count": 27,
   "id": "aa102056",
   "metadata": {},
   "outputs": [
    {
     "name": "stderr",
     "output_type": "stream",
     "text": [
      "                                                                                \r"
     ]
    },
    {
     "name": "stdout",
     "output_type": "stream",
     "text": [
      "Test Accuracy: 0.9804570544560968\n"
     ]
    },
    {
     "name": "stderr",
     "output_type": "stream",
     "text": [
      "                                                                                \r"
     ]
    },
    {
     "name": "stdout",
     "output_type": "stream",
     "text": [
      "+--------------------+-----+--------------------+\n",
      "|         Instruction|Count|         AverageTime|\n",
      "+--------------------+-----+--------------------+\n",
      "|           Data Load|    1|   41.91358709335327|\n",
      "|   Files Enumeration|    1|  0.1537766456604004|\n",
      "|        Data Summary|    1|0.014063119888305664|\n",
      "|   Data Distribution|    1|  220.38567852973938|\n",
      "|         Rows number|    1|   3.568094491958618|\n",
      "|      Missing Values|    1|   385.2225694656372|\n",
      "|Total number of c...|    1|8.337497711181641E-4|\n",
      "|       Data labeling|    1| 0.04415130615234375|\n",
      "|          Split data|    1| 0.06647634506225586|\n",
      "|Feature transform...|    1|  0.7770123481750488|\n",
      "|ML_model_DDoS_det...|    1|   255.8777415752411|\n",
      "|Feature transform...|    1| 0.13527297973632812|\n",
      "|   ML_model_Features|    1|  209.25959300994873|\n",
      "| feature_sort_values|    1|  0.8401956558227539|\n",
      "|   selected_features|    1|1.120567321777343...|\n",
      "|Feature transform...|    1| 0.16662883758544922|\n",
      "|      Train NN model|    1|   7963.170134305954|\n",
      "|         MLP results|    1|   41.60221219062805|\n",
      "+--------------------+-----+--------------------+\n",
      "\n"
     ]
    },
    {
     "name": "stderr",
     "output_type": "stream",
     "text": [
      "                                                                                \r"
     ]
    }
   ],
   "source": [
    "# Start time\n",
    "start_time = time.time()\n",
    "\n",
    "# Make predictions on the test data\n",
    "predictions = mlp_model.transform(test_data)\n",
    "\n",
    "# Evaluate the model\n",
    "evaluator = MulticlassClassificationEvaluator(metricName=\"accuracy\")\n",
    "accuracy = evaluator.evaluate(predictions)\n",
    "print(\"Test Accuracy:\", accuracy)\n",
    "\n",
    "print_execution_time(start_time, 'MLP results') "
   ]
  },
  {
   "cell_type": "markdown",
   "id": "1db75274",
   "metadata": {},
   "source": [
    "### Note"
   ]
  },
  {
   "cell_type": "markdown",
   "id": "d77c3b89",
   "metadata": {},
   "source": [
    "<a class=\"anchor\" id=\"5.5\"></a>\n",
    "### *total execution time*\n",
    "[Back to Table of Contents](#0.1)"
   ]
  },
  {
   "cell_type": "code",
   "execution_count": 28,
   "id": "d034e1b2",
   "metadata": {},
   "outputs": [
    {
     "name": "stderr",
     "output_type": "stream",
     "text": [
      "\r",
      "[Stage 1168:===============================>                      (11 + 4) / 19]\r"
     ]
    },
    {
     "name": "stdout",
     "output_type": "stream",
     "text": [
      "+------------------+--------------------+\n",
      "|        stage name|total execution time|\n",
      "+------------------+--------------------+\n",
      "|Data Preprocessing|           42.067364|\n",
      "|               EDA|            651.2586|\n",
      "|    Model training|             908.024|\n",
      "|Feature importance|            1118.259|\n",
      "|    Neural network|            9123.198|\n",
      "+------------------+--------------------+\n",
      "\n"
     ]
    },
    {
     "name": "stderr",
     "output_type": "stream",
     "text": [
      "\r",
      "[Stage 1168:==========================================>           (15 + 4) / 19]\r",
      "\r",
      "                                                                                \r"
     ]
    }
   ],
   "source": [
    "# Assume you have another row of data to add\n",
    "new_row_data = [(\"Neural network\", total_average_sum)]  # Example data\n",
    "\n",
    "# Create DataFrame for the new row\n",
    "new_row_df = spark.createDataFrame(new_row_data, schema0)\n",
    "\n",
    "# Add the new row to the existing df_exec DataFrame\n",
    "df_exec = df_exec.union(new_row_df)\n",
    "\n",
    "# Show the DataFrame\n",
    "df_exec.show()"
   ]
  },
  {
   "cell_type": "code",
   "execution_count": 29,
   "id": "447989e3",
   "metadata": {},
   "outputs": [
    {
     "name": "stderr",
     "output_type": "stream",
     "text": [
      "                                                                                \r"
     ]
    }
   ],
   "source": [
    "output_path = \"hdfs://localhost:9000/user1/result.csv\"\n",
    "df_exec.write.csv(output_path, header=True, mode=\"overwrite\")"
   ]
  },
  {
   "cell_type": "code",
   "execution_count": null,
   "id": "7f59e942",
   "metadata": {},
   "outputs": [],
   "source": []
  }
 ],
 "metadata": {
  "kernelspec": {
   "display_name": "Python 3 (ipykernel)",
   "language": "python",
   "name": "python3"
  },
  "language_info": {
   "codemirror_mode": {
    "name": "ipython",
    "version": 3
   },
   "file_extension": ".py",
   "mimetype": "text/x-python",
   "name": "python",
   "nbconvert_exporter": "python",
   "pygments_lexer": "ipython3",
   "version": "3.10.12"
  }
 },
 "nbformat": 4,
 "nbformat_minor": 5
}
